{
 "cells": [
  {
   "cell_type": "code",
   "execution_count": 2,
   "metadata": {},
   "outputs": [
    {
     "name": "stdout",
     "output_type": "stream",
     "text": [
      "Requirement already satisfied: beautifulsoup4 in c:\\users\\admin\\anaconda3\\lib\\site-packages (4.9.3)\n",
      "Requirement already satisfied: soupsieve>1.2; python_version >= \"3.0\" in c:\\users\\admin\\anaconda3\\lib\\site-packages (from beautifulsoup4) (2.0.1)\n"
     ]
    }
   ],
   "source": [
    "!pip install beautifulsoup4"
   ]
  },
  {
   "cell_type": "code",
   "execution_count": 3,
   "metadata": {},
   "outputs": [
    {
     "name": "stdout",
     "output_type": "stream",
     "text": [
      "Requirement already satisfied: lxml in c:\\users\\admin\\anaconda3\\lib\\site-packages (4.6.1)\n"
     ]
    }
   ],
   "source": [
    "!pip install lxml"
   ]
  },
  {
   "cell_type": "code",
   "execution_count": 8,
   "metadata": {},
   "outputs": [],
   "source": [
    "import requests \n",
    "import re"
   ]
  },
  {
   "cell_type": "code",
   "execution_count": 6,
   "metadata": {},
   "outputs": [],
   "source": [
    "resp = requests.get(\"https://wikipedia.org/\")\n",
    "html = resp.text"
   ]
  },
  {
   "cell_type": "code",
   "execution_count": 9,
   "metadata": {},
   "outputs": [
    {
     "data": {
      "text/plain": [
       "['//commons.wikimedia.org/',\n",
       " '//www.wikivoyage.org/',\n",
       " '//www.wiktionary.org/',\n",
       " '//www.wikibooks.org/',\n",
       " '//www.wikinews.org/',\n",
       " '//www.wikidata.org/',\n",
       " '//www.wikiversity.org/',\n",
       " '//www.wikiquote.org/',\n",
       " '//www.mediawiki.org/',\n",
       " '//www.wikisource.org/',\n",
       " '//species.wikimedia.org/',\n",
       " '//meta.wikimedia.org/']"
      ]
     },
     "execution_count": 9,
     "metadata": {},
     "output_type": "execute_result"
    }
   ],
   "source": [
    "re.findall(r'a[^>]*other-project-link[^>]*href=\"([^\"]*)',html)"
   ]
  },
  {
   "cell_type": "code",
   "execution_count": 3,
   "metadata": {},
   "outputs": [],
   "source": [
    "from bs4 import BeautifulSoup"
   ]
  },
  {
   "cell_type": "code",
   "execution_count": 11,
   "metadata": {},
   "outputs": [],
   "source": [
    "soup = BeautifulSoup(html, 'lxml')"
   ]
  },
  {
   "cell_type": "code",
   "execution_count": 14,
   "metadata": {},
   "outputs": [
    {
     "data": {
      "text/plain": [
       "[<a class=\"other-project-link\" href=\"//commons.wikimedia.org/\">\n",
       " <div class=\"other-project-icon\">\n",
       " <div class=\"sprite svg-Commons-logo_sister\"></div>\n",
       " </div>\n",
       " <div class=\"other-project-text\">\n",
       " <span class=\"other-project-title jsl10n\" data-jsl10n=\"commons.name\">Commons</span>\n",
       " <span class=\"other-project-tagline jsl10n\" data-jsl10n=\"commons.slogan\">Freely usable photos &amp; more</span>\n",
       " </div>\n",
       " </a>,\n",
       " <a class=\"other-project-link\" href=\"//www.wikivoyage.org/\">\n",
       " <div class=\"other-project-icon\">\n",
       " <div class=\"sprite svg-Wikivoyage-logo_sister\"></div>\n",
       " </div>\n",
       " <div class=\"other-project-text\">\n",
       " <span class=\"other-project-title jsl10n\" data-jsl10n=\"wikivoyage.name\">Wikivoyage</span>\n",
       " <span class=\"other-project-tagline jsl10n\" data-jsl10n=\"wikivoyage.slogan\">Free travel guide</span>\n",
       " </div>\n",
       " </a>,\n",
       " <a class=\"other-project-link\" href=\"//www.wiktionary.org/\">\n",
       " <div class=\"other-project-icon\">\n",
       " <div class=\"sprite svg-Wiktionary-logo_sister\"></div>\n",
       " </div>\n",
       " <div class=\"other-project-text\">\n",
       " <span class=\"other-project-title jsl10n\" data-jsl10n=\"wiktionary.name\">Wiktionary</span>\n",
       " <span class=\"other-project-tagline jsl10n\" data-jsl10n=\"wiktionary.slogan\">Free dictionary</span>\n",
       " </div>\n",
       " </a>,\n",
       " <a class=\"other-project-link\" href=\"//www.wikibooks.org/\">\n",
       " <div class=\"other-project-icon\">\n",
       " <div class=\"sprite svg-Wikibooks-logo_sister\"></div>\n",
       " </div>\n",
       " <div class=\"other-project-text\">\n",
       " <span class=\"other-project-title jsl10n\" data-jsl10n=\"wikibooks.name\">Wikibooks</span>\n",
       " <span class=\"other-project-tagline jsl10n\" data-jsl10n=\"wikibooks.slogan\">Free textbooks</span>\n",
       " </div>\n",
       " </a>,\n",
       " <a class=\"other-project-link\" href=\"//www.wikinews.org/\">\n",
       " <div class=\"other-project-icon\">\n",
       " <div class=\"sprite svg-Wikinews-logo_sister\"></div>\n",
       " </div>\n",
       " <div class=\"other-project-text\">\n",
       " <span class=\"other-project-title jsl10n\" data-jsl10n=\"wikinews.name\">Wikinews</span>\n",
       " <span class=\"other-project-tagline jsl10n\" data-jsl10n=\"wikinews.slogan\">Free news source</span>\n",
       " </div>\n",
       " </a>,\n",
       " <a class=\"other-project-link\" href=\"//www.wikidata.org/\">\n",
       " <div class=\"other-project-icon\">\n",
       " <div class=\"sprite svg-Wikidata-logo_sister\"></div>\n",
       " </div>\n",
       " <div class=\"other-project-text\">\n",
       " <span class=\"other-project-title jsl10n\" data-jsl10n=\"wikidata.name\">Wikidata</span>\n",
       " <span class=\"other-project-tagline jsl10n\" data-jsl10n=\"wikidata.slogan\">Free knowledge base</span>\n",
       " </div>\n",
       " </a>,\n",
       " <a class=\"other-project-link\" href=\"//www.wikiversity.org/\">\n",
       " <div class=\"other-project-icon\">\n",
       " <div class=\"sprite svg-Wikiversity-logo_sister\"></div>\n",
       " </div>\n",
       " <div class=\"other-project-text\">\n",
       " <span class=\"other-project-title jsl10n\" data-jsl10n=\"wikiversity.name\">Wikiversity</span>\n",
       " <span class=\"other-project-tagline jsl10n\" data-jsl10n=\"wikiversity.slogan\">Free course materials</span>\n",
       " </div>\n",
       " </a>,\n",
       " <a class=\"other-project-link\" href=\"//www.wikiquote.org/\">\n",
       " <div class=\"other-project-icon\">\n",
       " <div class=\"sprite svg-Wikiquote-logo_sister\"></div>\n",
       " </div>\n",
       " <div class=\"other-project-text\">\n",
       " <span class=\"other-project-title jsl10n\" data-jsl10n=\"wikiquote.name\">Wikiquote</span>\n",
       " <span class=\"other-project-tagline jsl10n\" data-jsl10n=\"wikiquote.slogan\">Free quote compendium</span>\n",
       " </div>\n",
       " </a>,\n",
       " <a class=\"other-project-link\" href=\"//www.mediawiki.org/\">\n",
       " <div class=\"other-project-icon\">\n",
       " <div class=\"sprite svg-MediaWiki-logo_sister\"></div>\n",
       " </div>\n",
       " <div class=\"other-project-text\">\n",
       " <span class=\"other-project-title jsl10n\" data-jsl10n=\"mediawiki.name\">MediaWiki</span>\n",
       " <span class=\"other-project-tagline jsl10n\" data-jsl10n=\"mediawiki.slogan\">Free &amp; open wiki application</span>\n",
       " </div>\n",
       " </a>,\n",
       " <a class=\"other-project-link\" href=\"//www.wikisource.org/\">\n",
       " <div class=\"other-project-icon\">\n",
       " <div class=\"sprite svg-Wikisource-logo_sister\"></div>\n",
       " </div>\n",
       " <div class=\"other-project-text\">\n",
       " <span class=\"other-project-title jsl10n\" data-jsl10n=\"wikisource.name\">Wikisource</span>\n",
       " <span class=\"other-project-tagline jsl10n\" data-jsl10n=\"wikisource.slogan\">Free library</span>\n",
       " </div>\n",
       " </a>,\n",
       " <a class=\"other-project-link\" href=\"//species.wikimedia.org/\">\n",
       " <div class=\"other-project-icon\">\n",
       " <div class=\"sprite svg-Wikispecies-logo_sister\"></div>\n",
       " </div>\n",
       " <div class=\"other-project-text\">\n",
       " <span class=\"other-project-title jsl10n\" data-jsl10n=\"wikispecies.name\">Wikispecies</span>\n",
       " <span class=\"other-project-tagline jsl10n\" data-jsl10n=\"wikispecies.slogan\">Free species directory</span>\n",
       " </div>\n",
       " </a>,\n",
       " <a class=\"other-project-link\" href=\"//meta.wikimedia.org/\">\n",
       " <div class=\"other-project-icon\">\n",
       " <div class=\"sprite svg-Meta-Wiki-logo_sister\"></div>\n",
       " </div>\n",
       " <div class=\"other-project-text\">\n",
       " <span class=\"other-project-title jsl10n\" data-jsl10n=\"metawiki.name\">Meta-Wiki</span>\n",
       " <span class=\"other-project-tagline jsl10n\" data-jsl10n=\"metawiki.slogan\">Community coordination &amp; documentation</span>\n",
       " </div>\n",
       " </a>]"
      ]
     },
     "execution_count": 14,
     "metadata": {},
     "output_type": "execute_result"
    }
   ],
   "source": [
    "tags = soup('a','other-project-link') #все теги а с классом указаным (other-project-link)\n",
    "tags #список тегов"
   ]
  },
  {
   "cell_type": "code",
   "execution_count": 17,
   "metadata": {},
   "outputs": [
    {
     "data": {
      "text/plain": [
       "['//commons.wikimedia.org/',\n",
       " '//www.wikivoyage.org/',\n",
       " '//www.wiktionary.org/',\n",
       " '//www.wikibooks.org/',\n",
       " '//www.wikinews.org/',\n",
       " '//www.wikidata.org/',\n",
       " '//www.wikiversity.org/',\n",
       " '//www.wikiquote.org/',\n",
       " '//www.mediawiki.org/',\n",
       " '//www.wikisource.org/',\n",
       " '//species.wikimedia.org/',\n",
       " '//meta.wikimedia.org/']"
      ]
     },
     "execution_count": 17,
     "metadata": {},
     "output_type": "execute_result"
    }
   ],
   "source": [
    "[tag['href']for tag in soup('a','other-project-link')]"
   ]
  },
  {
   "cell_type": "code",
   "execution_count": 5,
   "metadata": {},
   "outputs": [],
   "source": [
    "\n",
    "html = \"\"\"<!DOCTYPE html>\n",
    "<html lang=\"en\">\n",
    "  <head>\n",
    "    <title>test page</title>\n",
    "  </head>\n",
    "  <body class=\"mybody\" id=\"js-body\">\n",
    "    <p class=\"text odd\">first <b>bold</b> paragraph</p>\n",
    "    <p class=\"text even\">second <a href=\"https://mail.ru\">link</a></p>\n",
    "    <p class=\"list odd\">third <a id=\"paragraph\"><b>bold link</b></a></p>\n",
    "  </body>\n",
    "</html>\n",
    "\"\"\""
   ]
  },
  {
   "cell_type": "code",
   "execution_count": 6,
   "metadata": {},
   "outputs": [],
   "source": [
    "soup = BeautifulSoup(html, 'lxml')"
   ]
  },
  {
   "cell_type": "code",
   "execution_count": 7,
   "metadata": {},
   "outputs": [
    {
     "data": {
      "text/plain": [
       "<!DOCTYPE html>\n",
       "<html lang=\"en\">\n",
       "<head>\n",
       "<title>test page</title>\n",
       "</head>\n",
       "<body class=\"mybody\" id=\"js-body\">\n",
       "<p class=\"text odd\">first <b>bold</b> paragraph</p>\n",
       "<p class=\"text even\">second <a href=\"https://mail.ru\">link</a></p>\n",
       "<p class=\"list odd\">third <a id=\"paragraph\"><b>bold link</b></a></p>\n",
       "</body>\n",
       "</html>"
      ]
     },
     "execution_count": 7,
     "metadata": {},
     "output_type": "execute_result"
    }
   ],
   "source": [
    "soup"
   ]
  },
  {
   "cell_type": "code",
   "execution_count": 10,
   "metadata": {},
   "outputs": [
    {
     "name": "stdout",
     "output_type": "stream",
     "text": [
      "<!DOCTYPE html>\n",
      "<html lang=\"en\">\n",
      " <head>\n",
      "  <title>\n",
      "   test page\n",
      "  </title>\n",
      " </head>\n",
      " <body class=\"mybody\" id=\"js-body\">\n",
      "  <p class=\"text odd\">\n",
      "   first\n",
      "   <b>\n",
      "    bold\n",
      "   </b>\n",
      "   paragraph\n",
      "  </p>\n",
      "  <p class=\"text even\">\n",
      "   second\n",
      "   <a href=\"https://mail.ru\">\n",
      "    link\n",
      "   </a>\n",
      "  </p>\n",
      "  <p class=\"list odd\">\n",
      "   third\n",
      "   <a id=\"paragraph\">\n",
      "    <b>\n",
      "     bold link\n",
      "    </b>\n",
      "   </a>\n",
      "  </p>\n",
      " </body>\n",
      "</html>\n",
      "\n"
     ]
    }
   ],
   "source": [
    "print(soup.prettify())"
   ]
  },
  {
   "cell_type": "code",
   "execution_count": 13,
   "metadata": {},
   "outputs": [
    {
     "name": "stdout",
     "output_type": "stream",
     "text": [
      "<p class=\"text odd\">first <b>bold</b> paragraph</p>\n",
      "<class 'bs4.element.Tag'>\n"
     ]
    }
   ],
   "source": [
    "\n",
    "print(soup.p)\n",
    "print(type(soup.p))"
   ]
  },
  {
   "cell_type": "code",
   "execution_count": 17,
   "metadata": {},
   "outputs": [
    {
     "name": "stdout",
     "output_type": "stream",
     "text": [
      "bold\n"
     ]
    },
    {
     "data": {
      "text/plain": [
       "bs4.element.NavigableString"
      ]
     },
     "execution_count": 17,
     "metadata": {},
     "output_type": "execute_result"
    }
   ],
   "source": [
    "print(soup.p.b.string)\n",
    "type(soup.p.b.string)"
   ]
  },
  {
   "cell_type": "code",
   "execution_count": 18,
   "metadata": {},
   "outputs": [
    {
     "data": {
      "text/plain": [
       "'b'"
      ]
     },
     "execution_count": 18,
     "metadata": {},
     "output_type": "execute_result"
    }
   ],
   "source": [
    "soup.b.name"
   ]
  },
  {
   "cell_type": "code",
   "execution_count": 19,
   "metadata": {},
   "outputs": [
    {
     "data": {
      "text/plain": [
       "['text', 'odd']"
      ]
     },
     "execution_count": 19,
     "metadata": {},
     "output_type": "execute_result"
    }
   ],
   "source": [
    "soup.p['class'] #всегда будет списсок "
   ]
  },
  {
   "cell_type": "code",
   "execution_count": 20,
   "metadata": {},
   "outputs": [
    {
     "data": {
      "text/plain": [
       "'js-body'"
      ]
     },
     "execution_count": 20,
     "metadata": {},
     "output_type": "execute_result"
    }
   ],
   "source": [
    "soup.body['id'] #тут не будет списка"
   ]
  },
  {
   "cell_type": "code",
   "execution_count": 21,
   "metadata": {},
   "outputs": [
    {
     "data": {
      "text/plain": [
       "<p class=\"text odd\">first <b>bold</b> paragraph</p>"
      ]
     },
     "execution_count": 21,
     "metadata": {},
     "output_type": "execute_result"
    }
   ],
   "source": [
    "soup.p.b.parent"
   ]
  },
  {
   "cell_type": "code",
   "execution_count": 22,
   "metadata": {},
   "outputs": [
    {
     "data": {
      "text/plain": [
       "<p class=\"text odd\">first <b>bold</b> paragraph</p>"
      ]
     },
     "execution_count": 22,
     "metadata": {},
     "output_type": "execute_result"
    }
   ],
   "source": [
    "soup.b.parent\n"
   ]
  },
  {
   "cell_type": "code",
   "execution_count": 23,
   "metadata": {},
   "outputs": [
    {
     "data": {
      "text/plain": [
       "<generator object PageElement.parents at 0x0000014DC827D970>"
      ]
     },
     "execution_count": 23,
     "metadata": {},
     "output_type": "execute_result"
    }
   ],
   "source": [
    "soup.b.parents"
   ]
  },
  {
   "cell_type": "code",
   "execution_count": 25,
   "metadata": {},
   "outputs": [
    {
     "data": {
      "text/plain": [
       "['p', 'body', 'html', '[document]']"
      ]
     },
     "execution_count": 25,
     "metadata": {},
     "output_type": "execute_result"
    }
   ],
   "source": [
    "[tag.name for tag in soup.b.parents]"
   ]
  },
  {
   "cell_type": "code",
   "execution_count": 26,
   "metadata": {},
   "outputs": [
    {
     "data": {
      "text/plain": [
       "'first '"
      ]
     },
     "execution_count": 26,
     "metadata": {},
     "output_type": "execute_result"
    }
   ],
   "source": [
    "soup.p.next"
   ]
  },
  {
   "cell_type": "code",
   "execution_count": 27,
   "metadata": {},
   "outputs": [
    {
     "data": {
      "text/plain": [
       "<b>bold</b>"
      ]
     },
     "execution_count": 27,
     "metadata": {},
     "output_type": "execute_result"
    }
   ],
   "source": [
    "soup.p.next.next"
   ]
  },
  {
   "cell_type": "code",
   "execution_count": 28,
   "metadata": {},
   "outputs": [
    {
     "data": {
      "text/plain": [
       "'\\n'"
      ]
     },
     "execution_count": 28,
     "metadata": {},
     "output_type": "execute_result"
    }
   ],
   "source": [
    "soup.p.next_sibling #там так отформатировано) это тчтобы не вложенные смотреть"
   ]
  },
  {
   "cell_type": "code",
   "execution_count": 29,
   "metadata": {},
   "outputs": [
    {
     "data": {
      "text/plain": [
       "['first ', <b>bold</b>, ' paragraph']"
      ]
     },
     "execution_count": 29,
     "metadata": {},
     "output_type": "execute_result"
    }
   ],
   "source": [
    "soup.p.contents #вложенные теги"
   ]
  },
  {
   "cell_type": "code",
   "execution_count": 30,
   "metadata": {},
   "outputs": [
    {
     "data": {
      "text/plain": [
       "<list_iterator at 0x14dc826f4c0>"
      ]
     },
     "execution_count": 30,
     "metadata": {},
     "output_type": "execute_result"
    }
   ],
   "source": [
    "soup.p.children #вложенные теги но в генераторе"
   ]
  },
  {
   "cell_type": "code",
   "execution_count": 32,
   "metadata": {},
   "outputs": [
    {
     "data": {
      "text/plain": [
       "'body'"
      ]
     },
     "execution_count": 32,
     "metadata": {},
     "output_type": "execute_result"
    }
   ],
   "source": [
    "soup.p.b.find_parent(id=\"js-body\").name"
   ]
  },
  {
   "cell_type": "code",
   "execution_count": 33,
   "metadata": {},
   "outputs": [
    {
     "data": {
      "text/plain": [
       "<p class=\"text even\">second <a href=\"https://mail.ru\">link</a></p>"
      ]
     },
     "execution_count": 33,
     "metadata": {},
     "output_type": "execute_result"
    }
   ],
   "source": [
    "soup.p.next_sibling.next_sibling"
   ]
  },
  {
   "cell_type": "code",
   "execution_count": 34,
   "metadata": {},
   "outputs": [
    {
     "data": {
      "text/plain": [
       "<p class=\"list odd\">third <a id=\"paragraph\"><b>bold link</b></a></p>"
      ]
     },
     "execution_count": 34,
     "metadata": {},
     "output_type": "execute_result"
    }
   ],
   "source": [
    "soup.p.find_next_sibling(class_=\"odd\")"
   ]
  },
  {
   "cell_type": "code",
   "execution_count": 35,
   "metadata": {},
   "outputs": [
    {
     "data": {
      "text/plain": [
       "['\\n',\n",
       " <p class=\"text even\">second <a href=\"https://mail.ru\">link</a></p>,\n",
       " '\\n',\n",
       " <p class=\"list odd\">third <a id=\"paragraph\"><b>bold link</b></a></p>,\n",
       " '\\n']"
      ]
     },
     "execution_count": 35,
     "metadata": {},
     "output_type": "execute_result"
    }
   ],
   "source": [
    "list(soup.p.next_siblings)"
   ]
  },
  {
   "cell_type": "code",
   "execution_count": 38,
   "metadata": {},
   "outputs": [
    {
     "data": {
      "text/plain": [
       "[<p class=\"text even\">second <a href=\"https://mail.ru\">link</a></p>,\n",
       " <p class=\"list odd\">third <a id=\"paragraph\"><b>bold link</b></a></p>]"
      ]
     },
     "execution_count": 38,
     "metadata": {},
     "output_type": "execute_result"
    }
   ],
   "source": [
    "list(soup.p.find_next_siblings())"
   ]
  },
  {
   "cell_type": "code",
   "execution_count": 39,
   "metadata": {},
   "outputs": [
    {
     "data": {
      "text/plain": [
       "<b>bold</b>"
      ]
     },
     "execution_count": 39,
     "metadata": {},
     "output_type": "execute_result"
    }
   ],
   "source": [
    "soup.find('b', text='bold')"
   ]
  },
  {
   "cell_type": "code",
   "execution_count": 40,
   "metadata": {},
   "outputs": [
    {
     "data": {
      "text/plain": [
       "[<p class=\"text odd\">first <b>bold</b> paragraph</p>,\n",
       " <p class=\"text even\">second <a href=\"https://mail.ru\">link</a></p>,\n",
       " <p class=\"list odd\">third <a id=\"paragraph\"><b>bold link</b></a></p>]"
      ]
     },
     "execution_count": 40,
     "metadata": {},
     "output_type": "execute_result"
    }
   ],
   "source": [
    "soup.find_all('p')"
   ]
  },
  {
   "cell_type": "code",
   "execution_count": 42,
   "metadata": {},
   "outputs": [
    {
     "data": {
      "text/plain": [
       "[<p class=\"text odd\">first <b>bold</b> paragraph</p>]"
      ]
     },
     "execution_count": 42,
     "metadata": {},
     "output_type": "execute_result"
    }
   ],
   "source": [
    "soup.find_all('p','text odd')"
   ]
  },
  {
   "cell_type": "code",
   "execution_count": 43,
   "metadata": {},
   "outputs": [
    {
     "data": {
      "text/plain": [
       "[<p class=\"text odd\">first <b>bold</b> paragraph</p>]"
      ]
     },
     "execution_count": 43,
     "metadata": {},
     "output_type": "execute_result"
    }
   ],
   "source": [
    "soup.select('p.text.odd')"
   ]
  },
  {
   "cell_type": "code",
   "execution_count": 44,
   "metadata": {},
   "outputs": [
    {
     "data": {
      "text/plain": [
       "[<p class=\"list odd\">third <a id=\"paragraph\"><b>bold link</b></a></p>]"
      ]
     },
     "execution_count": 44,
     "metadata": {},
     "output_type": "execute_result"
    }
   ],
   "source": [
    "soup.select(\"p:nth-of-type(3)\")"
   ]
  },
  {
   "cell_type": "code",
   "execution_count": 45,
   "metadata": {},
   "outputs": [
    {
     "data": {
      "text/plain": [
       "[<b>bold link</b>]"
      ]
     },
     "execution_count": 45,
     "metadata": {},
     "output_type": "execute_result"
    }
   ],
   "source": [
    "soup.select(\"a > b\")"
   ]
  },
  {
   "cell_type": "code",
   "execution_count": 46,
   "metadata": {},
   "outputs": [],
   "source": [
    "import re"
   ]
  },
  {
   "cell_type": "code",
   "execution_count": 47,
   "metadata": {},
   "outputs": [
    {
     "data": {
      "text/plain": [
       "['body', 'b', 'b']"
      ]
     },
     "execution_count": 47,
     "metadata": {},
     "output_type": "execute_result"
    }
   ],
   "source": [
    "[i.name for i in soup.find_all(name=re.compile('^b'))]"
   ]
  },
  {
   "cell_type": "code",
   "execution_count": 48,
   "metadata": {},
   "outputs": [
    {
     "data": {
      "text/plain": [
       "[<b>bold</b>,\n",
       " <a href=\"https://mail.ru\">link</a>,\n",
       " <a id=\"paragraph\"><b>bold link</b></a>,\n",
       " <b>bold link</b>]"
      ]
     },
     "execution_count": 48,
     "metadata": {},
     "output_type": "execute_result"
    }
   ],
   "source": [
    "[i for i in soup(['a','b'])]"
   ]
  },
  {
   "cell_type": "code",
   "execution_count": 49,
   "metadata": {},
   "outputs": [
    {
     "data": {
      "text/plain": [
       "<b>bold</b>"
      ]
     },
     "execution_count": 49,
     "metadata": {},
     "output_type": "execute_result"
    }
   ],
   "source": [
    "tag = soup.b\n",
    "tag"
   ]
  },
  {
   "cell_type": "code",
   "execution_count": 53,
   "metadata": {},
   "outputs": [],
   "source": [
    "tag.name = 'i'\n",
    "tag['id'] = 'myid'\n",
    "tag.string = 'italic'"
   ]
  },
  {
   "cell_type": "code",
   "execution_count": 54,
   "metadata": {},
   "outputs": [
    {
     "data": {
      "text/plain": [
       "<p class=\"text odd\">first <i id=\"myid\">italic</i> paragraph</p>"
      ]
     },
     "execution_count": 54,
     "metadata": {},
     "output_type": "execute_result"
    }
   ],
   "source": [
    "soup.p"
   ]
  },
  {
   "cell_type": "code",
   "execution_count": 55,
   "metadata": {},
   "outputs": [
    {
     "data": {
      "text/plain": [
       "<!DOCTYPE html>\n",
       "<html lang=\"en\">\n",
       "<head>\n",
       "<title>test page</title>\n",
       "</head>\n",
       "<body class=\"mybody\" id=\"js-body\">\n",
       "<p class=\"text odd\">first <i id=\"myid\">italic</i> paragraph</p>\n",
       "<p class=\"text even\">second <a href=\"https://mail.ru\">link</a></p>\n",
       "<p class=\"list odd\">third <a id=\"paragraph\"><b>bold link</b></a></p>\n",
       "</body>\n",
       "</html>"
      ]
     },
     "execution_count": 55,
     "metadata": {},
     "output_type": "execute_result"
    }
   ],
   "source": [
    "soup"
   ]
  },
  {
   "cell_type": "code",
   "execution_count": 57,
   "metadata": {},
   "outputs": [
    {
     "data": {
      "text/plain": [
       "<!DOCTYPE html>\n",
       "<html lang=\"ru-RU\"><head> <meta charset=\"utf-8\"/><meta content=\"IE=edge\" http-equiv=\"X-UA-Compatible\"/><!-- /rb/620533?_SITEID=29 (csp) --><meta content=\"default-src 'self' tel: blob: data: 'unsafe-inline' 'unsafe-eval' mail.ru *.mail.ru *.devmail.ru *.imgsmail.ru *.2gis.com *.2gis.ru s0.2mdn.net *.adlooxtracking.com *.adriver.ru *.ampproject.net *.ampproject.org *.apester.com *.cloudfront.net www.dailymail.co.uk coub.com *.coub.com *.doubleclick.net *.doubleverify.com facebook.com *.facebook.com *.gemius.pl giphy.com *.google.com *.googleapis.com *.googlesyndication.com themes.googleusercontent.com *.gstatic.com instagram.com *.instagram.com video.khl.ru *.moatads.com *.mradx.net ok.ru *.ok.ru *.playbuzz.com *.qmerce.com *.relap.io rutube.ru *.rutube.ru *.serving-sys.com soundcloud.com *.soundcloud.com *.streamrail.com *.twimg.com twitter.com *.twitter.com player.vimeo.com vine.co vk.com *.vk.com *.weborama.fr *.yandex.ru yandex.ru *.yandex.net yandex.st yandexadexchange.net *.yandexadexchange.net yastatic.net *.youtube.com *.adsafeprotected.com *.newstube.ru *.bbc.com *.viqeo.tv facecast.net *.facecast.net *.nativeroll.tv *.seedr.com *.ex.co consentmanager.mgr.consensu.org *.consentmanager.mgr.consensu.org *.criteo.com *.criteo.net *.tiktok.com *.tiktokcdn.com promotools.cc telegram.org t.me *.pinterest.com *.bbc.com bbc-maps.carto.com wtrfall.com *.1tv.ru corpmail.fluidsurveys.com *.newstube.ru *.nhl.com *.knightlab.com imgur.com *.tradingview.com paymaster.ru silatv.ru *.silatv.ru cdn.embedly.com player.vgtrk.com sportmail.ru *.sportmail.ru piter.tv *.bonus-tv.ru uma.media learningapps.org *.hotjar.com oprosso.net *.tele-sport.ru web.icq.com icq.com;script-src 'self' 'unsafe-inline' 'unsafe-eval' js-inject *.mail.ru *.devmail.ru *.imgsmail.ru *.api.2gis.ru s0.2mdn.net *.adlooxtracking.com *.algovid.com s3.amazonaws.com cdn.ampproject.org *.apester.com *.bing.com static.bbc.co.uk news.files.bbci.co.uk coub.com *.coub.com *.criteo.com *.criteo.net *.doubleclick.net *.doubleverify.com *.dvtps.com *.facebook.net *.facebook.com *.flickr.com translate.google.com *.google.com *.googleadservices.com *.googleapis.com *.googlesyndication.com *.googletagmanager.com *.googletagservices.com *.google-analytics.com *.google.ru *.instagram.com mediatoday.ru *.moatads.com *.mradx.net *.mxpnl.com *.odnoklassniki.ru ok.ru *.ok.ru *.playbuzz.com *.qmerce.com relap.io *.relap.io sb.scorecardresearch.com *.twimg.com *.twitter.com platform.vine.co vk.com *.vk.com *.webvisor.com *.mtproxy.yandex.net *.yandex.ru yandex.ru yandex.st yastatic.net *.pinterest.com *.adsafeprotected.com *.serving-sys.com *.viqeo.tv *.videonow.ru *.nativeroll.tv *.seedr.com *.consentmanager.mgr.consensu.org consentmanager.mgr.consensu.org *.tns-counter.ru *.youtube.com *.ytimg.com *.ex.co *.weborama.fr *.tiktok.com *.tiktokcdn.com promotools.cc *.ibytedtos.com telegram.org news.files.bbci.co.uk apis.google.com wtrfall.com *.cloudfront.net *.imgur.com *.tradingview.com mytopf.com *.redditmedia.com cdn.embedly.com sportmail.ru *.sportmail.ru *.hotjar.com *.cloudflare.com *.highcharts.com im.kommersant.ru;connect-src 'self' wss://*.mail.ru wss://*.devmail.ru wss://*.viqeo.tv *.mail.ru *.devmail.ru *.imgsmail.ru *.api.2gis.ru s0.2mdn.net *.adlooxtracking.com *.algovid.com *.ampproject.net cdn.ampproject.org *.apester.com *.doubleclick.net facebook.com *.facebook.com *.facebook.net *.flickr.com *.googleapis.com *.google-analytics.com *.googlesyndication.com *.googletagmanager.com *.gstatic.com *.instagram.com *.mixpanel.com *.mradx.net *.playbuzz.com *.qmerce.com geo.query.yahoo.com relap.io *.relap.io twitter.com *.twitter.com *.yadro.ru yandex.ru *.yandex.ru yandex.st yastatic.net collector.mediator.media *.serving-sys.com *.doubleverify.com *.viqeo.tv *.videonow.ru *.vidiom.net *.nativeroll.tv *.seedr.com *.consentmanager.mgr.consensu.org consentmanager.mgr.consensu.org *.criteo.com *.criteo.net *.ex.co *.ibytedtos.com *.smailru.net *.adfox.ru *.weborama.fr ok.ru vk.com wtrfall.com *.mediator.media mytopf.com *.reddit.com wss://sportmail.ru wss://*.sportmail.ru sportmail.ru *.sportmail.ru *.maps.me wss://*.hotjar.com *.hotjar.com *.hotjar.io *.openstreetmap.org;img-src 'self' * data: blob: *.criteo.com *.criteo.net ;worker-src blob: 'self' *.mail.ru *.devmail.ru sportmail.ru *.sportmail.ru;\" http-equiv=\"Content-Security-Policy\"/><!-- //rb/620533?_SITEID=29 (csp) --><title>Новости России и мира, последние события на сегодня - Новости Mail.ru</title><meta content=\"Новости России и мира, последние события на сегодня\" name=\"mrc__share_title\"/><meta content=\"Новости России и мира, последние события на сегодня\" property=\"og:title\"/><meta content=\"Последние новости - картина дня, политика, экономика и другие события. Фото и видео\" name=\"mrc__share_description\"/><meta content=\"Последние новости - картина дня, политика, экономика и другие события. Фото и видео\" property=\"og:description\"/><meta content=\"Последние новости - картина дня, политика, экономика и другие события. Фото и видео\" name=\"description\"/><meta content=\"https://news.mail.ru/social_preview/index/\" property=\"og:image\"/><meta content=\"1200\" property=\"og:image:width\"/><meta content=\"630\" property=\"og:image:height\"/><link href=\"https://news.mail.ru/\" rel=\"canonical\"/><meta content=\"https://news.mail.ru/\" property=\"og:url\"/><meta content=\"website\" property=\"og:type\"/><meta content=\"Новости Mail.ru\" property=\"og:site_name\"/><link href=\"/img/logo/news/apple-touch-icon.png\" rel=\"apple-touch-icon\" sizes=\"180x180\"/><link href=\"/img/logo/news/favicon.ico\" rel=\"shortcut icon\" type=\"image/x-icon\"/><link href=\"/img/logo/news/favicon-16x16.png\" rel=\"icon\" sizes=\"16x16\" type=\"image/png\"/><link href=\"/img/logo/news/favicon-32x32.png\" rel=\"icon\" sizes=\"32x32\" type=\"image/png\"/><link href=\"/img/logo/news/favicon-120x120.png\" rel=\"icon\" sizes=\"120x120\" type=\"image/png\"/><link href=\"/img/logo/news/favicon.svg\" rel=\"icon\" type=\"image/svg\"/><link href=\"/manifest.json\" rel=\"manifest\"/><meta content=\"/browserconfig.xml\" name=\"msapplication-config\"/><meta content=\"#005FF9\" name=\"msapplication-TileColor\"/><meta content=\"#005FF9\" name=\"theme-color\"/><meta content=\"569814646503137\" property=\"fb:pages\"/><meta content=\"noyaca\" name=\"robots\"/><meta content=\"1\" property=\"yandex_recommendations_kill\"/> <!-- ssi (rss_header) --> <link class=\"js-async-render__rss\" data-item='{\"url\":\"https://news.mail.ru/rss/90/\",\"title\":\"Все новости\"}' href=\"https://news.mail.ru/rss/90/\" rel=\"alternate\" title=\"Новости Mail.ru: Все новости\" type=\"application/rss+xml\"/><link class=\"js-async-render__rss\" data-item='{\"url\":\"https://news.mail.ru/rss/main/90/\",\"title\":\"Главные новости\"}' href=\"https://news.mail.ru/rss/main/90/\" rel=\"alternate\" title=\"Новости Mail.ru: Главные новости\" type=\"application/rss+xml\"/><link class=\"js-async-render__rss\" data-item='{\"url\":\"https://news.mail.ru/rss/politics/90/\",\"title\":\"Политика\"}' href=\"https://news.mail.ru/rss/politics/90/\" rel=\"alternate\" title=\"Новости Mail.ru: Политика\" type=\"application/rss+xml\"/><link class=\"js-async-render__rss\" data-item='{\"url\":\"https://news.mail.ru/rss/economics/90/\",\"title\":\"Экономика\"}' href=\"https://news.mail.ru/rss/economics/90/\" rel=\"alternate\" title=\"Новости Mail.ru: Экономика\" type=\"application/rss+xml\"/><link class=\"js-async-render__rss\" data-item='{\"url\":\"https://news.mail.ru/rss/society/90/\",\"title\":\"Общество\"}' href=\"https://news.mail.ru/rss/society/90/\" rel=\"alternate\" title=\"Новости Mail.ru: Общество\" type=\"application/rss+xml\"/><link class=\"js-async-render__rss\" data-item='{\"url\":\"https://news.mail.ru/rss/incident/90/\",\"title\":\"События\"}' href=\"https://news.mail.ru/rss/incident/90/\" rel=\"alternate\" title=\"Новости Mail.ru: События\" type=\"application/rss+xml\"/><link class=\"js-async-render__rss\" data-item='{\"url\":\"https://news.mail.ru/rss/sport/\",\"title\":\"Спорт\"}' href=\"https://news.mail.ru/rss/sport/\" rel=\"alternate\" title=\"Новости Mail.ru: Спорт\" type=\"application/rss+xml\"/> <!-- // ssi (rss_header) --> <script>window.fest = {\n",
       "\t\t\t_svgPath:{\"news_web\":\"/-/4f28656b/bem/news/web/web.bundles/common/common.svg\",\"news_touch\":\"/-/5e1c585c/bem/news/touch/touch.bundles/common/common.svg\",\"sport_web\":\"/-/4f28656b/bem/sport/web/web.bundles/common/common.svg\",\"sport_touch\":\"/-/7052648f/bem/sport/touch/touch.bundles/common/common.svg\"},\n",
       "\t\t};</script>\n",
       "<meta content=\"mbqc4JaV-mEAAAAA\" name=\"csrf-token\"/>\n",
       "<!-- /rb/38218?_SITEZONE=6 (radar-report) --><script type=\"text/javascript\">window._logJsErrors = true;</script><!-- //rb/38218?_SITEZONE=6 (radar-report) --><script src=\"/-/4d6c3f40/js/cmpld/news/web/head.js\"></script><!-- /rb/28299 (experiment for new design (static)) --><!-- //rb/28299 (experiment for new design (static)) --><link href=\"https://mcdn.imgsmail.ru/fonts/roboto/1.0.0/roboto.css\" rel=\"stylesheet\"/><link href=\"/-/bdb07733/bem/news/web/web.bundles/common/_common.css\" rel=\"stylesheet\"/><link href=\"/-/92be08b0/js/cmpld/react/media.css\" rel=\"stylesheet\"/><link href=\"/-/b31d4356/js/cmpld/react/common-style.css\" rel=\"stylesheet\"/><script>SCREEN_SIZE_OPTIONS = {minBranding: 1540};</script><script>(function (window) {\n",
       "\t\"use strict\";\n",
       "\n",
       "\tvar OPTIONS = window.SCREEN_SIZE_OPTIONS || {};\n",
       "\t// wrapper + options.padding * 2\n",
       "\tvar sizeList = [980,1220,1340];\n",
       "\tvar nameList = ['small', 'medium', 'large'];\n",
       "\tvar sizesLength = sizeList.length;\n",
       "\tvar isBranding = false;\n",
       "\tvar htmlElement = document.documentElement;\n",
       "\tvar lastState, className;\n",
       "\tvar options = {\n",
       "\t\tpadding: 20,\n",
       "\t\tsideWidth: 140,\n",
       "\t\tlargeSideWidth: 240,\n",
       "\t\tbannerStub: sizeList[0],\n",
       "\t\tminBranding: OPTIONS.minBranding || sizeList[1],\n",
       "\t\tmaxBranding: 1920,\n",
       "\t\tclassRe: /\\s*screen_(\\S+)/gi,\n",
       "\t\tclassPrefix: 'screen_'\n",
       "\t};\n",
       "\n",
       "\t// ширина экрана для больших ушей, когда они полностью помещаются для самого большого экрана\n",
       "\tvar widthForLargeSide = sizeList[sizeList.length - 1] + (options.largeSideWidth + options.padding) * 2;\n",
       "\n",
       "\tfunction screenSize(branding) {\n",
       "\t\tvar windowWidth = window.innerWidth;\n",
       "\t\tvar actualWidth = windowWidth;\n",
       "\t\tvar sideWidth, canBranding, canBrandingStub, size, result, state;\n",
       "\n",
       "\t\t// запоминаем состояние последнего вызова, например screenSize(true) в слоте п-брендинга\n",
       "\t\tif (typeof branding === 'boolean') {\n",
       "\t\t\tisBranding = branding;\n",
       "\t\t}\n",
       "\n",
       "\t\tif (isBranding) {\n",
       "\t\t\tsideWidth = windowWidth > widthForLargeSide && options.largeSideWidth || options.sideWidth;\n",
       "\n",
       "\t\t\t// используем 20 отступы по бокам под брендирование\n",
       "\t\t\tif (sideWidth) {\n",
       "\t\t\t\tactualWidth -= (sideWidth + options.padding) * 2;\n",
       "\t\t\t}\n",
       "\t\t}\n",
       "\n",
       "\t\tcanBranding = windowWidth >= options.minBranding && windowWidth <= options.maxBranding;\n",
       "\n",
       "\t\t// не показываем брендинг на экраны меньше 1024 и больше 1900\n",
       "\t\tif (!canBranding) {\n",
       "\t\t\tactualWidth = windowWidth;\n",
       "\t\t}\n",
       "\n",
       "\t\tcanBrandingStub = actualWidth >= options.bannerStub && actualWidth < options.minBranding;\n",
       "\n",
       "\t\t// подбираем экран под окно пользователя с учетом брендинга\n",
       "\t\tfor (var sizeNo = 1; sizeNo < sizesLength; sizeNo++) {\n",
       "\t\t\tif (actualWidth < sizeList[sizeNo]) {\n",
       "\t\t\t\tsize = nameList[sizeNo - 1];\n",
       "\t\t\t\tbreak;\n",
       "\t\t\t}\n",
       "\t\t}\n",
       "\n",
       "\t\tif (!size) {\n",
       "\t\t\tsize = nameList[nameList.length - 1];\n",
       "\t\t}\n",
       "\n",
       "\t\tstate = [size, isBranding, canBranding, canBrandingStub, sideWidth].join();\n",
       "\n",
       "\t\tif (lastState != state) {\n",
       "\t\t\tlastState = state;\n",
       "\n",
       "\t\t\tclassName = htmlElement.className.replace(options.classRe, '').split(' ');\n",
       "\t\t\tclassName.push(options.classPrefix + size);\n",
       "\n",
       "\t\t\tif (isBranding) {\n",
       "\t\t\t\tclassName.push(options.classPrefix + 'branding-p_need');\n",
       "\t\t\t\tif (canBranding) {\n",
       "\t\t\t\t\tclassName.push(options.classPrefix + 'branding-p');\n",
       "\t\t\t\t\tclassName.push(options.classPrefix + 'branding-p_' + sideWidth);\n",
       "\t\t\t\t} else if (canBrandingStub) {\n",
       "\t\t\t\t\tclassName.push(options.classPrefix + 'branding-p_banner-stub');\n",
       "\t\t\t\t}\n",
       "\t\t\t}\n",
       "\n",
       "\t\t\thtmlElement.className = className.join(' ');\n",
       "\t\t\ttry {\n",
       "\t\t\t\twindow.dispatchEvent(new Event('resize'));\n",
       "\t\t\t} catch (ex) {}\n",
       "\t\t}\n",
       "\t}\n",
       "\n",
       "\t/**\n",
       "\t * Создает функцию, игнорирующую вызовы происходящие чаще заданого интервала\n",
       "\t * @param originalFn функция, частоту вызова которой необходимо ограничить\n",
       "\t * @param [timeout = 100] интервал\n",
       "\t * @param [callImmediately = false] флаг, указывающий что функция должна выполняться в начале группы вызовов\n",
       "\t * @returns {Function}\n",
       "\t */\n",
       "\tfunction debounce (originalFn, timeout, callImmediately) {\n",
       "\t\tvar timer = null;\n",
       "\t\treturn function debounced () {\n",
       "\t\t\tvar context = this,\n",
       "\t\t\t\targs = arguments;\n",
       "\n",
       "\t\t\tfunction delayed () {\n",
       "\t\t\t\tif (!callImmediately) {\n",
       "\t\t\t\t\toriginalFn.apply(context, args);\n",
       "\t\t\t\t}\n",
       "\t\t\t\ttimer = null;\n",
       "\t\t\t}\n",
       "\n",
       "\t\t\tif (timer !== null) {\n",
       "\t\t\t\tclearTimeout(timer);\n",
       "\t\t\t} else if (callImmediately) {\n",
       "\t\t\t\toriginalFn.apply(context, args);\n",
       "\t\t\t}\n",
       "\t\t\ttimer = setTimeout(delayed, timeout || 100);\n",
       "\t\t};\n",
       "\t}\n",
       "\n",
       "\tscreenSize();\n",
       "\twindow.screenSize = screenSize;\n",
       "\tif (window.addEventListener) {\n",
       "\t\twindow.addEventListener(\"resize\", debounce(screenSize), false);\n",
       "\t} else if (window.attachEvent) {\n",
       "\t\twindow.attachEvent(\"onresize\", debounce(screenSize));\n",
       "\t}\n",
       "})(this);\n",
       "</script></head><body class=\"js-module\" data-current-user-info-url=\"/najax/api/comments/curruser/\" data-gallery-url=\"/ajax/json__gallery/\" data-is-currency=\"0\" data-module=\"Subscription,MostSharedNewsModel,PushNotificationsModel,Gallery,SmokyExtend,LazyLoad.PromoPopup,PaymentCheck,ScrollToElement,AuthToggle\" data-mp=\"LazyItem as LazyBody\" data-now=\"1643812246\" data-push-count-url=\"/ajax/push_subscribe/\" data-push-enabled=\"1\" data-view=\"MostSharedNews,PushNotificationsView\" id=\"index_page\"><svg class=\"loader loader_invisible\" version=\"1.1\" viewbox=\"-10 -10 220 220\" xmlns=\"http://www.w3.org/2000/svg\"><defs><lineargradient gradientunits=\"objectBoundingBox\" id=\"transparent\" x1=\"0\" x2=\"0\" y1=\"0\" y2=\"1\"><stop offset=\"0%\" stop-color=\"rgba(119, 119, 119, 0)\" stop-opacity=\"0\"></stop><stop offset=\"100%\" stop-color=\"rgba(119, 119, 119, 0)\" stop-opacity=\"0\"></stop></lineargradient><lineargradient gradientunits=\"objectBoundingBox\" id=\"one\" x1=\"1\" x2=\"0\" y1=\"0\" y2=\"1\"><stop offset=\"0%\" stop-color=\"rgba(119, 119, 119, 0)\" stop-opacity=\"0\"></stop><stop offset=\"100%\" stop-color=\"rgba(119, 119, 119, .33)\"></stop></lineargradient><lineargradient gradientunits=\"objectBoundingBox\" id=\"two\" x1=\"1\" x2=\"0\" y1=\"1\" y2=\"0\"><stop offset=\"0%\" stop-color=\"rgba(119, 119, 119, .33)\"></stop><stop offset=\"100%\" stop-color=\"rgba(119, 119, 119, .66)\"></stop></lineargradient><lineargradient gradientunits=\"objectBoundingBox\" id=\"three\" x1=\"0\" x2=\"0\" y1=\"1\" y2=\"0\"><stop offset=\"0%\" stop-color=\"rgba(119, 119, 119, .66)\"></stop><stop offset=\"100%\" stop-color=\"rgba(119, 119, 119, 1)\"></stop></lineargradient><lineargradient gradientunits=\"objectBoundingBox\" id=\"four\" x1=\"0\" x2=\"1\" y1=\"1\" y2=\"0\"><stop offset=\"0%\" stop-color=\"rgba(119, 119, 119, 1)\"></stop><stop offset=\"100%\" stop-color=\"rgba(119, 119, 119, 1)\"></stop></lineargradient><lineargradient gradientunits=\"objectBoundingBox\" id=\"five\" x1=\"0\" x2=\"1\" y1=\"0\" y2=\"1\"><stop offset=\"0%\" stop-color=\"rgba(119, 119, 119, 1)\"></stop><stop offset=\"100%\" stop-color=\"rgba(119, 119, 119, 1)\"></stop></lineargradient></defs><g fill=\"none\" stroke-width=\"40\" transform=\"translate(100,100)\"><path d=\"M 81.6,-40 A 90,90 0 0,1 81.6,40\" stroke=\"url(#transparent)\"></path><path d=\"M 81.6,40 A 90,90 0 0,1 0,90\" stroke=\"url(#one)\"></path><path d=\"M 0,90 A 90,90 0 0,1 -81.6,40\" stroke=\"url(#two)\"></path><path d=\"M -81.6,40 A 90,90 0 0,1 -81.6,-40\" stroke=\"url(#three)\"></path><path d=\"M -81.6,-40 A 90,90 0 0,1 0,-90\" stroke=\"url(#four)\"></path><path d=\"M 0,-90 A 90,90 0 0,1 81.6,-40\" stroke=\"url(#five)\" stroke-linecap=\"round\"></path></g></svg><!-- /rb/916097?userid=$Email&vkid=$Session_VKCUserID (Проброс userid и vkid в счетчики Топа) -->\n",
       "<!-- //rb/916097?userid=$Email&vkid=$Session_VKCUserID (Проброс userid и vkid в счетчики Топа) --><!-- /rb/640929?_SITEID=29 --><img alt=\"\" src=\"https://rs.mail.ru/d89900595.gif?sz=6&amp;rnd=199594293&amp;ts=1643812246&amp;sz=6\" style=\"width:0;height:0;position:absolute;visibility:hidden;\"/>\n",
       "<script>!function(t,e){const i={hasScroll:\"scroll\"in t&&Object.keys(t.scroll).length>0,hasTimeout:\"timeout\"in t&&Object.keys(t.timeout).length>0,counterUpdated:!1};function o(...t){!0===window.DEBUG&&window.console.log.apply(console,t)}function n(t,n){return o(\"reload: \"+n.id),t.reload(!0),n.viewed=n.scrolledOut=!1,i.counterUpdated||(i.counterUpdated=!0===function(){const t=\"ru.mail.cpf.Tools.Counters.hitCntrsBlck\".split(\".\").reduce((t,e)=>t&&t[e],e);if(\"function\"==typeof t)return t(),!0}()),null===n.config.limit||++n.updatesCount!==n.config.limit||(o(\"limit: \"+n.id),!1)}[\"scroll\",\"timeout\"].forEach(e=>{const o=e in t&&Object.keys(t[e]).length>0;i[\"has\"+e.slice(0,1).toUpperCase()+e.slice(1,-1)]=o,o&&(i[e]={})}),(i.hasTimeout||i.hasScroll)&&function(){let l,s;function c(){o(\"tick\"),\"visible\"===document.visibilityState&&function(){const t=Date.now();Object.keys(i.timeout).forEach(e=>{const l=i.timeout[e],s=l.config;o(\"check timeout: \"+e),t-l.lastUpdate>s.interval&&(n(l.instance,l)?l.lastUpdate=t:delete i.timeout[e])})}(),setTimeout(c,1e4)}e.cpfParams=e.cpfParams||[],e.cpfParams.push({module:\"SlotView\",params:{options:{_Handlers:{init:function(){const e=this.getSlotParams().id;let r,a,u=null;i.hasScroll&&(r=t.scroll[e])?(l||(l=new IntersectionObserver((t,e)=>{t.forEach(t=>{const l=function(t){return window.jQuery(t).data(\"SlotView\")}(t.target),s=l.getSlotParams().id;o(\"intersection: \"+s+\" (\"+t.isIntersecting+\")\");let c=i.scroll[s];c&&(c.viewed&&!t.isIntersecting?(c.scrolledOut=!0,o(\"scrolledOut: \"+s)):!0===c.scrolledOut&&t.isIntersecting&&(n(l,c)||e.unobserve(t.target))),t.isIntersecting&&t.intersectionRatio>.3&&(o(\"viewed: \"+s),c.viewed=!0)})},{threshold:[0,.5],rootMargin:\"100px 0px\"})),l.observe(this._getElement(\"parent\").get(0)),a={scrolledOut:!1,viewed:!1},u=\"scroll\"):i.hasTimeout&&(r=t.timeout[e])&&(s||(c(),s=!0),a={lastUpdate:Date.now()},u=\"timeout\"),null!==u&&(o(`init ${u}: ${e}`),i[u][e]=Object.assign({config:r,instance:this,updatesCount:0,id:e},a))}}}}})}()}({scroll: {\"39772\":{limit:2},\"721\":{limit:2}},timeout: {\"441924\":{interval:86400e3,limit:2},\"441935\":{interval:86400e3,limit:2}}}, window);</script><!-- //rb/640929?_SITEID=29 --><!-- /rb/949685?_SITEID=29&version=desktop --><!-- //rb/949685?_SITEID=29&version=desktop --><div class=\"js-module\" data-id=\"949685\" data-module=\"SlotModel\" data-siteid=\"29\" data-version=\"desktop\" data-view=\"SlotView.949685\"></div><!-- /rb/28299 (experiment for new design (adq)) --><div class=\"rb-slot js-module\" data-id=\"28299\" data-module=\"SlotModel\" data-view=\"SlotView\"></div><!-- //rb/28299 (experiment for new design (adq)) --><div class=\"page__counters js-counters\"><!--noindex--><!-- /rb/1978 --><img alt=\"\" src=\"https://rs.mail.ru/d15198309.gif?sz=6&amp;rnd=196536935&amp;ts=1643812246&amp;sz=6\" style=\"width:0;height:0;position:absolute;visibility:hidden;\"/><!-- mr_counter type=\"tns\" src=\"//www.tns-counter.ru/V13a****mail_ru/ru/UTF-8/tmsec=mail_news/\" -->\n",
       "<!-- tns-counter.ru -->\n",
       "<script language=\"JavaScript\" type=\"text/javascript\"> \n",
       "\tvar img = new Image();\n",
       "\timg.src = '//www.tns-counter.ru/V13a***R>' + document.referrer.replace(/\\*/g,'%2a') + '*mail_ru/ru/UTF-8/tmsec=mail_news/' + Math.round(Math.random() * 1000000000);\n",
       "</script>\n",
       "<noscript>\n",
       "<img alt=\"\" height=\"0\" src=\"//www.tns-counter.ru/V13a****mail_ru/ru/UTF-8/tmsec=mail_news/\" width=\"0\"/>\n",
       "</noscript>\n",
       "<!-- /mr_counter --><!-- //rb/1978 --><!--/noindex--></div><div class=\"js-module\" data-brandsafety=\"0\" data-id=\"5915\" data-module=\"SlotModel\" data-sitezone=\"1\" data-view=\"SlotView.Fullscreen\"></div><!-- /rb/230081?brandsafety=0&_SITEID=29 --><!-- //rb/230081?brandsafety=0&_SITEID=29 --><!-- /rb/320557?project=news&version=web (Слот включения новой шапки) -->\n",
       "<script>window.useNewVkLogo = true;</script><!-- //rb/320557?project=news&version=web (Слот включения новой шапки) -->\n",
       "<!-- common mail.ru portal-headline -->\n",
       "<!--noindex-->\n",
       "<style>.x-ph{position:relative;z-index:1003;margin:0;padding:0;font:12px/16px HelveticaNeue,Arial,sans-serif;white-space:nowrap;text-align:left;background:#fff;height:28px;*zoom:1}.x-ph .w-x-ph{width:100%;border-collapse:collapse;background:#fff}.x-ph .w-x-ph,.x-ph .w-x-ph__col{padding:0;margin:0;border:0;border-spacing:0;font:12px/16px HelveticaNeue,Arial,sans-serif}.x-ph .w-x-ph__col{height:28px;vertical-align:top;white-space:nowrap}.x-ph .w-x-ph__col_left{width:1%;padding-right:20px;text-align:left}.x-ph .w-x-ph__col_right{text-align:right}.x-ph__menu{position:relative;z-index:1004;display:inline-block;padding-right:2px;font:12px/16px HelveticaNeue,Arial,sans-serif;vertical-align:top}.w-x-ph__menu__placeholder{position:absolute;top:100%;left:50%;width:0;height:0;font:0/0 a}.x-ph__menu__button,.x-ph__menu__button:link,.x-ph__menu__button:visited,.x-ph__menu__button:hover,.x-ph__menu__button:active,.x-ph__menu__button:focus{position:relative;z-index:1005;display:inline-block;width:100%;padding:6px 0 5px;border-right:1px solid #fff;border-left:1px solid #fff;font:12px/16px HelveticaNeue,Arial,sans-serif;text-decoration:none;cursor:pointer;outline:none}.x-ph-ff.x-ph-win .x-ph__menu__button,.x-ph-ff.x-ph-win .x-ph__menu__button:link,.x-ph-ff.x-ph-win .x-ph__menu__button:visited,.x-ph-ff.x-ph-win .x-ph__menu__button:hover,.x-ph-ff.x-ph-win .x-ph__menu__button:active,.x-ph-ff.x-ph-win .x-ph__menu__button:focus{padding-top:5px;padding-bottom:6px;height:17px}.x-ph__menu__button__text,.x-ph__menu_open .x-ph__menu__button:hover .x-ph__menu__button__text{display:inline-block;width:100%;padding:0 14px 0 6px;-webkit-box-sizing:border-box;-moz-box-sizing:border-box;box-sizing:border-box;color:#005bd1;font-style:normal;text-decoration:none;overflow:hidden;text-overflow:ellipsis;text-align:left;vertical-align:top}.x-ph__menu__button:hover .x-ph__menu__button__text,.x-ph__menu__button:focus .x-ph__menu__button__text,.x-ph__menu__button:active .x-ph__menu__button__text,.x-ph__menu_open .x-ph__menu__button:focus .x-ph__menu__button__text,.x-ph__menu_open .x-ph__menu__button:active .x-ph__menu__button__text{color:#ff9e00}.x-ph__menu__button__icon,.x-ph__menu_open .x-ph__menu__button:hover .x-ph__menu__button__icon{position:absolute;right:5px;top:13px;width:0;height:0;border-width:4px;border-style:solid;border-color:#005bd1 #fff #fff;font:0/0 a}.x-ph__menu__button:hover .x-ph__menu__button__icon,.x-ph__menu__button:focus .x-ph__menu__button__icon,.x-ph__menu__button:active .x-ph__menu__button__icon,.x-ph__menu_open .x-ph__menu__button:focus .x-ph__menu__button__icon,.x-ph__menu_open .x-ph__menu__button:active .x-ph__menu__button__icon{border-color:#ff9e00 #fff #fff}.w-x-ph__menu__button__shadow{position:absolute;z-index:1007;top:0;opacity:0;width:50px;height:0;background:#fff;-webkit-box-shadow:0 4px 15px rgba(0,0,0,.2);-moz-box-shadow:0 4px 15px rgba(0,0,0,.2);box-shadow:0 4px 15px rgba(0,0,0,.2)}.x-ph__link{display:inline-block;padding:6px;margin-right:6px;*padding:5px 6px 7px;*zoom:1;text-decoration:none;white-space:nowrap;outline:none;font:12px/16px HelveticaNeue,Arial,sans-serif}.x-ph__link,a.x-ph__link{color:#005bd1}.x-ph__link:hover,a.x-ph__link:hover{color:#ff9e00;text-decoration:none}.x-ph__link:hover .x-ph__link__text,a.x-ph__link:hover .x-ph__link__text{color:#ff9e00}.x-ph__link_ext,a.x-ph__link_ext,.x-ph__link_ext:hover,a.x-ph__link_ext:hover{text-decoration:none}.x-ph__link__text{text-decoration:none;font-style:normal;cursor:pointer}.x-ph__link__dot{display:inline-block;width:6px;height:6px;margin-left:3px;margin-bottom:1px;background:#ff9e00;-webkit-border-radius:3px;-moz-border-radius:3px;border-radius:3px}.x-ph__link_ext .x-ph__link__dot{display:none}.x-ph__link__balloon{display:none;overflow:hidden;margin-bottom:-4px;margin-left:3px;padding:1px 3px;min-width:9px;height:13px;-webkit-border-radius:7px;-moz-border-radius:7px;border-radius:7px;background-color:#ff9e00;color:#fff;vertical-align:baseline;text-align:center;font-weight:400;font-style:normal;font-size:11px;line-height:13px;cursor:pointer;-webkit-animation-duration:500ms;-moz-animation-duration:500ms;animation-duration:500ms;-webkit-animation-fill-mode:both;-moz-animation-fill-mode:both;animation-fill-mode:both}.x-ph-ff.x-ph-mac .x-ph__link__balloon,.x-ph-opera .x-ph__link__balloon{line-height:14px}.x-ph__link_ext .x-ph__link__balloon{display:inline-block;*display:inline;*zoom:1}.x-ph-ios .x-ph__link__balloon{margin-bottom:-5px;padding:0 3px 2px}.x-ph__link_first{margin-left:14px}.x-ph__link_last{margin-right:12px}.x-ph__link_ext{padding-right:1px}.x-ph__link_selected{font-weight:700}.x-ph__link_x-sm{display:none}@media screen and (min-width:1150px){.x-ph__link_x-sm{display:inline-block}}.x-ph-ff.x-ph-win .x-ph__link{padding:5px 6px 7px}.x-ph__auth__link_icon{position:relative;overflow:hidden;padding:0 6px!important;width:16px;height:28px;vertical-align:top;text-indent:30px}.x-ph__auth__link_icon,.x-ph__auth__link_icon:hover{color:#fff!important}.x-ph__auth__link_icon:after{position:absolute;top:2px;left:2px;display:block!important}.w-x-ph__link{display:inline-block;vertical-align:top}.x-ph__auth{width:100%}.x-ph__auth,.w-x-ph__auth__col{margin:0;padding:0;border:0;border-spacing:0;font:12px/16px HelveticaNeue,Arial,sans-serif}.w-x-ph__auth__col{vertical-align:top;text-align:right;white-space:nowrap}.w-x-ph__auth__col_left{width:99%}.w-x-ph__auth__col_right{padding-right:2px}.x-ph__auth__user{position:relative;display:block;width:100%;min-width:100px;height:28px;overflow:hidden}.w-x-ph__auth__user_inner{position:absolute;right:0;text-align:left;max-width:100%}.x-ph__auth__user__text{color:#000;display:inline-block;padding:6px 10px 6px 0;_padding:5px 10px 7px 0;font:12px/16px HelveticaNeue,Arial,sans-serif}.x-ph__auth__user__fade{position:absolute;top:0;right:-6px;width:16px;height:28px;overflow:hidden;background:url(\"https://img.imgsmail.ru/ph/0.64.27/auth/fade2.png\") repeat-y 0 0;_display:none}.x-ph__auth__link,.x-ph__auth__link:link,.x-ph__auth__link:visited,.x-ph__auth__link:hover,.x-ph__auth__link:active,.x-ph__auth__link:focus{font:12px/16px HelveticaNeue,Arial,sans-serif}.w-x-ph__auth__dropdown{position:relative;display:block;min-width:100px;width:100%;height:1px;text-align:right}.w-x-ph__auth__dropdown__inner{position:absolute;right:6px;width:100%;min-width:100px;text-align:right}.x-ph__menu_auth{max-width:100%}.x-ph__menu__button_auth,.x-ph__menu__button_auth:link,.x-ph__menu__button_auth:visited,.x-ph__menu__button_auth:hover,.x-ph__menu__button_auth:active,.x-ph__menu__button_auth:focus{max-width:100%}.x-ph__menu__button__text_auth{position:relative}.x-ph__menu__button__text_auth,.x-ph__menu_open .x-ph__menu__button:hover .x-ph__menu__button__text_auth{max-width:560px}.x-ph__menu_auth_unread .x-ph__menu__button__text_auth,.x-ph__menu_auth_unread.x-ph__menu_open .x-ph__menu__button:hover .x-ph__menu__button__text_auth{padding-left:14px}.x-ph__menu__button_auth__unread{display:none;position:absolute;left:4px;top:12px;width:6px;height:6px;background:#ff9e00;-webkit-border-radius:3px;-moz-border-radius:3px;border-radius:3px}.x-ph__menu_auth_unread .x-ph__menu__button_auth__unread{display:block}.x-ph__menu_open .x-ph__menu__button .x-ph__menu__button__text,.x-ph__menu_open .x-ph__menu__button:hover .x-ph__menu__button__text,.x-ph__menu_open .x-ph__menu__button:focus .x-ph__menu__button__text,.x-ph__menu_open .x-ph__menu__button:active .x-ph__menu__button__text{color:#333}.x-ph__menu_open .x-ph__menu__button .x-ph__menu__button__icon,.x-ph__menu_open .x-ph__menu__button:hover .x-ph__menu__button__icon,.x-ph__menu_open .x-ph__menu__button:focus .x-ph__menu__button__icon,.x-ph__menu_open .x-ph__menu__button:active .x-ph__menu__button__icon{border-color:#333 #fff #fff}.x-ph__menu__button_auth__unread{background-position:0 -133px}.x-ph__menu__button__text__icon,.x-ph__auth_list__item__info__social{display:inline-block;overflow:hidden;width:16px;height:16px;-webkit-border-radius:8px;-moz-border-radius:8px;border-radius:8px;vertical-align:top}.x-ph__menu__button__text__icon:after,.x-ph__auth_list__item__info__social:after{margin:-4px 0 0 -4px}</style>\n",
       "<div class=\"x-ph portal-headline\" id=\"portal-headline\"><table cellspacing=\"0\" class=\"w-x-ph\"><tr><td class=\"w-x-ph__col w-x-ph__col_left\"><a class=\"x-ph__link x-ph__link_first\" href=\"https://trk.mail.ru/c/i02y74?mt_sub1=news\" rel=\"nofollow\">Mail.ru</a><a class=\"x-ph__link\" href=\"https://trk.mail.ru/c/cptmm9?mt_sub1=news\" id=\"ph_mail\" rel=\"nofollow\"><span class=\"x-ph__link__text\">Почта</span><i class=\"x-ph__link__balloon\" id=\"g_mail_events\"></i></a><a class=\"x-ph__link\" href=\"https://trk.mail.ru/c/psc3a5?mt_sub1=news\" id=\"ph_my\" rel=\"nofollow\" style=\"\"><span class=\"x-ph__link__text\">Мой Мир</span><i class=\"x-ph__link__balloon\" id=\"g_my_events\"></i></a><span class=\"w-x-ph__link\"><a class=\"x-ph__link\" href=\"https://trk.mail.ru/c/jr23b4?mt_sub1=news\" rel=\"nofollow\"><span class=\"x-ph__link__text\">Одноклассники</span><i class=\"x-ph__link__balloon\" id=\"g_ok_events\"></i></a><span class=\"x-ph-bub__placeholder\" id=\"PH_bub:ok\"></span></span><a class=\"x-ph__link\" href=\"https://trk.mail.ru/c/gqhkg6?mt_sub1=mail.ru&amp;mt_campaign=newpromomail&amp;mt_sub2=navinew\" rel=\"nofollow\" style=\"\"><span>ВКонтакте</span><i class=\"x-ph__link__balloon\" id=\"vk_counter\"></i></a><a class=\"x-ph__link\" href=\"https://trk.mail.ru/c/nzvsh8?mt_sub1=news\" rel=\"nofollow\" style=\"\"><span class=\"x-ph__link__text\">Игры</span><i class=\"x-ph__link__balloon\" id=\"g_games_events\"></i></a><a class=\"x-ph__link\" href=\"https://trk.mail.ru/c/t6ks72?mt_sub1=news\" rel=\"nofollow\" style=\"\"><span class=\"x-ph__link__text\">Знакомства</span><i class=\"x-ph__link__balloon\" id=\"g_love_events\"></i></a><a class=\"x-ph__link x-ph__link_selected\" href=\"https://trk.mail.ru/c/bwzm48?mt_sub1=news\" rel=\"nofollow\" style=\"\">Новости</a><a class=\"x-ph__link\" href=\"https://trk.mail.ru/c/f0vzc7?mt_sub1=news\" rel=\"nofollow\" style=\"\">Поиск</a><a class=\"x-ph__link\" href=\"https://trk.mail.ru/c/bgt8c3?mt_sub1=news\" rel=\"nofollow\" style=\"\">Облако</a><a class=\"x-ph__link x-ph__link_x-sm\" href=\"https://trk.mail.ru/c/vuz0t6?mt_sub1=news\" rel=\"nofollow\" style=\"\">VK Combo</a><a class=\"x-ph__link\" href=\"https://trk.mail.ru/c/uym884?mt_sub1=news\" id=\"PH_allProjects\" rel=\"nofollow\">Все проекты</a><span class=\"x-ph__menu\" id=\"PH_projectsMenu\" style=\"display:none;\"><i class=\"w-x-ph__menu__button__shadow w-x-ph__menu__button__shadow_left\"></i><i class=\"w-x-ph__menu__button__shadow w-x-ph__menu__button__shadow_right\"></i><a class=\"x-ph__menu__button\" href=\"#\" id=\"PH_projectsMenu_button\" rel=\"nofollow\"><i class=\"x-ph__menu__button__icon\"></i><i class=\"x-ph__menu__button__text\">Все проекты</i></a></span></td><td class=\"w-x-ph__col w-x-ph__col_right\" style=\"\"><div id=\"PH_authView\" style=\"display:none\"><table cellspacing=\"0\" class=\"x-ph__auth\"><tr><td class=\"w-x-ph__auth__col w-x-ph__auth__col_left\"><span class=\"x-ph__auth__user\" id=\"PH_singleuser\"><span class=\"w-x-ph__auth__user_inner\"><span class=\"x-ph__auth__user__text\" id=\"PH_user-email_disabled\"></span><span class=\"x-ph__auth__user__fade\"></span></span></span><div class=\"w-x-ph__auth__dropdown\" id=\"PH_miltiuser\" style=\"display:none;\"><div class=\"w-x-ph__auth__dropdown__inner\"><div class=\"x-ph__menu x-ph__menu_auth\" id=\"PH_authMenu\"><i class=\"w-x-ph__menu__button__shadow w-x-ph__menu__button__shadow_left\"></i><i class=\"w-x-ph__menu__button__shadow w-x-ph__menu__button__shadow_right\"></i><span class=\"x-ph__menu__button x-ph__menu__button_auth\" id=\"PH_authMenu_button\"><i class=\"x-ph__menu__button_auth__unread\" title=\"\"></i><i class=\"x-ph__menu__button__icon x-ph__menu__button__icon_auth\"></i><i class=\"x-ph__menu__button__text x-ph__menu__button__text_auth\" id=\"PH_user-email\"></i></span></div></div></div></td><td class=\"w-x-ph__auth__col w-x-ph__auth__col_right\"><a class=\"x-ph__link x-ph__link_last x-ph__auth__link\" href=\"https://r.mail.ru/cls1074201/auth.mail.ru/cgi-bin/logout?next=1&amp;lang=ru_RU&amp;page=https%3A%2F%2Fnews.mail.ru%2F\" id=\"PH_logoutLink\" rel=\"nofollow\" title=\"выход\" xname=\"clb1074201\">выход</a></td></tr></table></div><div id=\"PH_noAuthView\" style=\"\"><table cellspacing=\"0\" class=\"x-ph__auth\"><tr><td class=\"w-x-ph__auth__col w-x-ph__auth__col_right\"><a class=\"x-ph__link x-ph__auth__link\" href=\"https://r.mail.ru/clb1126011/account.mail.ru/signup?from=navi&amp;lang=ru_RU&amp;app_id_mytracker=52827&amp;siteid=29\" id=\"PH_regLink\" rel=\"nofollow\">Регистрация</a><a class=\"x-ph__link x-ph__link_last x-ph__auth__link\" href=\"https://r.mail.ru/cls951827/e.mail.ru/login?lang=ru_RU&amp;page=https%3A%2F%2Fnews.mail.ru%2F\" id=\"PH_authLink\" rel=\"nofollow\" xname=\"clb951827\">Вход</a></td></tr></table></div></td></tr></table></div><div id=\"PH_innerHTML\" style=\"display:none;\"></div><!--[if IE 7]><script>var ____________ie7 = true;</script><![endif]--><!--[if IE 8]><script>var ____________ie8 = true;</script><![endif]--><script>\n",
       "\t\t\tif (!window.__PHS) var __PHS = {};\n",
       "\n",
       "\t\t\t(function (s) {\n",
       "\t\t\t\tconst loginOptions = {\n",
       "\t\t\t\t\tproject: 'news'\n",
       "\t\t\t\t\t, app_id_mytracker : '52827'\n",
       "\t\t\t\t}\n",
       "\n",
       "\t\t\t\ts.loginOptions = loginOptions;\n",
       "\t\t\t\ts.exp = {};\n",
       "\t\t\t\t\n",
       "\t\t\t\ts.lang = \"ru_RU\";\n",
       "\t\t\t\ts.logDetails = true;\n",
       "\t\t\t\ts.maxAccounts = 20;\n",
       "\t\t\t\ts.botTimer = 700;\n",
       "\t\t\t\ts.eid = '';\n",
       "\t\t\t\ts.id = 534891;\n",
       "\t\t\t\ts.settingsId = +'38186769';\n",
       "\t\t\t\ts.siteid = +'29';\n",
       "\t\t\t\ts.sitezone = +'6';\n",
       "\t\t\t\ts.pv = '2';\n",
       "\t\t\t\ts.region = 'Москва';\n",
       "\t\t\t\ts.loginLink = 'https://r.mail.ru/cls951827/e.mail.ru/login?lang=ru_RU&page=https%3A%2F%2Fnews.mail.ru%2F';\n",
       "\t\t\t\ts.authFormExtDomainsEnabled = false;\n",
       "\t\t\t\ts.portalAuthEnabled = true;\n",
       "\t\t\t\t\n",
       "\t\t\t\ts.disableGamesCounter = false;\n",
       "\t\t\t\ts.loginLinkXName = 'clb1126067';\n",
       "\t\t\t\ts.registerBackUrl = false;\n",
       "\t\t\t\ts.bizLinks = false;\n",
       "\t\t\t\ts.enableLoveCounter = true;\n",
       "\t\t\t\ts.enableOkCounter = true;\n",
       "\t\t\t\ts.mailEvents = false;\n",
       "\t\t\t\ts.disableIFCheck = false;\n",
       "\t\t\t\ts.mailSplashUpdate = false;\n",
       "\t\t\t\ts.settingsText = false;\n",
       "\t\t\t\ts.appIdMytracker = \"52827\";\n",
       "\t\t\t\ts.settingsPage = false;\n",
       "\t\t\t\ts.showPassword = false;\n",
       "\t\t\t\ts.showVK = true;\n",
       "\t\t\t\ts.hideOK = false;\n",
       "\t\t\t\ts.isDuplicateCounters = false;\n",
       "\t\t\t\ts.isDuplicateProjectsCounters = false;\n",
       "\t\t\t\ts.isShowDot = false;\n",
       "\t\t\t\ts.xhrEnabledOK = false;\n",
       "\t\t\t\ts.enableTargetBlank = false;\n",
       "\t\t\t\ts.loginFromProject = false;\n",
       "\t\t\t\ts.pauseUpdate = false;\n",
       "\t\t\t\ts.pauseUpdateTime = 0;\n",
       "\t\t\t\ts.authGate = true;\n",
       "\t\t\t\ts.isAuthGateMobileRedirect = false;\n",
       "\t\t\t\ts.authGateJS = \"https://img.imgsmail.ru/ag/2.8.2/authGate.js\";\n",
       "\t\t\t\ts.securitySettingsLink = 'https://e.mail.ru/settings/security';\n",
       "\t\t\t\ts.authGateJSHasVer = true;\n",
       "\t\t\t\t\n",
       "\t\t\t\ts.devAuth = /(^|\\.)devmail\\.ru$/.test(window.location.hostname);\n",
       "\t\t\t\tif (!s.socialAuth) s.socialAuth = {\"vk\": 1,\"ok\": 1,\"fb\": 1};s.externalJS = 'https://img.imgsmail.ru/ph/0.64.27/external.min.js';\n",
       "\t\t\t\ts.jsonpEnabled=+'';\n",
       "\t\t\t\ts.project='news';\n",
       "\t\t\t\ts.projectsMenu={\"projects\": [{\"items\": [{\"title\": \"Авто\",\"url\": \"https://trk.mail.ru/c/lfmn59\"},{\"title\": \"Гороскопы\",\"url\": \"https://trk.mail.ru/c/sxmg92\"},{\"title\": \"Дети\",\"url\": \"https://trk.mail.ru/c/c6g5d9\"},{\"title\": \"Добро\",\"url\": \"https://trk.mail.ru/c/t2emd6\"},{\"title\": \"Дом\",\"url\": \"https://trk.mail.ru/c/x1nl75\"},{\"title\": \"Задачи\",\"url\": \"https://trk.mail.ru/c/oug674\"},{\"title\": \"Звонки\",\"url\": \"https://trk.mail.ru/c/s8c2j6\"},{\"title\": \"Здоровье\",\"url\": \"https://trk.mail.ru/c/vm65i6\"},{\"title\": \"Календарь\",\"url\": \"https://trk.mail.ru/c/yr65t1\"},{\"title\": \"Кино\",\"url\": \"https://trk.mail.ru/c/qjeng8\"},{\"title\": \"Леди\",\"url\": \"https://trk.mail.ru/c/p7wpt2\"},{\"title\": \"Мой Мир\",\"url\": \"https://trk.mail.ru/c/dinvz3\"},{\"title\": \"Облако\",\"url\": \"https://trk.mail.ru/c/t46eg7\"},{\"title\": \"Ответы\",\"url\": \"https://trk.mail.ru/c/nep4a7\"},{\"title\": \"Питомцы\",\"url\": \"https://trk.mail.ru/c/x8pj79\"},{\"title\": \"Погода\",\"url\": \"https://trk.mail.ru/c/qtcyh9\"},{\"title\": \"Спорт\",\"url\": \"https://trk.mail.ru/c/kz5jj1\"},{\"title\": \"ТВ программа\",\"url\": \"https://trk.mail.ru/c/k7q398\"},{\"title\": \"Центр оплат\",\"url\": \"https://trk.mail.ru/c/l9hhf8\"},{\"title\": \"Штрафы\",\"url\": \"https://trk.mail.ru/c/bmhxg9\"},{\"title\": \"Hi-Tech\",\"url\": \"https://trk.mail.ru/c/jmokx4\"}]},{\"title\": \"Для бизнеса\",\"items\": [{\"title\": \"Облако для бизнеса\",\"url\": \"https://trk.mail.ru/c/bxhvk9\"},{\"title\": \"Облако для рабочих групп\",\"url\": \"https://trk.mail.ru/c/z20ob3\"},{\"title\": \"Почта для бизнеса\",\"url\": \"https://trk.mail.ru/c/yq1mk3\"},{\"title\": \"Почта для образования\",\"url\": \"https://trk.mail.ru/c/dytax4\"},{\"title\": \"Рейтинг сайтов\",\"url\": \"https://trk.mail.ru/c/q8nfv2\"},{\"title\": \"Ситимобил для бизнеса\",\"url\": \"https://trk.mail.ru/c/kt82h7\"},{\"title\": \"myTarget\",\"url\": \"https://trk.mail.ru/c/h81ug4\"},{\"title\": \"VK Teams\",\"url\": \"https://trk.mail.ru/c/ed8rn1\"}]},{\"title\": \"Другие проекты\",\"items\": [{\"title\": \"Агент Mail.Ru\",\"url\": \"https://trk.mail.ru/c/fdgvb5\", \"img\": \"https://r.mradx.net/pictures/93/70C072.png\", \"imgWidth\": \"16\", \"imgHeight\": \"16\", \"img_2x\": \"https://r.mradx.net/pictures/77/BE8BD6.png\"},{\"title\": \"Браузер Atom\",\"url\": \"https://trk.mail.ru/c/myxgm4\", \"img\": \"https://r.mradx.net/pictures/51/C14885.png\", \"imgWidth\": \"16\", \"imgHeight\": \"16\", \"img_2x\": \"https://r.mradx.net/pictures/DC/C4532A.png\"},{\"title\": \"Все аптеки\",\"url\": \"https://trk.mail.ru/c/ovs2x1\", \"img\": \"https://r.mradx.net/pictures/D1/2955CE.png\", \"imgWidth\": \"16\", \"imgHeight\": \"16\", \"img_2x\": \"https://r.mradx.net/pictures/C0/2B3AA1.png\"},{\"title\": \"Капсула\",\"url\": \"https://trk.mail.ru/c/wc5bb1\", \"img\": \"https://r.mradx.net/pictures/0D/196D4C.png\", \"imgWidth\": \"16\", \"imgHeight\": \"16\", \"img_2x\": \"https://r.mradx.net/pictures/2C/F0E95C.png\"},{\"title\": \"Ситимобил\",\"url\": \"https://trk.mail.ru/c/dzlnq7\", \"img\": \"https://r.mradx.net/pictures/50/66B617.png\", \"imgWidth\": \"16\", \"imgHeight\": \"16\", \"img_2x\": \"https://r.mradx.net/pictures/84/E079D1.png\"},{\"title\": \"ТамТам\",\"url\": \"https://trk.mail.ru/c/iglmp1\", \"img\": \"https://r.mradx.net/pictures/B9/380E74.png\", \"imgWidth\": \"16\", \"imgHeight\": \"16\", \"img_2x\": \"https://r.mradx.net/pictures/A9/AC7A85.png\"},{\"title\": \"Юла\",\"url\": \"https://trk.mail.ru/c/j6hdy3\", \"img\": \"https://r.mradx.net/pictures/33/2CDE9B.png\", \"imgWidth\": \"16\", \"imgHeight\": \"16\", \"img_2x\": \"https://r.mradx.net/pictures/AA/FEE215.png\"},{\"title\": \"VK Combo\",\"url\": \"https://trk.mail.ru/c/jqzqe2\", \"img\": \"https://r.mradx.net/pictures/13/DFC1EB.png\", \"imgWidth\": \"16\", \"imgHeight\": \"16\", \"img_2x\": \"https://r.mradx.net/img/89/EC664D.png\"},{\"title\": \"Delivery Club\",\"url\": \"https://trk.mail.ru/c/puh439\", \"img\": \"https://r.mradx.net/pictures/B3/DA3AFC.png\", \"imgWidth\": \"16\", \"imgHeight\": \"16\", \"img_2x\": \"https://r.mradx.net/pictures/88/E397FC.png\"},{\"title\": \"Hi-chef\",\"url\": \"https://trk.mail.ru/c/kvgew3\", \"img\": \"https://r.mradx.net/pictures/A4/7FFE0A.png\", \"imgWidth\": \"16\", \"imgHeight\": \"16\", \"img_2x\": \"https://r.mradx.net/pictures/A5/66133D.png\"},{\"title\": \"ICQ New\",\"url\": \"https://trk.mail.ru/c/btb6p6\", \"img\": \"https://r.mradx.net/pictures/E1/12DFA2.png\", \"imgWidth\": \"16\", \"imgHeight\": \"16\", \"img_2x\": \"https://r.mradx.net/pictures/5B/E9A966.png\"},{\"title\": \"VK Работа\",\"url\": \"https://trk.mail.ru/c/u8mv76\", \"img\": \"https://r.mradx.net/pictures/11/7DCCA2.png\", \"imgWidth\": \"16\", \"imgHeight\": \"16\", \"img_2x\": \"https://r.mradx.net/pictures/64/33467D.png\"}]}], \"links\": [{\"title\": \"Список всех проектов\",\"url\": \"https://trk.mail.ru/c/uym884\"}]};\n",
       "\t\t\t\ts.user='';\n",
       "\t\t\t})(window.__PHS);(function(d,m){function Da(a,e){return a.bind.apply(a,P.call(arguments,1))}function ba(a){for(var a=a||{},e=1,c=arguments.length;e<c;e++){var b=arguments[e],d;for(d in b)b.hasOwnProperty(d)&&(a[d]=b[d])}return a}function Ea(a,e){for(var b in e)Object.prototype.hasOwnProperty.call(e,b)&&!Object.prototype.hasOwnProperty.call(a,b)&&(a[b]=e[b]);return a}function ca(a){return document.getElementById(a)}function Fa(a,e,b,f){var d=\"\",g=[],j=0;if(\"string\"===typeof a)g.push([a,e]),j+=e,\"object\"==typeof b&&\n",
       "(f=b,b=H);else{for(var k in a)a.hasOwnProperty(k)&&(g.push([k,a[k]]),j+=a[k]);\"string\"==typeof e?(f=b,b=e):\"object\"==typeof e&&(f=e,b=H)}void 0===b&&(b=H);a=0;for(e=g.length;a<e;a++)g[a]=g[a].join(\":\");\"object\"==typeof f&&(\"string\"==typeof f.rlog&&f.rlog.length&&Array.isArray(f.rlog_message)&&f.rlog_message.length)&&(d=\"&rlog=\"+f.rlog+\"&rlog_message=\"+f.rlog_message.join(\",\")+(f.email?\"&email=\"+f.email:\"\"));(new Image).src=\"//stat.radar.imgsmail.ru/update?p=headline&t=\"+b+\"&v=\"+j+\"&i=\"+g.join(\",\")+\n",
       "(document.referrer?\"&r=\"+escape(document.referrer):\"\")+d+\"&rnd=\"+Math.random()}function Ga(a,e,b){function f(){a();g||(d=Q(f,e))}var d,g;b&&a();d=Q(f,e);return function(){g=!0;da(d)}}function Ha(a){a.stopPropagation?a.stopPropagation():a.cancelBubble=!0;a.preventDefault?a.preventDefault():a.returnValue=!1}function Ia(a){a.preventDefault?a.preventDefault():a.returnValue=!1}function ea(a,e,b,f){if(e)if(e.addEventListener)e[a?\"addEventListener\":\"removeEventListener\"](b,f,!1);else e[a?\"attachEvent\":\"detachEvent\"](\"on\"+\n",
       "b,f)}function y(a){return a&&1==a.nodeType}function fa(a){(function(){for(var a,b=arguments,f=b.length;f--;){a=b[f].split(\",\");for(var i=a.length;i--;){var g=a[i],j=void 0,k=parseInt(1E9*Math.random()),n=void 0;if(j=g.match(/^(?:cl([bn])|([adgin]))(\\d+)(?:sz(\\d+))?/))j[1]?n=\"s\"+j[1]:\"n\"==j[2]?n=\"nc\":(\"i\"==j[2]&&(k=null),n=j[2]),n+=j[3]+\".gif?\",j[4]&&(n+=\"sz=\"+j[4]),k&&(n+=\"&rnd=\"+k),d.settings.eid&&(n+=\"&test_id=\"+d.settings.eid),(new Image).src=\"//rs.mail.ru/\"+n}}})(a)}function Ja(a){ea(1,a,\"mousedown\",\n",
       "function(a){a||(a=window.event);for(a=a.target||a.srcElement;a;)a.getAttribute&&a.getAttribute(\"xname\")&&fa(a.getAttribute(\"xname\")),a=a.parentNode})}function Ka(a,e){var b;b=y(e)?function(a,e){return a==e}:function(a,e){return I(a,e)};for(var f=a.parentNode;f;){if(b(f,e))return f;f=f.parentNode}return!1}function La(a){for(;a.firstChild;)a.removeChild(a.firstChild)}function I(a,e){return y(a)&&J?a.classList.contains(e):!!~(\" \"+a.className+\" \").indexOf(\" \"+e+\" \")}function R(a,e){if(y(a))if(J)for(var e=\n",
       "e.split(\" \"),b=0;b<e.length;b++)a.classList.add(e[b]);else!I(a,e)&&(a.className+=\" \"+e)}function ga(a,e){y(a)&&(J?a.classList.remove(e):a.className=a.className.replace(RegExp(\"(^|\\\\s)\"+e+\"(\\\\s|$)\",\"g\"),\"$1\"))}function Ma(a,e){if(!y(a))return J?a.classList.toggle(e):I(a,e)?(ga(a,e),!1):(R(a,e),!0)}function Na(a){if(\"string\"!==typeof a||!a)return null;try{return JSON.parse(a)}catch(e){throw e;}}function Oa(){return!!b.SCookie.getGlobal(ha)}function Pa(a){var e={\"&\":\"&amp;\",\"<\":\"&lt;\",\">\":\"&gt;\",'\"':\"&quot;\"},\n",
       "b=[],f;for(f in e)b.push(f);b=\"[\"+b.join(\"\")+\"]\";f=function(a){return e[a]};return\"string\"===typeof a&&RegExp(b).test(a)?a.replace(RegExp(b,\"g\"),f):null==a?\"\":a}function ia(){this._invocations=[];this._context=this._fn=null}function u(){}function S(a){this._node=b.byId(a);this._container=this._node.parentNode}function Qa(a){this._counters=a;for(var e in this._counters)this._counters.hasOwnProperty(e)&&(this._counters[e]=new S(this._counters[e]));this.update=function(a,e){if(\"string\"==typeof a){var b=\n",
       "{};b[a]=e;this.update(b)}else for(b in a)a.hasOwnProperty(b)&&(this._counters[b].update(a[b]),this._counters[b]._isAnim=d.activeUser())}}function l(a){l.__all.push(this);this._opts=a;this._open=this._open.bind(this);this._baseClass=a.baseClass;this._rootNode=a.rootNode;this._dropdown=a.dropdown;this._button=a.button;this._openCounter=a.openCounter||null;this._hideTimeout=null;this._orientation=this._opts.orientation;this._openClass=this._baseClass+\"_open\";this._rightClass=this._openClass+\"_right\";\n",
       "this._leftClass=this._openClass+\"_left\";this._inited=!!this._dropdown;this._triggerHideOnInit=this._triggerShowOnInit=!1;b.event(1,this._button,\"click\",this.show.bind(this))}function s(a,e){e=e||{};this._url=a;this._encoding=e.encoding;this._JSONPCallbackParam=e.JSONPCallbackParam||\"callback\";this._xhrEnabled=!__PHS.jsonpEnabled&&!e.jsonpEnabled;this._processing=!1;this._requestSource=e.requestSource;this._xhr2Supported=!1;try{XMLHttpRequest&&\"withCredentials\"in new XMLHttpRequest&&(this._xhr2Supported=\n",
       "!0)}catch(b){}}function Ra(a){function e(){g!==(g=location.hash.replace(/^#/,\"\")||null)&&f()}this._userEmail=a.userEmail;this.____user=this._userEmail.innerHTML||void 0;var c=\"string\"==typeof this.____user&&this.____user.length;this._user=d.settings.loginFromProject&&\"mail\"==b.project&&c?this.____user:null;this._updateByTimeout=a.updateByTimeout;this.updateLastRequest=0;this._noAuthView=a.noAuthView;this._authView=a.authView;this.updateAccountInfo();var f=b.bind(this.updateAccountInfo,this),i=!1;\n",
       "if(!this._updateByTimeout)if(window.jsHistory&&window.jsHistory.change)window.jsHistory.change(function(){i&&f();i=!0});else if(\"onhashchange\"in window)b.event(1,window,\"hashchange\",f);else{var g=location.hash.replace(/^#/,\"\")||null;b.setIntervalByTimeout(e,50)}}function ja(a,e){var b=document.createElement(\"script\"),f=document.getElementsByTagName(\"head\")[0];\"undefined\"!==typeof e&&(b.defer=\"defer\",b.async=\"async\");b.type=\"text/javascript\";b.src=a;!(\"opera\"in window)||\"complete\"===document.readyState?\n",
       "f.appendChild(b):window.addEventListener(\"DOMContentLoaded\",function(){f.appendChild(b)},!1)}function v(a,e){e=e?e+\",\"+d.settings.project+\":1\":d.settings.project+\":1\";(new Image).src=\"//stat.radar.imgsmail.ru/update?p=headline&t=\"+a+\"&i=\"+e+\"&v=1&rnd=\"+Math.random()}if(!d){var b={};m.swaDomain=\"//portal.mail.ru\";m.authDomain=\"https://auth.mail.ru\";/^https?:\\/\\/[^/]*?\\.dev\\.mail\\.ru($|\\/\\S*)/i.test(location.href)?(m.swaDomain=\"//portal.dev.mail.ru\",m.authDomain=\"https://auth.dev.mail.ru\"):/^https?:\\/\\/[^/]*?\\.devmail\\.ru($|\\/\\S*)/i.test(location.href)&&\n",
       "(m.swaDomain=\"//portal.devmail.ru\",m.authDomain=\"https://auth.devmail.ru\");m.swaTest&&(m.swaDomain=\"//portal.test.mail.ru\",m.authDomain=\"https://test.auth.mail.ru\");window.__PH=d={_:b,experiments:m.exp};delete m.exp;d.settings=m;var P=Array.prototype.slice;void 0===Function.prototype.bind&&(Function.prototype.bind=function(a){var e=P.call(arguments,1),b=this;return function(){return b.apply(a,e.concat(P.call(arguments,0)))}});Array.isArray||(Array.isArray=function(a){return\"[object Array]\"===Object.prototype.toString.call(a)});\n",
       "var H=\"news\",Q=window.setTimeout,da=window.clearTimeout,ka=ca(\"portal-headline\"),T=!1,J=\"classList\"in document.documentElement,Sa=Array.prototype.indexOf?function(a,b){return Array.prototype.indexOf.call(a,b)}:function(a,b){for(var c=0,f=a.length;c<f;c++)if(a[c]==b)return c;return-1},la=window.devicePixelRatio,Ta=void 0!=document.createElement(\"div\").style.backgroundSize&&1<la,ha=\"s_c\",ma={},Ua=function(a){return a.replace(/([A-Z])/g,function(a,b){return\"-\"+b.toLowerCase()}).replace(/^ms-/,\n",
       "\"-ms-\")},Va=function(a){return a.replace(/([a-z])-([a-z])/g,function(a,b,f){return b+f.toUpperCase()}).replace(/^-/,\"\")},na=function(a,b){var c=a.charAt(0).toUpperCase()+a.slice(1);a:{var c=(a+\" \"+Wa.join(c+\" \")+c).split(\" \"),f;b:if(f=c.length,\"CSS\"in window&&\"supports\"in window.CSS){for(;f--;)if(window.CSS.supports(Ua(c[f]),b)){f=!0;break b}f=!1}else f=void 0;if(void 0!==f)c=f;else{var d,g;d=c.length;for(f=0;f<d;f++)if(g=c[f],~(\"\"+g).indexOf(\"-\")&&(g=Va(g)),void 0!==Xa[g]){c=!0;break a}c=!1}}return c},\n",
       "Wa=[\"Moz\",\"O\",\"ms\",\"Webkit\"],D=[],p=[],Xa=function(){return\"function\"!==typeof document.createElement?document.createElement(arguments[0]):\"svg\"===document.documentElement.nodeName.toLowerCase()?document.createElementNS.call(document,\"http://www.w3.org/2000/svg\",arguments[0]):document.createElement.apply(document,arguments)}(\"testelem\").style,t=navigator.userAgent;-1!=t.indexOf(\"Firefox\")?p.push(\"ff\"):-1!=t.indexOf(\"Opera\")?p.push(\"opera\"):-1!=t.indexOf(\"Chrome/40\")&&p.push(\"chrome40\");if(-1!=t.indexOf(\"iPad\")||\n",
       "-1!=t.indexOf(\"iPhone\")||-1!=t.indexOf(\"iPod\"))p.push(\"ios\"),T=!0;-1!=t.indexOf(\"Mac OS\")&&!T?p.push(\"mac\"):-1!=t.indexOf(\"Windows\")?p.push(\"win\"):p.push(\"not-desk\");\"ontouchstart\"in window?p.push(\"touch\"):p.push(\"no-touch\");D.push({name:\"csstransforms\",fn:function(){return-1===navigator.userAgent.indexOf(\"Android 2.\")&&na(\"transform\",\"scale(1)\",!0)},options:void 0});var Ya=na(\"boxShadow\",\"1px 1px\",!0);D.push({name:\"boxshadow\",fn:Ya,options:void 0});var K,z,U,L,V,W;for(W in D)if(D.hasOwnProperty(W)){K=\n",
       "[];z=D[W];z.name&&K.push(z.name.toLowerCase());U=\"function\"===typeof z.fn?z.fn():z.fn;for(L=0;L<K.length;L++)V=K[L],ma[V]=U,p.push((U?\"\":\"no-\")+V)}R(ka,\"x-ph-\"+p.join(\" x-ph-\"));var oa=1*new Date+\"\",Za=oa.substring(oa.length-2),$a=b,ab=H,bb=/\\s*(\\S+)\\s*/g,cb=!/\\[native\\s+code\\]/i.test(document.getElementsByClass+\"\"),db=/\\./g;ba($a,{timers:{},percent:function(a){return Za<a},supports:ma,extend:ba,append:Ea,dpr:la,retina:Ta,project:ab,setTimeout:function(a,b){return Q(a,b)},clearTimeout:function(a){return da(a)},\n",
       "rootNode:ka,byId:ca,byClassName:function(a,b,c){var f,d;\"string\"===typeof a&&(c=b,b=a,a=document);c=c||\"\";if(!a||null==b)return[];b=b.replace(/\\s+/gi,\".\");\".\"!=b[0]&&(b=\".\"+b);if(\"querySelectorAll\"in a){c=a.querySelectorAll(c+b);if(cb){f=-1;for(a=[];d=c[++f];)a.push(d);return a}return c}c=a.getElementsByTagName(c||\"*\");b&&(b=b.replace(db,\" \"),b=RegExp(b.replace(bb,\"(?=(^|.*\\\\s)$1(\\\\s|$))\")));f=-1;for(a=[];d=c[++f];)1===d.nodeType&&(!b||b.test(d.className))&&a.push(d);return a},radar:Fa,bind:Da,setIntervalByTimeout:Ga,\n",
       "eventCancel:Ha,eventPreventDefault:Ia,event:ea,isNode:y,emptyNode:La,count:fa,countEl:Ja,hasParent:Ka,hasClass:I,removeClass:ga,addClass:R,toggleClass:Ma,ArrayIndexOf:Sa,parseJson:Na,isCorp:Oa,isCorpCookie:ha,iOs:T,replaceUnsafeSymbols:Pa});var q,M=function(a,b,c){if(void 0!==b){var f,c=c||{};null===b&&(b=\"\",c.expires=-1);b+=\"\";document.cookie=a+\"=\"+b+(c.expires&&(f=\"number\"==typeof c.expires&&(f=new Date),f.setTime(f.getTime()+864E5*c.expires),f||\"toUTCString\"in c.expires&&c.expires)&&\"; expires=\"+\n",
       "f.toUTCString()||\"\")+(c.path?\"; path=\"+c.path:\"\")+(c.domain?\"; domain=\"+c.domain:\"\")+(c.samesite?\"; SameSite=\"+c.samesite:\"\")+(c.secure?\"; secure\":\"\");return b}if(\"\"!==(document.cookie||\"\"))return b=(document.cookie.match(RegExp(\"(?:^|; ?)\"+a+\"\\\\=(\\\\S*?)(?:; ?|$)\"))||[])[1],void 0===b?void 0:b};\"function\"!=typeof Object.assign&&Object.defineProperty(Object,\"assign\",{value:function(a,b){var c=arguments;if(null==a)throw new TypeError(\"Cannot convert undefined or null to object\");for(var f=Object(a),\n",
       "d=1;d<arguments.length;d++){var g=c[d];if(null!=g)for(var j in g)Object.prototype.hasOwnProperty.call(g,j)&&(f[j]=g[j])}return f},writable:!0,configurable:!0});Array.from||(Array.from=function(a){var b=[];if(!a)return b;switch(a.constructor.name){case \"Object\":return Array.prototype.slice.call(a);case \"Set\":return a.forEach(function(a){b.push(a)}),b;case \"Map\":return a.forEach(function(a,f){b.push([f,a])}),b;default:return[]}});var eb=function(){var a;a=navigator.userAgent;a=!/Version\\/.* Safari\\//.test(a)||\n",
       "/Chrom(e|ium)/.test(a)?!1:(a=a.match(/\\(Macintosh;.*Mac OS X (\\d+)_(\\d+)[_\\d]*.*\\) AppleWebKit\\//))&&\"10\"===a[1]&&\"14\"===a[2];a||(a=(a=navigator.userAgent.match(/\\(iP.+; CPU .*OS (\\d+)[_\\d]*.*\\) AppleWebKit\\//))&&\"12\"===a[1]);if(a)return\"\";document.cookie=\"_s_test=1;path=/;SameSite=None;Secure\";return(a=document.cookie.match(RegExp(\"(?:^|; )\"+\"_s_test\".replace(/([\\.$?*|{}\\(\\)\\[\\]\\\\\\/\\+^])/g,\"\\\\$1\")+\"=([^;]*)\")))&&decodeURIComponent(a[1])?(document.cookie=\"_s_test=1;path=/;max-age=-1;SameSite=None;Secure\",\n",
       "\";SameSite=None;Secure\"):\"\"},pa=/(^|\\.)devmail\\.ru$/.test(window.location.hostname),h={_S_cookie_set_get_remove:function(a,b,c,f){var d,g,j=RegExp(\"(^|\\\\|)(\"+c+\"=)(.*?)(\\\\||$)\"),b=Object.assign({domain:b,expires:365,path:\"/\"},\";SameSite=None;Secure\"===eb()&&{samesite:\"None\",secure:!0});if(c){d=M(a)||\"\";g=(d.match(j)||[])[3];var k=null;void 0!==f?(c=void 0!==g||null===f?k=d.replace(j,null===f?function(a,b,e,c,f,d){return 0===d?\"\":f}:\"$1$2\"+f+\"$4\"):(d?d+\"|\":\"\")+c+\"=\"+f,M(a,c,b),\"\"===k&&M(a,null,b)):\n",
       "f=g;return f}},_throw_noValue_Error:function(){throw Error(\"need value\");},__prefix:null,__domain:pa?\".devmail.ru\":\".mail.ru\",setProject:function(a,b){if(!a||!b)throw Error(\"project is not valid\");\".\"!==b.substr(0,1)&&(b=\".\"+b);h.__prefix=a;pa&&(b=b.replace(/.[a-z0-9\\-]*.[a-z0-9]*$/,\".devmail.ru\"));h.__domain=b},_getPrefix:function(a){a||(a={});a.prefix=a.prefix||h.__prefix;a.domain=a.domain||h.__domain;if(!a.prefix||!a.domain)throw Error(\"run setProject before\");return a},getGlobal:function(a){return h._S_cookie_set_get_remove(\"s\",\n",
       "h.__domain,a)},setGlobal:function(a,b){void 0===b&&h._throw_noValue_Error();h._S_cookie_set_get_remove(\"s\",h.__domain,a,b);return h.getGlobal(a)},removeGlobal:function(a){var b=h.getGlobal(a);h._S_cookie_set_get_remove(\"s\",h.__domain,a,null);return b},getLocal:function(a,b){b=h._getPrefix(b);return h._S_cookie_set_get_remove(\"s_\"+b.prefix,b.domain,a)},setLocal:function(a,b,c){c=h._getPrefix(c);void 0===b&&h._throw_noValue_Error();h._S_cookie_set_get_remove(\"s_\"+c.prefix,c.domain,a,b);return h.getLocal(a,\n",
       "c)},removeLocal:function(a,b){var b=h._getPrefix(b),c=h.getLocal(a,b);h._S_cookie_set_get_remove(\"s_\"+b.prefix,b.domain,a,null);return c}};q=b.SCookie=h;ia.prototype={getQuery:function(){var a=this.invoke.bind(this);a.replace=this.replace.bind(this);return a},invoke:function(){this._fn?this._fn.apply(this._context,arguments):this._invocations.push(arguments)},replace:function(a,b){if(!this._fn){for(var b=b||window,c=0,f=this._invocations.length;c<f;c++)a.apply(b,this._invocations[c]);delete this._invocations;\n",
       "this._fn=a;this._context=b}}};b.extend(b,{DeferredQuery:ia});u.prototype={emit:function(a,b,c){function f(){--g||c&&c()}void 0==b&&(b={});var d=this.listeners(a);if(d)for(var d=d.slice(),a=new u.Event(a,b),g=d.length,b=0,j=g;b<j;b++){var k=d[b];if(\"function\"===typeof k)try{k.call(this,a,f)}catch(h){f()}}else c&&c()},listeners:function(a){return this._events&&this._events[a]&&this._events[a].length&&this._events[a]},addListener:function(a,b){if(\"function\"!==typeof b)throw Error(\"invalid argument\");\n",
       "this._events||(this._events={});this._events[a]||(this._events[a]=[]);this._events[a].push(b);this.emit(\"newlistener\",{type:a});return this},once:function(a,b){function c(){this.removeListener(a,c);b.apply(this,arguments)}if(\"function\"!==typeof b)throw Error(\"invalid argument\");this.on(a,c);return this},removeListener:function(a,e){if(\"function\"!==typeof e)throw Error(\"invalid argument\");if(!this._events[a])return this;var c=this._events[a],f=b.ArrayIndexOf(c,e);if(0>f)return this;c.splice(f,1);0===\n",
       "c.length&&delete this._events[a];return this}};u.prototype.on=u.prototype.addListener;u.Event=function(a,b){this.type=a;this.data=b};u.relay=function(a,b,c){for(var f=0,d=a.length;f<d;f++){var g=a[f];b.on(g,function(a){return function(){c.emit(a)}}(g))}};b.EventEmitter=u;var A=function(){var a=q.getGlobal(qa),b;if(!a)return E(0,0,{id:0,current:0}),{id:0,current:0};b=parseInt(a.substr(0,3),16);a=parseInt(a.substr(3,6),16);return{id:b,current:a}},E=function(a,b,c){(c=c||A())||(c={});void 0!==a&&(c.id=\n",
       "a);c.id=void 0!=c.id&&c.id.toString(16);switch(c.id.length){case 1:c.id=\"00\"+c.id;break;case 2:c.id=\"0\"+c.id}void 0!==b&&(c.current=b);c.current=void 0!=c.current&&c.current.toString(16);switch(c.current.length){case 1:c.current=\"00\"+c.current;break;case 2:c.current=\"0\"+c.current}q.setGlobal(qa,c.id+c.current)},G=function(a,e){function c(a){N!==a&&(N=a,d.emit(\"visibilitychange\",{hidden:a,visible:!a}))}var f;if(e)f=e.hidden,c(f);else if(f=\"focus\"==a.type||\"focusin\"==a.type?!1:\"blur\"==a.type||\"focusout\"==\n",
       "a.type?!0:!!document[F],\"focusout\"==a.type)r=b.setTimeout(function(){r=void 0;c(f)},0);else if(\"focusin\"==a.type)void 0!==r?b.clearTimeout(r):c(f),r=void 0;else if((ra||sa)&&!B)if(f)r=b.setTimeout(function(){r=void 0;try{A().current===w||c(f)}catch(a){b.radar(\"cookieError\",1)}},200);else{try{A().current!==w&&(E(void 0,w),c(f))}catch(i){b.radar(\"cookieError\",1)}b.clearTimeout(r);r=void 0}else c(f)},F,r,N=!1,B,X={hidden:\"visibilitychange\",mozHidden:\"mozvisibilitychange\",webkitHidden:\"webkitvisibilitychange\",\n",
       "msHidden:\"msvisibilitychange\",oHidden:\"ovisibilitychange\"};for(F in X)if(X.hasOwnProperty(F)&&F in document){B=X[F];break}var C=navigator.userAgent,ta=-1<C.indexOf(\"iPad\")||-1<C.indexOf(\"iPhone\")||-1<C.indexOf(\"iPod\"),ra=!B&&-1<C.indexOf(\"Opera\"),sa=0<C.indexOf(\"Safari\")&&-1===C.indexOf(\"Chrome\"),fb=(ra||ta||sa)&&!B,qa=\"t\";try{if(fb){var w,O=A();O.id++;var Y=O.id;4095<Y&&(Y=0);E(Y);O=A();w=O.id;E(void 0,w)}}catch(kb){b.radar(\"cookieError\",1)}if(B)b.event(1,document,B,G);else if(ta){var ua=new Date,\n",
       "va=function(){b.clearTimeout(50);b.setTimeout(va,50);var a=new Date;100<a.getTime()-ua.getTime()&&A().current!==w&&(E(void 0,w),N=!1,G({},{hidden:!0}),N=!0,G({},{hidden:!1}));ua=a};b.setTimeout(va,50)}else b.event(1,window,\"focus\",G),b.event(1,window,\"blur\",G);S.prototype={visibleClass:\"x-ph__link_ext\",show:function(){b.addClass(this._container,this.visibleClass);b.clearTimeout(this._animTimeout);b.clearTimeout(this._animResetTimeout);this._anim&&this._isAnim&&(this._animTimeout=b.setTimeout(function(){b.addClass(this._node,\n",
       "\"x-ph-animated_flash\");this._animResetTimeout=b.setTimeout(function(){b.removeClass(this._node,\"x-ph-animated_flash\")}.bind(this),1E3)}.bind(this),100))},hide:function(){b.removeClass(this._container,this.visibleClass)},value:function(a){void 0!==a&&(this._node.innerHTML=this.prepare(a));return parseInt(this._node.innerHTML,10)||void 0},prepare:function(a){a=parseInt(a);return 0<a?a:0},update:function(a){var e=this.value();b.clearTimeout(this._updateTimeout);this._updateTimeout=b.setTimeout(function(){a=\n",
       "this.value(a);if(void 0!==e&&a>e||d.activeUser()!=this._isAnim)this._anim=!0;this[a?\"show\":\"hide\"]();this._anim=!1}.bind(this),100)}};b.Counters=Qa;b.Counter=S;l.__all=[];l.resetShowOnInit=function(a){for(var b=0,c=l.__all.length;b<c;b++){var f=l.__all[b];if(!a||f!==a)f._triggerShowOnInit=!1,f._triggerHideOnInit=!1}};l.hideAll=function(){for(var a=0,b=l.__all.length;a<b;a++){var c=l.__all[a];c._triggerShowOnInit=!1;c._triggerHideOnInit=!1;c.hide()}};b.extend(l.prototype,b.EventEmitter.prototype,{init:function(a){!this._dropdown&&\n",
       "a&&(this._dropdown=a,this._rootNode.appendChild(a),this._inited=!0,this._triggerShowOnInit&&this.show(),this._triggerHideOnInit&&this.hide(),this._triggerHideOnInit=this._triggerShowOnInit=!1)},_mouseIn:function(){b.clearTimeout(this._hideTimeout)},_mouseOut:function(){b.clearTimeout(this._hideTimeout);this._hideTimeout=b.setTimeout(this.hide.bind(this),4E3)},isVisible:function(){return b.hasClass(this._rootNode,this._openClass)},show:function(a){b.clearTimeout(this._hideTimeout);a&&b.eventPreventDefault(a);\n",
       "this._inited?this.isVisible()||this.emit(\"show\",{},function(){this.__toggle(!0)}.bind(this)):(this._triggerShowOnInit=!0,l.resetShowOnInit(this))},hide:function(){this._inited?this.isVisible()&&this.emit(\"hide\",{},function(){this.__toggle(!1)}.bind(this)):this._triggerShowOnInit=!this._triggerShowOnInit},_hideOther:function(){for(var a=0,b=l.__all.length;a<b;a++){var c=l.__all[a];c!=this&&c.isVisible()&&c.hide();c._triggerShowOnInit=!1}},_click:function(a){var e=a.target||a.srcElement;e==this._dropdown||\n",
       "b.hasParent(e,this._dropdown)?this.emit(\"click\",{clickEvent:a},b.bind(this.hide,this)):\"click\"==a.type&&(b.hasParent(e,this._rootNode)&&b.eventPreventDefault(a),this.hide())},_open:function(){b.clearTimeout(this._openTimeout);this._openTimeout=b.setTimeout(function(){if(this._orientation)b.addClass(this._rootNode,this._openClass),b.addClass(this._rootNode,this[\"_\"+this._orientation+\"Class\"]);else{var a=this._dropdown.clientWidth,e=this._rootNode.offsetLeft,c=a+(this._rootNode.offsetParent==b.rootNode?\n",
       "e:1E4),f=document.body.offsetWidth;b.addClass(this._rootNode,this._openClass);b.removeClass(this._rootNode,c<=f?this._rightClass:this._leftClass);b.addClass(this._rootNode,c>f?this._rightClass:this._leftClass);this._dropdown.style.right=e+this._rootNode.clientWidth<a&&c>f?-(a-(e+this._rootNode.clientWidth)+10)+\"px\":\"\"}a=function(){if(window.URL||window.webkitURL)this._dropdown.style.width=this._dropdown.clientWidth+1+\"px\",this._dropdown.style.width=null}.bind(this);a();b.setTimeout(a,0)}.bind(this),\n",
       "0)},__toggle:function(a){b.clearTimeout(this.__eventsTimeout);this.__eventsTimeout=b.setTimeout(function(){b.event(a,document,\"click\",this.__click||(this.__click=this._click.bind(this)));b.event(a,this._rootNode,\"mouseout\",this.__mouseOut||(this.__mouseOut=this._mouseOut.bind(this)));b.event(a,this._rootNode,\"mouseover\",this.__mouseIn||(this.__mouseIn=this._mouseIn.bind(this)))}.bind(this),10);a?(this._openCounter&&b.count(this._openCounter),\"block\"!==this._dropdown.style.display&&(this._dropdown.style.display=\n",
       "\"block\"),this._open(),b.event(1,window,\"resize\",this._open)):(b.removeClass(this._rootNode,this._openClass),b.removeClass(this._rootNode,this._leftClass),b.removeClass(this._rootNode,this._rightClass),b.event(0,window,\"resize\",this._open))}});b.Menu=l;var wa=document.getElementsByTagName(\"head\")[0];s.prototype={get:function(a){a=b.extend({encoding:this._encoding,params:{},complete:function(){}},a);this.cancel();return this[this._isXHR2()?\"_getXHR\":\"_getScript\"](this._url,a)},_isXHR2:function(){return this._xhrEnabled&&\n",
       "this._xhr2Supported},_getUrl:function(a,b){var c=!!~a.indexOf(\"?\");b.rnd=(new Date).getTime();for(var f in b)if(b.hasOwnProperty(f)){var d=b[f];\"function\"==typeof d&&(d=d(b));void 0!==d&&(a+=(c?\"&\":\"?\")+f+\"=\"+encodeURIComponent(d),c=!0)}return a},_getXHR:function(a,e){var c=new XMLHttpRequest;this._processing=!0;b.clearTimeout(this._xhrTimeout);e.timeout&&(this._xhrTimeout=b.setTimeout(function(){this._processing&&(b.clearTimeout(this._xhrTimeout),this._processing=!1,this.cancel(),e.complete({status:\"error\",\n",
       "errorType:\"timeout\"}))}.bind(this),e.timeout));c.onreadystatechange=function(){if(this._processing){var a;if(4===c.readyState){b.clearTimeout(this._xhrTimeout);this._processing=!1;var d;if(200==c.status){try{d=b.parseJson(c.responseText)}catch(g){a=!!g}if(\"object\"!==typeof d||!d)a=!0}!a&&200==c.status?(a=d,a.error&&!a.errorType&&(a.errorType=\"serverError\")):a=a?{status:\"error\",errorType:\"parseError\"}:200!=c.status?{status:\"error\",errorType:\"netError\"}:{status:\"error\"};this._requestSource&&(a.requestSource=\n",
       "this._requestSource);e.complete(a)}}}.bind(this);c.open(\"get\",this._getUrl(a,e.params),!0);c.withCredentials=!0;c.send(null);this._xhr=c},_getScript:function(a,e){function c(){wa.appendChild(i);b.setTimeout(function(){wa.removeChild(i)},6E4)}var d=this._cbName=\"__PHJSONPCallback_\"+s.getUuid(),i=document.createElement(\"script\"),g,j=e.timeout;e.params[this._JSONPCallbackParam]=d;a=this._getUrl(a,e.params);window[d]=function(a){b.clearTimeout(g);window[d]=s.__PHEmptyCallback;this._cbName=null;this._processing=\n",
       "!1;this._requestSource&&(a.requestSource=this._requestSource);a.error&&!a.errorType&&(a.errorType=\"serverError\");\"cancel\"!=a.status&&e.complete(a)}.bind(this);i.defer=\"defer\";i.async=\"async\";i.type=\"text/javascript\";e.encoding&&(i.charset=e.encoding);i.src=a;!(\"opera\"in window)||\"complete\"===document.readyState?(this._processing=!0,c()):window.addEventListener(\"DOMContentLoaded\",b.bind(function(){this._processing=!0;c()},this),!1);j&&(g=b.setTimeout(b.bind(function(){window[this._cbName]({status:\"error\",\n",
       "errorType:\"timeout\"})},this),j))},isProcessing:function(){return this._processing},cancel:function(){this._isXHR2()?this._cancelXHR():this._cancelScript()},_cancelXHR:function(){this._xhr&&this._xhr.abort()},_cancelScript:function(){this._cbName&&window[this._cbName]&&window[this._cbName]({status:\"cancel\"})}};s.__uuid=0;s.getUuid=function(){return s.__uuid++};s.__PHEmptyCallback=function(){};b.extend(b,{Transport:s});b.AccountManager=Ra;b.extend(b.AccountManager.prototype,b.EventEmitter.prototype,\n",
       "{activeUser:function(){return this._user},updateLogin:function(a,b){this._user=a;this._userEmail.innerHTML=this.drawName(a,b);a?(this._noAuthView.style.display=\"none\",this._authView.style.display=\"\"):(this._authView.style.display=\"none\",this._noAuthView.style.display=\"\")},isCorp:b.isCorp,isCorpCookie:b.isCorpCookie,setCorp:function(a){for(var e=0,c=a.length;e<c;e++)if(\"corp.mail.ru\"===a[e].split(\"@\")[1])return b.SCookie.setGlobal(this.isCorpCookie,(new Date).getTime()),!0;if((a=b.SCookie.getGlobal(this.isCorpCookie))&&\n",
       "(new Date).getTime()>1*a+864E5)return b.SCookie.removeGlobal(this.isCorpCookie),!1},drawName:function(a,e){var c=\"\";\"string\"!=typeof e?(this._userEmail.className=d.settings.multiAuthEnabled?\"x-ph__menu__button__text x-ph__menu__button__text_auth\":\"x-ph__auth__user__text\",c=a):(b.addClass(this._userEmail,\"x-ph-ico x-ph-ico_\"+this.getSocialId(a)+\"_small\"),c=\"&nbsp;\"+e);return c},getSocialId:function(a){a=a.match(/^[0-9]+@(vk|ok|fb)$/);return null==a?void 0:a[1]}});var xa=!1;b.extend(b.AccountManager.prototype,\n",
       "{updateCounters:function(a){var e={},a=a||{};if(\"mail\"!=b.project&&!(\"home\"==b.project&&d.settings.mailSplashUpdate)||!xa&&\"mail\"==b.project&&!d.settings.mailEvents)e.mail=a.mail_cnt||0;xa=!0;e.my=a.my_cnt||0;d.settings.disableGamesCounter||(e.games=a.games_cnt||0);this.updateNotifier(a);b.counters.update(e)},updateNotifier:function(a){var e=b.byId(\"PH_authMenu\"),a=a.mail_notifier?parseInt(a.mail_notifier,10):0;b[(0==a?\"remove\":\"add\")+\"Class\"](e,\"x-ph__menu_auth_unread\")},_sendError:function(a){var e=\n",
       "{updateError:1},c=d.settings.logDetails?{rlog:\"navidata_errors\",email:d.activeUser(),rlog_message:[]}:null;a.errorType&&(e[\"updateError_\"+a.errorType]=1,c&&c.rlog_message.push(a.errorType));a.requestSource&&(e[\"updateError_\"+a.requestSource]=1,c&&c.rlog_message.push(a.requestSource),a.errorType&&(e[\"updateError_\"+a.errorType+\"_\"+a.requestSource]=1,c&&c.rlog_message.push(a.errorType)));c?b.radar(e,c):b.radar(e);this.emit(\"updateError\")},_PHUpdater:function(a,e,c){function f(a){\"ok\"!=b.project&&d.settings.portalAuthEnabled&&\n",
       "this.updateLogin(k,m);this.updateCounters(g);\"function\"===typeof a&&a()}var i=a.status,e=e||function(){};if(\"error\"==i)this._sendError(a),e();else{var g=a.data,j=g.action,k=g.email,h=g.requestedLogin,l=b.bind(f,this),m=\"undefined\"!==typeof g.soc_name?b.replaceUnsafeSymbols(g.soc_name):void 0;this.setCorp(g.list||[]);d.settings.portalAuthEnabled?\"switch\"==j?\"disabled\"==i?c?(b.radar({disabledUser:1,disabledUserRestore:1}),e()):(this.emit(\"disabledUser\"),d.emit(\"disabledUser\",a.data,function(){b.radar({disabledUser:1,\n",
       "disabledUserSendToLogin:1});window.location=\"https://e.mail.ru/login?fail=1&d1&page=\"+encodeURIComponent(location.href)+\"&email=\"+encodeURIComponent(k)})):\"ok\"==i&&k!=this.activeUser()?(this.emit(\"authChange\"),(new Image).src=\"//r3.mail.ru/k?auth=1&rnd=\"+Math.random(),d.listeners(\"authChange\")?(b.radar(\"authChange\",1),!k||void 0!==g.mail_cnt?d.emit(\"authChange\",a.data,function(){l(e)}):this.loadAccountInfo(b.bind(function(a){\"error\"==a.status?(this._sendError(a),e()):(g=b.extend(a.data,g),d.emit(\"authChange\",\n",
       "g,function(){l(e)}))},this),k)):c?(b.radar(\"authChangeReloadDis\",1),!k||void 0!==g.mail_cnt?l(e):this.loadAccountInfo(b.bind(function(a){\"error\"==a.status?(this._sendError(a),e()):(g=b.extend(a.data,g),l(e))},this),k)):(b.radar(\"authChangeReload\",1),b.setTimeout(function(){location.reload()},10))):\"noauth\"==i&&k!=this.activeUser()?(\"home\"===b.project&&(i=[],i.push(\"headlineAuthLost\"),i.push(\"mpop=\"+(d.cookie(\"Mpop\")?\"1\":\"0\")),i.push(\"activeEmail=\"+this.activeUser()),i.push(\"newEmail=\"+k),(new Image).src=\n",
       "\"//gstat.imgsmail.ru/gstat?ua=1&logme=\"+encodeURIComponent(i.join(\";\"))+\"&rnd=\"+(new Date).getTime()+Math.random()),-1!==g.list.indexOf(h)?__PH.authForm.show({type:\"choice\",email:h}):(b.radar(\"authLost\",1),this.emit(\"authLost\"),i=function(){a.status=\"ok\";a.data.action=\"switch\";this._PHUpdater(a,e,c)}.bind(this),d.emit(\"authLost\",a.data,i))):(b.radar(\"authRestore\",1),\"function\"===typeof e&&e()):\"list\"==j&&(\"____user\"in this&&(this.____user!==k&&\"mail\"===b.project&&((new Image).src=\"//gstat.imgsmail.ru/gstat?logme=\"+\n",
       "encodeURIComponent(\"headlineFail;headlineEmail=\"+k+\";projectEmail=\"+this.____user)+\"&rnd=\"+(new Date).getTime()+Math.random(),h={userMismatch:1},h[\"userMismatch_\"+(k?\"\":\"no\")+\"HeadlineUser\"]=1,h[\"userMismatch_\"+(this.____user?\"\":\"no\")+\"ProjectUser\"]=1,h[\"userMismatch_\"+(this.____user?\"\":\"no\")+\"PUser_\"+(k?\"\":\"no\")+\"HUser\"]=1,b.radar(h)),delete this.____user),null===this.activeUser()?(d.settings.enableUpdateRadars&&b.radar(\"update\",1),this.emit(\"update\"),d.emit(\"update\",a.data,function(){l(e)})):k==\n",
       "this.activeUser()?((h=d.cookie(\"Mpop\"))&&(\"ok\"==i&&this.activeUser()&&-1==h.indexOf(this.activeUser()))&&b.count(\"d1409289\"),d.settings.enableUpdateRadars&&b.radar(\"update\",1),this.emit(\"update\"),d.emit(\"update\",a.data,function(){l(e)})):(a.data.action=\"switch\",this._PHUpdater(a,e,!0))):(d.settings.enableUpdateRadars&&b.radar(\"update\",1),this.emit(\"update\"),d.emit(\"update\",a.data,function(){l(e)}))}}});b.extend(b.AccountManager.prototype,{_authTransport:new b.Transport(d.settings.authDomain+\"/cgi-bin/auth?mac=1\",\n",
       "{JSONPCallbackParam:\"JSONP_call\",requestSource:\"auth\"}),switchAccount:function(a,b,c){var d={};if(a){d.Login=a;var i=this.updateResume(b||function(){}),b=function(b){b.data&&(b.data.requestedLogin=a);this._PHUpdater(b,i,c)}.bind(this);this._authTransport.get({params:d,complete:b,timeout:3E4})}},_logoutTransport:new b.Transport(d.settings.authDomain+\"/cgi-bin/logout?mac=1\",{JSONPCallbackParam:\"JSONP_call\",requestSource:\"logout\"}),logoutAccount:function(a,b){var c={};if(a&&a!==this.activeUser())c.Login=\n",
       "a;else throw Error(\"Can not logout. Not active account expected.\");this._logoutTransport.get({params:c,complete:b})}});var Z=!1,ya;b.extend(b.AccountManager.prototype,{_accountInfoTransport:new b.Transport(d.settings.swaDomain+\"/NaviData?mac=1&gamescnt=1&Socials=1\",{JSONPCallbackParam:\"JSONP_call\",requestSource:\"accountInfo\"}),loadAccountInfo:function(a,b){var c={};if(b=!d.settings.multiAuthEnabled?void 0:b||this.activeUser())c.Login=b;this._accountInfoTransport.get({params:c,complete:function(b){\"function\"===\n",
       "typeof a&&a(b)},timeout:3E4})},updateAccountInfo:function(a,b){if(!Z){var c=+new Date;if(this._updateByTimeout||!this._updateByTimeout&&this.updateLastRequest<c-this.updateRequestTimeout||b)!this._updateByTimeout&&this.updateLastRequest&&((new Image).src=\"//rs.mail.ru/d\"+\"534891\".replace(\"%\",\"\")+\".gif?\"+c),this.updateLastRequest=c,c=function(b){this._PHUpdater(b,a)}.bind(this),c=this.updateResume(c),this.loadAccountInfo(c)}},updateRequestTimeout:6E4,updateReset:function(a){this._updateByTimeout&&(a?\n",
       "(a=this.updateRequestTimeout-(new Date).getTime()+this.updateLastRequest,0>a&&(a=0)):a=this.updateRequestTimeout,b.clearTimeout(this._listAccountTimeout),this._listAccountTimeout=b.setTimeout(b.bind(this.updateAccountInfo,this),a))},updateResume:function(a){if(this._updateByTimeout){var e=this._accountInfoTransport.isProcessing();this._accountInfoTransport.cancel();this.updateReset();var c=!1;this.once(\"authChange\",function(a,b){c=!0;\"function\"===typeof b&&b()})}return b.bind(function(b){this._updateByTimeout&&\n",
       "(e?c?this.updateReset():this.updateAccountInfo():c?this.updateReset():this.updateReset(!0));\"function\"==typeof a&&a(b)},this)},pauseUpdate:function(a,b){a?ya=setTimeout(function(){Z=!0},b):(clearTimeout(ya),Z=!1)}});Event.prototype.composedPath||(Event.prototype.composedPath=function(){for(var a=this.target,b=[];null!==a;)b.push(a),a=a.parentNode;return b});b.SCookie[(b.retina?\"set\":\"remove\")+\"Global\"](\"rt\",1);b.SCookie[(b.retina?\"set\":\"remove\")+\"Global\"](\"dpr\",b.dpr);d.settings.enableUpdateRadars=\n",
       "b.percent(1);d.settings.authFormEnabled=d.settings.multiAuthEnabled=d.settings.portalAuthEnabled;b.rbCounters=d.settings.isDuplicateCounters?{projectMenuOpen:\"d61021872\"}:{projectMenuOpen:\"d535045\"};var za=!1,x=navigator.userAgent;if(~x.indexOf(\"Opera\")&&(!~x.indexOf(\"Opera/9.8\")||~x.indexOf(\"Version/10\")||~x.indexOf(\"Version/11\")||~x.indexOf(\"Opera/10\")||~x.indexOf(\"Opera 10\"))||window.____________ie7||~x.indexOf(\"Firefox/3.\"))d.settings.multiAuthEnabled=!1,d.settings.authFormEnabled=\n",
       "!1,za=!0;b.byId(\"PH_singleuser\").style.display=d.settings.multiAuthEnabled?\"none\":\"block\";b.byId(\"PH_miltiuser\").style.display=d.settings.multiAuthEnabled?\"block\":\"none\";d.settings.projectsMenuEnabled=!1;za||(d.settings.projectsMenuEnabled=!0,b.byId(\"PH_projectsMenu\").style.display=\"inline-block\",b.byId(\"PH_allProjects\").style.display=\"none\",b.projectsMenuOpen=(new b.DeferredQuery).getQuery(),b.event(1,b.byId(\"PH_projectsMenu_button\"),\"click\",b.projectsMenuOpen));d.settings.bizLinks&&(b.byId(\"PH_projectsMenu\").style.display=\n",
       "\"none\",b.byId(\"PH_allProjects\").style.display=\"none\");b.countEl(b.byId(\"PH_logoutLink\"));b.event(1,b.byId(\"PH_logoutLink\"),\"mousedown\",function(){b.count(\"clb75068944\")});b.countEl(b.byId(\"PH_loginLink\")||b.byId(\"PH_authLink\"));b.extend(d,b.EventEmitter.prototype,{cookie:M});d.cookie.s={};b.extend(d.cookie.s,{getLocal:q.getLocal,setLocal:q.setLocal,removeLocal:q.removeLocal,getGlobal:q.getGlobal,setGlobal:q.setGlobal,removeGlobal:q.removeGlobal,setProject:q.setProject});var Aa=\"mail\"!==b.project;\n",
       "b.accountManager=new b.AccountManager({noAuthView:b.byId(\"PH_noAuthView\"),authView:b.byId(\"PH_authView\"),userEmail:b.byId(d.settings.multiAuthEnabled?\"PH_user-email\":\"PH_user-email_disabled\"),updateByTimeout:Aa});b.counters=new b.Counters({mail:\"g_mail_events\",my:\"g_my_events\",ok:\"g_ok_events\",games:\"g_games_events\",love:\"g_love_events\"});d.updateCounter=function(a){\"sting\"===typeof a||\"number\"===typeof a||void 0===a||null===a?b.counters._counters[b.project]&&b.counters.update(b.project,a):b.counters.update(a);\n",
       "Aa||b.accountManager.updateAccountInfo()};\"mail\"==b.project&&window.jQuery&&window.jQuery(window).bind(\"updatemessagescount\",function(a,b){d.updateCounter(b)});d.isMultiAuth=function(){return d.settings.multiAuthEnabled};d.activeUser=function(){if(d.settings.portalAuthEnabled){var a=b.accountManager.activeUser();return null===a?b.accountManager.____user:a}return b.byId(\"PH_user-email_disabled\").innerHTML||void 0};d.settings.portalAuthEnabled&&(d.isCorp=function(){var a=d.activeUser();return\"corp.mail.ru\"==\n",
       "(a&&a.split(\"@\")[1])},d.switchAccount=function(a,e){b.accountManager.switchAccount(a,e)},d.logoutAccount=function(a,e){b.accountManager.logoutAccount(a,function(){b.accountManager.loadAccountsList(e)})});if(d.settings.multiAuthEnabled){var Ba=d.settings.eid?\"_\"+d.settings.eid:\"\";d.loadAccountsList=(new b.DeferredQuery).getQuery();v(\"extra_block_show\"+Ba);if(performance.now){var gb=performance.now(),hb=\"time:\"+Math.round(gb);v(\"app_init\",hb)}d.settings.user||(v(\"login_counter_show\"+Ba),b.timers.noAuthRender=\n",
       "1*new Date);d.on(\"visibilitychange\",function(a){a.data.hidden?d.settings.pauseUpdate&&b.accountManager.pauseUpdate(!0,d.settings.pauseUpdateTime||36E5):(null!==b.accountManager.activeUser()&&b.accountManager.activeUser()?b.accountManager.switchAccount(b.accountManager.activeUser(),null,!0):b.accountManager.updateAccountInfo(function(){},!0),d.settings.pauseUpdate&&b.accountManager.pauseUpdate())})}b.authMenu=new b.Menu({baseClass:\"x-ph__menu\",orientation:\"right\",rootNode:b.byId(\"PH_authMenu\"),button:b.byId(\"PH_authMenu_button\"),\n",
       "openCounter:\"home\"==b.project?\"d1126003\":\"mail\"==b.project?\"d1126002\":\"my\"==b.project?\"d1270901\":\"d1126005\"});d.authMenu=new b.EventEmitter;d.authForm=new b.EventEmitter;var $=b.byId(\"PH_authMenu\");$&&$.addEventListener(\"mousedown\",function(a){var e=b.byId(\"PH_privateData\"),c=b.byId(\"PH_passwordAndSecurity\"),d=b.byId(\"PH_loginAnotherLink\"),a=a.path||a.composedPath(),h;Array.prototype.forEach.call(a,function(a,b){a===$&&(h=b)});a=a.slice(0,h+1);0<=a.indexOf(e)?b.count(\"clb75068936\"):0<=a.indexOf(c)?\n",
       "b.count(\"clb75068940\"):0<=a.indexOf(d)&&b.count(\"home\"==b.project?\"clb1126064\":\"mail\"==b.project?\"clb1126061\":\"my\"==b.project?\"clb1270902\":\"clb1126067\")});d.settings.multiAuthEnabled&&(d.authMenu.show=b.authMenu.show.bind(b.authMenu),d.authMenu.hide=b.authMenu.hide.bind(b.authMenu));d.settings.authFormEnabled?(b.showQuery=(new b.DeferredQuery).getQuery(),d.authForm.show=function(){b.timers.render=1*new Date;b.showQuery.apply(this,arguments)},d.authForm.hide=(new b.DeferredQuery).getQuery(),d.authForm.insert=\n",
       "(new b.DeferredQuery).getQuery(),d.authForm.isVisible=function(){return!1}):(d.authForm.show=function(a){var d=[];a||(a={});a.login&&a.domain&&d.push(\"email=\"+a.login+\"@\"+a.domain);a.successPage?d.push(\"page=\"+a.successPage):d.push(\"page=\"+(\"mail\"==b.project||\"home\"==b.project?\"https://e.mail.ru/messages/inbox?back=1\":window.location.href));window.location=\"https://e.mail.ru/login?\"+d.join(\"&\")},d.authForm.hide=function(){},d.authForm.isVisible=function(){return b.authForm?b.authForm.isVisible():\n",
       "!1});b.authLinkClickHandler=function(a){var e=d.listeners(\"loginRequest\"),c=d.settings.eid?\"_\"+d.settings.eid:\"\",f=1*new Date-b.timers.noAuthRender<=(d.settings.botTimer||500);e?(b.eventPreventDefault(a),d.emit(\"loginRequest\")):d.settings.authFormEnabled&&(b.eventPreventDefault(a),d.authForm.show());b.count(\"clb75068996\");v(\"login_counter_click\"+c);f&&v(\"bot_login_counter\"+c)};b.event(1,b.byId(\"PH_authLink\"),\"click\",b.authLinkClickHandler);b.registerLinkClickHandler=function(a){d.listeners(\"registerRequest\")&&\n",
       "(b.eventPreventDefault(a),d.authForm.hide(),d.emit(\"registerRequest\"));b.count(\"clb75068995\")};b.event(1,b.byId(\"PH_regLink\"),\"click\",b.registerLinkClickHandler);d.isAuthFormEnabled=function(){return d.settings.authFormEnabled};if(d.settings.projectsMenuEnabled||d.settings.multiAuthEnabled||d.settings.authFormEnabled)d.settings.authGate&&ja(d.settings.authGateJS+(d.settings.authGateJSHasVer?\"\":\"?_=\"+Math.random())),ja(d.settings.externalJS,!0);if(d.settings.isDuplicateCounters){var ib=[61021854,61021856,\n",
       "61021857,61021858,61021859,61021860,61021861,61021862,61021863,61021866,61944424],jb=document.querySelector(\".w-x-ph .w-x-ph__col_left\");Array.from(jb.querySelectorAll(\".x-ph__link\")).filter(function(a){if(\"none\"!=a.style.display)return!0}).forEach(function(a,d){var c=ib[d];b.event(1,a,\"mousedown\",function(){b.count(\"clb\"+c)})})}d.settings.isShowDot&&(b.count(\"d80556828\"),b.event(1,b.byId(\"PH_dot\"),\"mousedown\",function(){b.count(\"clb80556828\")}));v(\"hit\");var Ca,aa=null;Ca=function(){var a=aa;aa=\n",
       "Date.now();(!a||1E4<aa-a)&&v(\"document_dragenter\")};document.addEventListener(\"dragenter\",function(a){if(a=a.dataTransfer&&a.dataTransfer.types){var b=!1,c=!1;a.forEach(function(a){~a.indexOf(\"text\")&&(c=!0);~a.indexOf(\"File\")&&(b=!0)});b&&!c&&Ca()}},!0)}})(window.__PH,window.__PHS); //# sourceURL=https://img.imgsmail.ru/ph/0.64.27/inline.js\n",
       "</script><script src=\"https://limg.imgsmail.ru/informers/abp/px.js?ch=1\" type=\"text/javascript\"></script><script src=\"https://limg.imgsmail.ru/informers/abp/px.js?ch=2\" type=\"text/javascript\"></script><script>\n",
       "\t\t\tfunction abpDetected() {\n",
       "\t\t\t\ttry {\n",
       "\t\t\t\t\tvar _0x398a=['==\\x20-','.css','Obje','exOf','a.in','(\\x27he','1)\\x20{','r.ge','\\x20!==','\\x20orp','\\x20-1)','th;\\x20','t\\x20&&','ipto','yTag','emen','ex++','Wind','Text',':\\x2043','\\x09\\x09\\x09}','\\x0a\\x09\\x09\\x09','dden','e\\x20=\\x20','=\\x20ru','\\x20\\x27co','mpor','meEl','dow\\x27','();\\x0a','lity','Name','e)\\x20{','f\\x20(u','\\x20!im','\\x27OPR','impo','ByTa',';\\x0a\\x09\\x09','\\x09if\\x20','\\x20nod','}\\x0a\\x09\\x09','IFra','21\\x20!','njec','\\x09\\x09}\\x0a','ourc','\\x09\\x09\\x09i','.rul','les\\x20','&&\\x20d','s[no','ad\\x27)','hans','gth\\x20','user','\\x20rul','nten','rule','sour','\\x20des','(var','getE','tch\\x20','gNam','ow\\x27)','var\\x20','rn\\x20\\x27','dblo','tent','eInd','node','ype,','ules','e.te','de.s','tor(','otot','.ind','\\x09var',')\\x20{\\x0a','for\\x20','.get',');\\x0a\\x09','heet','ck\\x27;','pert','etOw','lay:','(des','\\x20{\\x0a\\x09','adbl','n\\x20\\x27a','f(\\x27i','tWin','\\x09\\x09\\x09r','ch\\x20(','s[ru','{\\x0a\\x09\\x09','leme','ocum','nPro','Inde','rtan','\\x200,\\x20','xOf(','\\x0a\\x09\\x09i','ex\\x20=','e\\x20!i','inde','(\\x27{\\x20','=\\x20no','Elem',';\\x20vi','}\\x20ca','crip','\\x09\\x09\\x09\\x09','gth;','f\\x20(r','ent.','ring','escr','head','\\x09}\\x0a\\x09','ock\\x27','if\\x20(','port','es;\\x0a','tor\\x20','dexO','\\x0a\\x09\\x09v','HTML','leIn','\\x20&&\\x20','xtCo','leng','x\\x20<\\x20','\\x27);\\x0a','tInt','t\\x27];','deIn','ents','disp','oCon','dex]','\\x09\\x09va','sLen','eet)','yDes','\\x27)\\x20!','t)\\x20{',':\\x20hi','igat','pera','les.','ua\\x20=','get.','tor.','s\\x20=\\x20','\\x09try','!nod','\\x20nav','e(\\x27s','e.in','toSt','ce\\x20='];(function(_0x27a548,_0x398a93){var _0x58226b=function(_0x227b5e){while(--_0x227b5e){_0x27a548['push'](_0x27a548['shift']());}};_0x58226b(++_0x398a93);}(_0x398a,0x10a));var _0x5822=function(_0x27a548,_0x398a93){_0x27a548=_0x27a548-0x0;var _0x58226b=_0x398a[_0x27a548];return _0x58226b;};return Function(_0x5822('0x1e')+'ar\\x20d'+_0x5822('0x15')+_0x5822('0x4f')+'r\\x20=\\x20'+_0x5822('0x44')+'ct.g'+_0x5822('0x99')+_0x5822('0x1')+_0x5822('0x98')+_0x5822('0x30')+_0x5822('0xf')+_0x5822('0x8e')+_0x5822('0x1f')+_0x5822('0x6c')+_0x5822('0x5d')+_0x5822('0x51')+'t.pr'+_0x5822('0x8f')+_0x5822('0x8a')+_0x5822('0x5b')+_0x5822('0x7b')+_0x5822('0xa0')+_0x5822('0x5e')+_0x5822('0x95')+_0x5822('0x69')+_0x5822('0x9b')+_0x5822('0xf')+_0x5822('0x1c')+_0x5822('0x74')+'escr'+_0x5822('0x4f')+_0x5822('0x49')+_0x5822('0x32')+_0x5822('0x57')+'var\\x20'+_0x5822('0x7d')+_0x5822('0x41')+_0x5822('0x7e')+'crip'+_0x5822('0x39')+_0x5822('0x38')+_0x5822('0x40')+_0x5822('0x14')+_0x5822('0x5f')+_0x5822('0x71')+'f\\x20(s'+_0x5822('0x70')+_0x5822('0x3f')+'dexO'+_0x5822('0x9f')+_0x5822('0x6e')+_0x5822('0x26')+_0x5822('0x2b')+_0x5822('0x87')+_0x5822('0x53')+_0x5822('0x83')+_0x5822('0x4a')+_0x5822('0x4c')+_0x5822('0x9c')+_0x5822('0xa1')+'etur'+_0x5822('0x9e')+_0x5822('0x86')+_0x5822('0x97')+_0x5822('0x57')+_0x5822('0x6b')+'}\\x0a\\x09\\x09'+_0x5822('0x84')+_0x5822('0x37')+_0x5822('0x3d')+_0x5822('0x34')+'or[\\x27'+_0x5822('0x79')+'Agen'+_0x5822('0x27')+_0x5822('0x6')+_0x5822('0x63')+_0x5822('0x46')+_0x5822('0x1d')+'f(\\x27O'+_0x5822('0x35')+_0x5822('0x31')+_0x5822('0x42')+'1\\x20||'+'\\x20ua.'+_0x5822('0x9')+_0x5822('0x5')+_0x5822('0x65')+_0x5822('0x31')+'==\\x20-'+_0x5822('0x48')+_0x5822('0x57')+_0x5822('0x84')+_0x5822('0x16')+'\\x20=\\x20d'+_0x5822('0x0')+_0x5822('0x13')+_0x5822('0x80')+_0x5822('0xa5')+'ntsB'+_0x5822('0x50')+_0x5822('0x61')+_0x5822('0x47')+_0x5822('0x76')+'[0];'+'\\x0a\\x09\\x09\\x09'+_0x5822('0x19')+_0x5822('0x16')+_0x5822('0x92')+'\\x09\\x09\\x09\\x09'+_0x5822('0x84')+_0x5822('0x89')+_0x5822('0x3a')+_0x5822('0x16')+_0x5822('0x94')+_0x5822('0xc')+_0x5822('0x29')+_0x5822('0x67')+_0x5822('0x82')+_0x5822('0x3e')+'tyle'+_0x5822('0x25')+_0x5822('0x10')+_0x5822('0x93')+_0x5822('0x7f')+'\\x20nod'+_0x5822('0x88')+_0x5822('0x7')+_0x5822('0x4')+_0x5822('0x89')+_0x5822('0x2e')+_0x5822('0x78')+_0x5822('0xb')+'des.'+_0x5822('0x23')+'th;\\x20'+_0x5822('0x89')+_0x5822('0x2')+_0x5822('0x24')+_0x5822('0x89')+'sLen'+_0x5822('0x11')+_0x5822('0x6a')+_0x5822('0x88')+_0x5822('0x52')+')\\x20{\\x0a'+_0x5822('0x10')+'\\x09try'+_0x5822('0x9c')+_0x5822('0x10')+_0x5822('0x91')+_0x5822('0x6a')+_0x5822('0x59')+_0x5822('0x89')+_0x5822('0x75')+_0x5822('0x28')+_0x5822('0x2c')+_0x5822('0x68')+_0x5822('0x10')+'if\\x20('+'node'+_0x5822('0x21')+_0x5822('0x3c')+_0x5822('0x8c')+_0x5822('0x22')+_0x5822('0x7b')+_0x5822('0x4e')+'\\x20nod'+'e.sh'+_0x5822('0x2f')+_0x5822('0x9c')+_0x5822('0x10')+_0x5822('0x2d')+'r\\x20ru'+_0x5822('0x73')+_0x5822('0xb')+_0x5822('0x8d')+_0x5822('0x96')+_0x5822('0x72')+_0x5822('0x1b')+_0x5822('0x10')+_0x5822('0x71')+_0x5822('0x12')+_0x5822('0x8b')+')\\x20{\\x0a'+_0x5822('0x10')+'\\x09\\x09\\x09\\x09'+_0x5822('0x93')+_0x5822('0x7f')+_0x5822('0x7a')+_0x5822('0x88')+_0x5822('0x7')+_0x5822('0x4')+_0x5822('0x7c')+_0x5822('0x2e')+'gth\\x20'+_0x5822('0x5a')+_0x5822('0x36')+_0x5822('0x23')+_0x5822('0x4d')+_0x5822('0x7c')+_0x5822('0x2')+'x\\x20<\\x20'+_0x5822('0x7c')+_0x5822('0x2e')+_0x5822('0x11')+_0x5822('0x7a')+_0x5822('0x88')+'ex++'+_0x5822('0x92')+'\\x09\\x09\\x09\\x09'+_0x5822('0x10')+_0x5822('0x3b')+'\\x20{\\x0a\\x09'+_0x5822('0x10')+'\\x09\\x09\\x09\\x09'+_0x5822('0x91')+_0x5822('0x7a')+'e\\x20=\\x20'+_0x5822('0x7c')+_0x5822('0xa3')+_0x5822('0x20')+_0x5822('0x2c')+_0x5822('0x68')+_0x5822('0x10')+'\\x09\\x09\\x09\\x09'+_0x5822('0x19')+_0x5822('0x7c')+_0x5822('0x43')+_0x5822('0x54')+_0x5822('0x90')+_0x5822('0x45')+_0x5822('0xa')+_0x5822('0x2a')+_0x5822('0x9a')+'\\x20non'+_0x5822('0x8')+_0x5822('0x5c')+'tant'+_0x5822('0xd')+'sibi'+_0x5822('0x60')+_0x5822('0x33')+_0x5822('0x58')+_0x5822('0x64')+_0x5822('0x1a')+'ant;'+_0x5822('0x4b')+_0x5822('0x77')+(_0x5822('0x55')+_0x5822('0x6d')+_0x5822('0x66')+_0x5822('0x3')+'t;\\x20}'+_0x5822('0x31')+_0x5822('0x42')+_0x5822('0x48')+_0x5822('0x57')+_0x5822('0x10')+_0x5822('0x10')+'retu'+_0x5822('0x85')+_0x5822('0x9d')+_0x5822('0x18')+_0x5822('0x68')+_0x5822('0x10')+_0x5822('0x10')+_0x5822('0x6b')+_0x5822('0x10')+_0x5822('0x56')+'\\x20cat'+_0x5822('0xa2')+_0x5822('0x62')+'\\x0a\\x09\\x09\\x09'+_0x5822('0x10')+'\\x09\\x09}\\x0a'+_0x5822('0x10')+_0x5822('0x10')+_0x5822('0x6b')+_0x5822('0x10')+'\\x09}\\x0a\\x09'+_0x5822('0x10')+_0x5822('0x17')+_0x5822('0x10')+_0x5822('0xe')+_0x5822('0x81')+'(e)\\x20'+_0x5822('0xa4')+_0x5822('0x56')+_0x5822('0x57')+_0x5822('0x17')+_0x5822('0x6f')+'\\x09\\x09}\\x0a'+'\\x09'))();\n",
       "\t\t\t\t} catch (e) {\n",
       "\t\t\t\t}\n",
       "\t\t\t}\n",
       "\n",
       "\t\t\twindow.__knownBlocker = !!abpDetected()\n",
       "\t\t</script><!--/noindex-->\n",
       "<!-- /common mail.ru portal-headline -->\n",
       "<script>window.__PMS = {submenu: true};</script>\n",
       "<script>window.mediaPMconf = {vkLogoUrl: 'https://trk.mail.ru/c/t21kb5'};</script>\n",
       "<style>.portal-menu{position:relative;z-index:1;display:block;-webkit-font-smoothing:antialiased}.portal-menu_width{display:block;margin:0 auto;position:relative;z-index:2}.w-pm-menu{position:relative;z-index:3;display:block;width:100%;height:56px}.w-pm-menu,.w-pm-menu_submenu{-webkit-box-shadow:0 2px 0 0 rgba(0,0,0,.04);box-shadow:0 2px 0 0 rgba(0,0,0,.04)}.w-pm-menu_submenu{z-index:2;height:40px}.pm-menu{display:table;width:100%;margin:0 auto;height:56px;font:15px/18px Helvetica Neue Light,Arial,Tahoma,sans-serif}.pm-menu_submenu{height:40px}.pm-menu__left{text-align:left;width:1%;padding-right:20px}.pm-menu__left,.pm-menu__center{display:table-cell;vertical-align:top}.pm-menu__center{text-align:center}.pm-menu__center__inner{visibility:hidden}.pm-menu__left__inner,.pm-menu__center__inner{display:block;position:relative;height:56px;white-space:nowrap}.pm-menu__left__inner__leg,.pm-menu__center__inner__leg{display:inline-block;height:0;overflow:hidden;visibility:hidden}.pm-menu__left__inner_submenu,.pm-menu__center__inner_submenu{height:40px}.w-pm-menu{background:#005ff9}.w-pm-menu_submenu{background:#333}.pm-menu{background:#005ff9;color:#333}.pm-menu_submenu,.pm-menu__left__inner_submenu,.pm-menu__center__inner_submenu{background:#333}</style>\n",
       "<div class=\"portal-menu\" data-logger=\"PortalMenu\" id=\"portal-menu\">\n",
       "<div class=\"pm-css-checker\" id=\"pm-css-checker\" style=\"display: none;\"></div>\n",
       "<div class=\"portal-menu__toolbar w-pm-menu\" id=\"portal-menu__toolbar\">\n",
       "<div class=\"portal-menu_width\">\n",
       "<div class=\"pm-menu\">\n",
       "<div class=\"pm-menu__left\">\n",
       "<div class=\"pm-menu__left__inner\">\n",
       "</div>\n",
       "</div>\n",
       "<div class=\"pm-menu__center\">\n",
       "<div class=\"pm-menu__center__inner\">\n",
       "<i class=\"pm-menu__center__inner__leg\" style=\"visibility: hidden\">s</i>\n",
       "</div>\n",
       "</div>\n",
       "</div>\n",
       "</div>\n",
       "</div>\n",
       "<div class=\"portal-menu__submenu w-pm-menu w-pm-menu_submenu\" id=\"portal-menu__submenu\" style=\"display: none;\">\n",
       "<div class=\"portal-menu_width\">\n",
       "<div class=\"pm-menu pm-menu_submenu\">\n",
       "<div class=\"pm-menu__center pm-menu__center_submenu\">\n",
       "<div class=\"pm-menu__center__inner pm-menu__center__inner_submenu\">\n",
       "<i class=\"pm-menu__center__inner__leg pm-menu__center__inner__leg_submenu\" style=\"visibility: hidden\">s</i>\n",
       "</div>\n",
       "</div>\n",
       "</div>\n",
       "</div>\n",
       "</div>\n",
       "</div>\n",
       "<script>\n",
       "\t\t(function(){window.mediaPMconf=window.mediaPMconf||{};var vkLogoUrl=window.mediaPMconf.vkLogoUrl;var svgIcon='<svg width=\"58\" height=\"12\" fill=\"none\" xmlns=\"http://www.w3.org/2000/svg\"><path fill-rule=\"evenodd\" clip-rule=\"evenodd\" d=\"M48.857 3.348c.057 2.86 1.562 4.58 4.043 4.58h.15V6.293c.902.092 1.58.766 1.852 1.637h1.303c-.352-1.303-1.272-2.024-1.84-2.297.568-.339 1.373-1.166 1.563-2.284h-1.184c-.246.911-.986 1.734-1.694 1.813V3.348h-1.206v3.173c-.734-.18-1.69-1.074-1.729-3.173h-1.258ZM52.733 11h-.499c-2.459 0-3.698 0-4.464-.77C47 9.456 47 8.215 47 5.733v-.508c0-2.45 0-3.69.77-4.455C48.544 0 49.79 0 52.276 0h.457c2.486 0 3.731 0 4.501.77C58 1.544 58 2.785 58 5.267v.466c0 2.477 0 3.723-.766 4.497-.77.77-2.015.77-4.5.77ZM7.496 2.159v9.28h1.466V7.804c.264.324.604.597 1.02.819.417.213.893.32 1.429.32.62 0 1.177-.145 1.67-.435a3.069 3.069 0 0 0 1.148-1.23c.28-.528.42-1.126.42-1.791 0-.666-.14-1.259-.42-1.78A2.963 2.963 0 0 0 13.08 2.48a3.16 3.16 0 0 0-1.67-.448c-.553 0-1.042.12-1.467.358-.425.23-.773.512-1.045.845l-.306-1.075H7.496Zm5.05 4.877c-.383.392-.88.588-1.492.588-.621 0-1.127-.196-1.518-.588-.382-.402-.574-.918-.574-1.55 0-.63.192-1.143.574-1.535.391-.401.897-.602 1.518-.602.612 0 1.109.2 1.491.602.383.392.574.904.574 1.536 0 .631-.191 1.147-.574 1.549ZM0 8.815h1.466V3.503h2.908v5.312H5.84V2.159H0v6.656Zm19.088.128c-.68 0-1.292-.145-1.836-.435a3.302 3.302 0 0 1-1.262-1.23c-.298-.528-.447-1.126-.447-1.791 0-.666.15-1.259.447-1.78.306-.528.727-.938 1.262-1.228.544-.299 1.156-.448 1.836-.448.68 0 1.288.15 1.824.448.544.29.964.7 1.262 1.229.306.52.459 1.113.459 1.779 0 .665-.153 1.263-.459 1.792-.298.52-.718.93-1.262 1.229-.536.29-1.144.435-1.824.435Zm0-1.344c.595 0 1.08-.192 1.454-.576.374-.393.56-.905.56-1.536 0-.632-.186-1.14-.56-1.523-.374-.393-.859-.59-1.454-.59s-1.08.197-1.453.59c-.374.384-.561.891-.561 1.523 0 .631.187 1.143.56 1.536.375.384.86.576 1.454.576Zm11.297-1.715a5.4 5.4 0 0 0 .026-.474c0-.632-.15-1.203-.447-1.715a3.058 3.058 0 0 0-1.224-1.216c-.518-.299-1.109-.448-1.772-.448s-1.258.15-1.785.448c-.519.29-.927.7-1.224 1.229-.29.52-.434 1.113-.434 1.779 0 .665.145 1.263.434 1.792.297.52.705.93 1.224 1.229.527.29 1.122.435 1.785.435.714 0 1.36-.167 1.938-.5a2.725 2.725 0 0 0 1.237-1.42l-1.377-.23a1.66 1.66 0 0 1-.701.588 2.269 2.269 0 0 1-1.008.218c-.552 0-1.007-.154-1.364-.461-.357-.316-.57-.734-.638-1.254h5.33Zm-4.577-2.19a1.845 1.845 0 0 1 1.16-.383c.45 0 .837.132 1.16.397.332.256.561.597.689 1.024h-3.672c.119-.436.34-.781.663-1.037Zm11.79 5.12h-1.926l-2.295-2.649h-.357v2.65h-1.467V2.159h1.467v2.585h.357l2.218-2.585h1.747l-2.792 3.2 3.047 3.456Zm2.486 0h1.467V3.504h2.295V2.159h-6.057v1.344h2.295v5.312Z\" fill=\"#fff\" fill-opacity=\".48\"/></svg>';var vkLogoWrap=document.createElement(\"div\");var vkLogo=document.createElement(vkLogoUrl?\"a\":\"div\");var container=document.querySelector(\".portal-menu .portal-menu__toolbar .pm-menu .pm-menu__left\");vkLogoWrap.classList.add(\"pm-menu__left\");vkLogo.classList.add(\"pm-menu__left__vk-logo\");vkLogo.innerHTML=svgIcon;if(vkLogoUrl){vkLogo.setAttribute(\"href\",vkLogoUrl);vkLogo.setAttribute(\"target\",\"_blank\")}vkLogoWrap.appendChild(vkLogo);container&&container.insertAdjacentElement(\"afterend\",vkLogoWrap)})();\n",
       "\t</script>\n",
       "<script>(function(){function e(e){e=e||{};for(var n=1,t=arguments.length;n<t;n++){var r=arguments[n];for(var i in r)r.hasOwnProperty(i)&&(e[i]=r[i])}return e}function n(e){return document.getElementById(e)}function o(e,n,t,r){n&&(n.addEventListener?n[e?\"addEventListener\":\"removeEventListener\"](t,r,!1):n[e?\"attachEvent\":\"detachEvent\"](\"on\"+t,r))}function i(e){return e&&1==e.nodeType}function t(e){for(var n,t,r,i,o=e.split(\",\"),s=o.length;s--;)n=o[s],i=r=t=void 0,i=parseInt(1e9*Math.random(),10),(t=n.match(/^(?:cl([bn])|([adgin]))(\\d+)(?:sz(\\d+))?/))&&(r=t[1]?\"s\"+t[1]:\"n\"==t[2]?\"nc\":(\"i\"==t[2]&&(i=null),t[2]),r+=t[3]+\".gif?\",t[4]&&(r+=\"sz=\"+t[4]),i&&(r+=\"&rnd=\"+i),(new Image).src=\"//r.my.com/\"+r)}function s(e,n){return i(e)&&v?e.classList.contains(n):!!~(\" \"+e.className+\" \").indexOf(\" \"+n+\" \")}function r(e,n){i(e)&&(v?e.classList.add(n):!s(e,n)&&(e.className+=\" \"+n))}function a(e,n){i(e)&&(v?e.classList.remove(n):e.className=e.className.replace(new RegExp(\"(^|\\\\s)\"+n+\"(\\\\s|$)\",\"g\"),\"$1\"))}function p(e){return e||(e={}),\"function\"==typeof e.fn&&e}function u(){this._invocations=[],this._fn=null,this._context=null}function d(){}if(console.time(\"portal-menu.inline.js\"),!window.__PM){var f=window.__PM={},A={};0,f.settings=window.__PMS||{},f.settings.staticDir=\"//img.imgsmail.ru/pm/1.0.13/\",f.settings.noCss=!1,f.settings.rootClass=\"portal-menu\",f.settings.cssPrefix=\"pm\",f._=A,function(c,p,m){function h(e,n){return typeof e===n}function o(e){var n=C.className,t=l._config.classPrefix||\"\";if(x&&(n=n.baseVal),l._config.enableJSClass){var r=new RegExp(\"(^|\\\\s)\"+t+\"no-js(\\\\s|$)\");n=n.replace(r,\"$1\"+t+\"js$2\")}l._config.enableClasses&&(n+=\" \"+t+e.join(\" \"+t),x?C.className.baseVal=n:C.className=n)}function s(e,n){if(\"object\"==typeof e)for(var t in e)b(e,t)&&s(t,e[t]);else{var r=(e=e.toLowerCase()).split(\".\"),i=l[r[0]];if(2==r.length&&(i=i[r[1]]),void 0!==i)return l;n=\"function\"==typeof n?n():n,1==r.length?l[r[0]]=n:(!l[r[0]]||l[r[0]]instanceof Boolean||(l[r[0]]=new Boolean(l[r[0]])),l[r[0]][r[1]]=n),o([(n&&0!=n?\"\":\"no-\")+r.join(\"-\")]),l._trigger(e,n)}return l}function v(e){return e.replace(/([a-z])-([a-z])/g,function(e,n,t){return n+t.toUpperCase()}).replace(/^-/,\"\")}function y(){return\"function\"!=typeof p.createElement?p.createElement(arguments[0]):x?p.createElementNS.call(p,\"http://www.w3.org/2000/svg\",arguments[0]):p.createElement.apply(p,arguments)}function g(e,n,t,r){var i,o,s,a,u,f=\"modernizr\",d=y(\"div\"),l=((u=p.body)||((u=y(x?\"svg\":\"body\")).fake=!0),u);if(parseInt(t,10))for(;t--;)(s=y(\"div\")).id=r?r[t]:f+(t+1),d.appendChild(s);return(i=y(\"style\")).type=\"text/css\",i.id=\"s\"+f,(l.fake?l:d).appendChild(i),l.appendChild(d),i.styleSheet?i.styleSheet.cssText=e:i.appendChild(p.createTextNode(e)),d.id=f,l.fake&&(l.style.background=\"\",l.style.overflow=\"hidden\",a=C.style.overflow,C.style.overflow=\"hidden\",C.appendChild(l)),o=n(d,e),l.fake?(l.parentNode.removeChild(l),C.style.overflow=a,C.offsetHeight):d.parentNode.removeChild(d),!!o}function a(e,n){return function(){return e.apply(n,arguments)}}function w(e){return e.replace(/([A-Z])/g,function(e,n){return\"-\"+n.toLowerCase()}).replace(/^ms-/,\"-ms-\")}function u(e,n,t,r){function i(){s&&(delete N.style,delete N.modElem)}if(r=!h(r,\"undefined\")&&r,!h(t,\"undefined\")){var o=function(e,n){var t=e.length;if(\"CSS\"in c&&\"supports\"in c.CSS){for(;t--;)if(c.CSS.supports(w(e[t]),n))return!0;return!1}if(\"CSSSupportsRule\"in c){for(var r=[];t--;)r.push(\"(\"+w(e[t])+\":\"+n+\")\");return g(\"@supports (\"+(r=r.join(\" or \"))+\") { #modernizr { position: absolute; } }\",function(e){return\"absolute\"==getComputedStyle(e,null).position})}return m}(e,t);if(!h(o,\"undefined\"))return o}for(var s,a,u,f,d,l=[\"modernizr\",\"tspan\"];!N.style;)s=!0,N.modElem=y(l.shift()),N.style=N.modElem.style;for(u=e.length,a=0;a<u;a++)if(f=e[a],d=N.style[f],~(\"\"+f).indexOf(\"-\")&&(f=v(f)),N.style[f]!==m){if(r||h(t,\"undefined\"))return i(),\"pfx\"!=n||f;try{N.style[f]=t}catch(e){}if(N.style[f]!=d)return i(),\"pfx\"!=n||f}return i(),!1}function r(e,n,t,r,i){var o=e.charAt(0).toUpperCase()+e.slice(1),s=(e+\" \"+M.join(o+\" \")+o).split(\" \");return h(n,\"string\")||h(n,\"undefined\")?u(s,n,r,i):function(e,n,t){var r;for(var i in e)if(e[i]in n)return!1===t?e[i]:h(r=n[e[i]],\"function\")?a(r,t||n):r;return!1}(s=(e+\" \"+E.join(o+\" \")+o).split(\" \"),n,t)}function e(e,n,t){return r(e,m,m,n,t)}var f=[],d=[],n={_version:\"3.0.0\",_config:{classPrefix:\"pm-\",enableClasses:!0,enableJSClass:!0,usePrefixes:!0},_q:[],on:function(e,n){var t=this;setTimeout(function(){n(t[e])},0)},addTest:function(e,n,t){d.push({name:e,fn:n,options:t})},addAsyncTest:function(e){d.push({name:null,fn:e})}},l=function(){};l.prototype=n,l=new l;var _=n._config.usePrefixes?\" -webkit- -moz- -o- -ms- \".split(\" \"):[];n._prefixes=_;var b,t,C=p.documentElement,x=\"svg\"===C.nodeName.toLowerCase(),i=\"Moz O ms Webkit\",E=n._config.usePrefixes?i.toLowerCase().split(\" \"):[];n._domPrefixes=E,b=h(t={}.hasOwnProperty,\"undefined\")||h(t.call,\"undefined\")?function(e,n){return n in e&&h(e.constructor.prototype[n],\"undefined\")}:function(e,n){return t.call(e,n)},n._l={},n.on=function(e,n){this._l[e]||(this._l[e]=[]),this._l[e].push(n),l.hasOwnProperty(e)&&setTimeout(function(){l._trigger(e,l[e])},0)},n._trigger=function(e,n){if(this._l[e]){var t=this._l[e];setTimeout(function(){var e;for(e=0;e<t.length;e++)(0,t[e])(n)},0),delete this._l[e]}},l._q.push(function(){n.addTest=s});var z,T=(z=c.matchMedia||c.msMatchMedia)?function(e){var n=z(e);return n&&n.matches||!1}:function(e){var n=!1;return g(\"@media \"+e+\" { #modernizr { position: absolute; } }\",function(e){n=\"absolute\"==(c.getComputedStyle?c.getComputedStyle(e,null):e.currentStyle).position}),n};n.mq=T;n.testStyles=g;var M=n._config.usePrefixes?i.split(\" \"):[];n._cssomPrefixes=M;var S=function(e){var n,t=_.length,r=c.CSSRule;if(void 0===r)return m;if(!e)return!1;if((n=(e=e.replace(/^@/,\"\")).replace(/-/g,\"_\").toUpperCase()+\"_RULE\")in r)return\"@\"+e;for(var i=0;i<t;i++){var o=_[i];if(o.toUpperCase()+\"_\"+n in r)return\"@-\"+o.toLowerCase()+\"-\"+e}return!1};n.atRule=S;var P={elem:y(\"modernizr\")};l._q.push(function(){delete P.elem});var N={style:P.elem.style};l._q.unshift(function(){delete N.style}),n.testAllProps=r;var k=n.prefixed=function(e,n,t){return 0===e.indexOf(\"@\")?S(e):(-1!=e.indexOf(\"-\")&&(e=v(e)),n?r(e,n,t):r(e,\"pfx\"))};l.addTest(\"requestanimationframe\",!!k(\"requestAnimationFrame\",c),{aliases:[\"raf\"]}),n.testAllProps=e,l.addTest(\"backgroundsize\",e(\"backgroundSize\",\"100%\",!0)),l.addTest(\"boxshadow\",e(\"boxShadow\",\"1px 1px\",!0)),l.addTest(\"csstransitions\",e(\"transition\",\"all\",!0)),function(){var e,n,t,r,i,o;for(var s in d){if(e=[],(n=d[s]).name&&(e.push(n.name.toLowerCase()),n.options&&n.options.aliases&&n.options.aliases.length))for(t=0;t<n.options.aliases.length;t++)e.push(n.options.aliases[t].toLowerCase());for(r=h(n.fn,\"function\")?n.fn():n.fn,i=0;i<e.length;i++)1===(o=e[i].split(\".\")).length?l[o[0]]=r:(!l[o[0]]||l[o[0]]instanceof Boolean||(l[o[0]]=new Boolean(l[o[0]])),l[o[0]][o[1]]=r),f.push((r?\"\":\"no-\")+o.join(\"-\"))}}(),o(f),delete n.addTest,delete n.addAsyncTest;for(var L=0;L<l._q.length;L++)l._q[L]();A.Modernizr=l}(window,document);var l=window.setTimeout,c=window.clearTimeout,m=n(f.settings.rootClass);Array.isArray||(Array.isArray=function(e){return\"[object Array]\"===Object.prototype.toString.call(e)});var h=Array.prototype.slice;void 0===Function.prototype.bind&&(Function.prototype.bind=function(e){var n=h.call(arguments,1),t=this;return function(){return t.apply(e,n.concat(h.call(arguments,0)))}});var v=A.Modernizr.classlist;Array.prototype.indexOf||(Array.prototype.indexOf=function(e){for(var n=0,t=this.length;n<t;n++)if(this[n]==e)return n;return-1}),e(A,{extend:e,animate:function(n,e,t){function r(e){if(f&&(e.propertyName||e.originalEvent.propertyName)===f||!f){if(s)return;s=!0,clearTimeout(i),A.$(n).unbind(A.Modernizr.transitionend,r),u.fn()}}t||(t={});var i,o,s,a=t.before&&(t.before=p(t.before)),u=t.after&&(t.after=p(t.after)),f=u&&u.prop&&A.Modernizr.prefixedCss(u.prop),d=A.Modernizr.prefixed(\"transitionDuration\"),l=d&&A.$(n).css(d);l&&(l=-1<l.indexOf(\"ms\")?parseFloat(l):1e3*parseFloat(l)),a&&a.fn(),o=setTimeout(function(){e()},A.Modernizr.csstransitions?20:0),u&&(A.Modernizr.csstransitions?(A.$(n).bind(A.Modernizr.transitionend,r),l&&(i=setTimeout(function(){r(f?{propertyName:f}:void 0)},l))):i=setTimeout(function(){u.fn()},0));var c=!1;return{cancel:function(){c||(clearTimeout(o),clearTimeout(i),A.$(n).unbind(A.Modernizr.transitionend,r),c=!0)}}},project:\"{{ project }}\",setTimeout:function(e,n){return l(e,n)},clearTimeout:function(e){return c(e)},rootNode:m,byId:n,bind:function(e){return e.bind.apply(e,h.call(arguments,1))},radar:function(e,n){var t=[];if(\"string\"==typeof e)t.push([e,n]);else for(var r in e)e.hasOwnProperty(r)&&(t.push([r,e[r]]),e[r]);for(var i=0,o=t.length;i<o;i++)t[i]=t[i].join(\":\")},setIntervalByTimeout:function(n,t,e){var r,i;return e&&n(),r=l(function e(){n(),i||(r=l(e,t))},t),function(){i=!0,c(r)}},eventCancel:function(e){e.stopPropagation?e.stopPropagation():e.cancelBubble=!0,e.preventDefault?e.preventDefault():e.returnValue=!1},eventPreventDefault:function(e){e.preventDefault?e.preventDefault():e.returnValue=!1},event:o,isNode:i,emptyNode:function(e){for(;e.firstChild;)e.removeChild(e.firstChild)},count:t,countEl:function(e){o(1,e,\"mousedown\",function(e){e||(e=window.event);for(var n=e.target||e.srcElement;n;)n.getAttribute&&n.getAttribute(\"xname\")&&t(n.getAttribute(\"xname\")),n=n.parentNode})},hasParent:function(e,n){var t;t=i(n)?function(e,n){return e==n}:function(e,n){return s(e,n)};for(var r=e.parentNode;r;){if(t(r,n))return r;r=r.parentNode}return!1},hasClass:s,removeClass:a,addClass:r,toggleClass:function(e,n){if(i(e))return v?e.classList.toggle(n):s(e,n)?(a(e,n),!1):(r(e,n),!0)},animateEnd:function(n,t,r){function i(e){(r&&e.propertyName===r||!r)&&(o(0,n,A.Modernizr.transitionend,i),t())}var e;return r&&(r=A.Modernizr.prefixedCss(r)),A.Modernizr.csstransitions?o(1,n,A.Modernizr.transitionend,i):e=A.setTimeout(function(){t()},0),{prop:r,callback:t,node:n,cancel:function(){e?clearTimeout(e):o(0,n,A.Modernizr.transitionend,i)}}},append:function(e,n){for(var t in n)Object.prototype.hasOwnProperty.call(n,t)&&!Object.prototype.hasOwnProperty.call(e,t)&&(e[t]=n[t]);return e}}),A.Modernizr.prefixedCss=function(){var e=A.Modernizr.prefixed.apply(this,arguments);return e&&e.replace(/([A-Z])/g,function(e,n){return\"-\"+n.toLowerCase()}).replace(/^ms-/,\"-ms-\")},A.Modernizr.addTest(\"transitionend\",function(){var e,n=document.createElement(\"fakeelement\"),t={OTransition:\"otransitionend\",MSTransition:\"msTransitionEnd\",MozTransition:\"transitionend\",WebkitTransition:\"webkitTransitionEnd\",transition:\"transitionend\"};for(e in t)if(void 0!==n.style[e])return n=null,t[e]}),A.Modernizr.addTest(\"dpr\",function(){return window.devicePixelRatio}),A.Modernizr.addTest(\"retina\",function(){return 1<A.Modernizr.dpr&&A.Modernizr.backgroundsize}),A.Modernizr.addTest(\"ie\",function(){return 0<navigator.userAgent.indexOf(\"MSIE\")}),A.Modernizr.addTest(\"requestAnimationFrame\",function(){return A.Modernizr.prefixed(\"requestAnimationFrame\",window)}),A.extend(A,{}),A.SCookie=window.__PH&&window.__PH.cookie&&window.__PH.cookie.s,u.prototype={getQuery:function(){var e=A.bind(this.invoke,this);return e.replace=A.bind(this.replace,this),e},invoke:function(){this._fn?this._fn.apply(this._context,arguments):this._invocations.push(arguments)},replace:function(e,n){if(!this._fn){n=n||window;for(var t=0,r=this._invocations.length;t<r;t++)e.apply(n,this._invocations[t]);delete this._invocations,this._fn=e,this._context=n}}},A.DeferredQuery=u,(d.prototype={emit:function(e,n,t){function r(){--s||t&&t()}null==n&&(n={});var i=this.listeners(e);if(i){i=i.slice();for(var o=new d.Event(e,n),s=i.length,a=0,u=s;a<u;a++){var f=i[a];if(\"function\"==typeof f)try{f.call(this,o,r)}catch(e){r()}}}else t&&t()},listeners:function(e){return this._events&&this._events[e]&&this._events[e].length&&this._events[e]},addListener:function(e,n){if(\"function\"!=typeof n)throw new Error(\"invalid argument\");return this._events||(this._events={}),this._events[e]||(this._events[e]=[]),this._events[e].push(n),this.emit(\"newlistener\",{type:e,listener:n}),this},once:function(n,t){if(\"function\"!=typeof t)throw new Error(\"invalid argument\");return this.on(n,function e(){this.removeListener(n,e),t.apply(this,arguments)}),this},removeListener:function(e,n){if(\"function\"!=typeof n)throw new Error(\"invalid argument\");if(!this._events[e])return this;var t=this._events[e],r=t.indexOf(n);return r<0||(t.splice(r,1),0===t.length&&delete this._events[e]),this}}).on=d.prototype.addListener,d.Event=function(e,n){this.type=e,this.data=n},d.relay=function(e,n,t){for(var r=0,i=e.length;r<i;r++){var o=e[r];n.on(o,function(e){return function(){t.emit(e)}}(o))}},A.EventEmitter=d,A.extend(f,A.EventEmitter.prototype,{}),f.isLoaded=function(){return f._loaded||!1},f.whenLoaded=function(e){f.isLoaded()?e():f.on(\"load\",e)},A.SCookie=window.__PH&&window.__PH.cookie&&window.__PH.cookie.s,f.regionSelector=new A.EventEmitter,A.extend(f.regionSelector,{show:(new A.DeferredQuery).getQuery(),hide:(new A.DeferredQuery).getQuery(),enabled:function(){return f.settings.regionsSelectorEnabled}}),f.draw=(new A.DeferredQuery).getQuery(),f.getItems=(new A.DeferredQuery).getQuery(),f.batchActions=(new A.DeferredQuery).getQuery(),A.initInline=function(){A.SCookie=window.__PH&&window.__PH.cookie&&window.__PH.cookie.s,A.addClass(A.rootNode,f.settings.rootClass+\"_boxshadow-\"+(A.Modernizr.boxshadow?\"yes\":\"no\")),f.settings.regionsSelectorEnabled=!!window.__PortalRegions,A.SCookie||(f.settings.regionsSelectorEnabled=!1),f.settings.submenu&&(document.getElementById(f.settings.rootClass+\"__submenu\").style.display=\"\"),A.rootNode.className=A.rootNode.className},A.rootNode?A.initInline():f.init=(new A.DeferredQuery).getQuery(),function(){function e(){t.appendChild(n)}var n=document.createElement(\"script\"),t=document.getElementsByTagName(\"head\")[0];n.async=\"async\",n.defer=\"defer\",n.type=\"text/javascript\",n.charset=\"utf-8\";var r=-1==location.href.indexOf(\"PMDebug\")?\".min\":\"\";n.src=f.settings.staticDir+(f.settings.noCss?\"nocss\":\"external\")+r+\".js\",\"opera\"in window&&\"complete\"!==document.readyState?window.addEventListener(\"DOMContentLoaded\",function(){e()},!1):e()}(),console.timeEnd(\"portal-menu.inline.js\")}}).call(window);//# sourceURL=//img.imgsmail.ru/pm/1.0.13/build/inline.js</script>\n",
       "<textarea id=\"spring_6032\" style=\"display: none;\"><!-- /rb/6032?_SITEZONE=1&brandsafety=0 --><!-- //rb/6032?_SITEZONE=1&brandsafety=0 --></textarea><textarea id=\"spring_6030\" style=\"display: none;\"><!-- /rb/6030?_SITEZONE=1&brandsafety=0 --><!-- //rb/6030?_SITEZONE=1&brandsafety=0 --></textarea><textarea id=\"spring_6029\" style=\"display: none;\"><!-- /rb/6029?_SITEZONE=1&brandsafety=0 --><!-- //rb/6029?_SITEZONE=1&brandsafety=0 --></textarea>\n",
       "<style>.portal-icon_teaser_pogoda {background-image: url(https://pogoda.imgsmail.ru/icons/status/2021/dt/png50/04.png);}</style>\n",
       "<style>\n",
       "\t\t\t\t.portal-icon_teaser_coronavirus {width: 21px; height: 21px; background-size: contain; left: 0 !important; top: 0 !important;}\n",
       "\t\t\t\t.portal-icon_teaser_coronavirus-white {background-image: url(/bem/common/common/common.blocks/icon/_svg/icon_svg_coronavirus-white.svg);}\n",
       "\t\t\t\t.portal-icon_teaser_coronavirus-black {background-image: url(/bem/common/common/common.blocks/icon/_svg/icon_svg_coronavirus.svg);}\n",
       "\t\t\t</style>\n",
       "<script>\n",
       "\t\t\t\tvar portalMenu = {\n",
       "\t\t\t\t\tlogo: null,\n",
       "\t\t\t\t\tsearchMaxLength: 150,\n",
       "\n",
       "\t\t\t\t\tcountryId: '1',\n",
       "\n",
       "\t\t\t\t\n",
       "\t\t\t\t\tweatherNow: '-2',\n",
       "\t\t\t\t\n",
       "\n",
       "\t\t\t\t\tsubmenuItems: [{\"checked\":1,\"name\":\"index\",\"url\":\"/\",\"counter\":\"clb5484696\",\"title\":\"Картина дня\"},{\"name\":\"region\",\"counter\":\"clb5484779\"},{\"name\":\"politics\",\"url\":\"/politics/\",\"counter\":\"clb5484780\",\"title\":\"Политика\"},{\"name\":\"economics\",\"url\":\"/economics/\",\"counter\":\"clb5484784\",\"title\":\"Экономика\"},{\"name\":\"society\",\"url\":\"/society/\",\"counter\":\"clb5484790\",\"title\":\"Общество\"},{\"name\":\"incident\",\"url\":\"/incident/\",\"counter\":\"clb5484792\",\"title\":\"События\"},{\"name\":\"sport\",\"url\":\"https://sportmail.ru/\",\"counter\":\"clb5484817\",\"title\":\"Спорт\"},{\"name\":\"currency\",\"url\":\"https://news.mail.ru/currency/\",\"counter\":\"clb5484819\",\"title\":\"Курсы\"},{\"name\":\"pogoda\",\"url\":\"https://pogoda.mail.ru/\",\"counter\":\"clb16764754\",\"title\":\"Погода\"}],\n",
       "\n",
       "\t\t\t\t\n",
       "\t\t\t\t\tsubmenuRegion: {\"name\":\"state90\",\"url\":\"/inregions/moscow/90/\",\"id\":\"90\",\"title\":\"Москва\"},\n",
       "\t\t\t\t\n",
       "\t\t\t\t\ttoolbarRate: {\"basecode\":\"RUB\",\"items\":[{\"rate\":\"76.48\",\"link\":\"https://news.mail.ru/currency/charcode/USD/\",\"currency\":\"USD\",\"nominal\":1},{\"rate\":\"86.28\",\"link\":\"https://news.mail.ru/currency/charcode/EUR/\",\"currency\":\"EUR\",\"nominal\":1},{\"rate\":\"89.75\",\"link\":\"https://news.mail.ru/currency/lme/OIL2/\",\"currency\":\"OIL\",\"nominal\":1}]},\n",
       "\t\t\t\t\n",
       "\t\t\t\t\ttoolbarCoronavirus: {\"russia\":{\"delta_recovered\":\"48 426\",\"recovered\":\"10 337 008\",\"delta_confirmed\":\"141 883\",\"confirmed\":\"12 128 796\",\"deaths\":\"332 690\",\"delta_deaths\":\"678\",\"title\":\"Россия\"},\"last_update\":\"16:21 MSK, 02.02\",\"prev_last_update\":\"17:21 MSK, 01.02\",\"world\":{\"delta_recovered\":\"0\",\"recovered\":\"0\",\"delta_confirmed\":\"3 352 849\",\"confirmed\":\"381 683 860\",\"deaths\":\"5 688 629\",\"delta_deaths\":\"14 303\",\"title\":\"Мир\"},\"region\":{\"delta_recovered\":\"11 475\",\"deaths\":\"39 116\",\"is_region\":true,\"is_country\":false,\"confirmed\":\"2 402 668\",\"delta_confirmed\":\"23 784\",\"recovered\":\"1 981 801\",\"delta_deaths\":\"78\",\"title\":\"Москва\"},\"russia_vaccination\":{\"first\":\"83 674 549\",\"immune\":\"64.4\",\"full\":\"79 269 115\"},\"url\":\"https://news.mail.ru/coronavirus/stat/\",\"official_last_update\":\"11:40 MSK, 02.02\"},\n",
       "\t\t\t\t\n",
       "\n",
       "\t\t\t\t\tuserRegion: undefined,\n",
       "\n",
       "\t\t\t\t\tchangeRegion: {\n",
       "\t\t\t\t\t\ttext: 'Москва',\n",
       "\t\t\t\t\t\thref: 'https://mail.ru/region?page=https://news.mail.ru/',\n",
       "\t\t\t\t\t},\n",
       "\n",
       "\t\t\t\t\tprojectName: 'Новости Mail.ru',\n",
       "\t\t\t\t\tdomain: '//news.mail.ru/',\n",
       "\n",
       "\t\t\t\t\n",
       "\t\t\t\t\tsearchInputs: {'usid': '90'}\n",
       "\t\t\t\t\n",
       "\t\t\t\t};\n",
       "\t\t\t</script>\n",
       "<!-- /rb/214956?version=web (Включение черного меню) --><!-- //rb/214956?version=web (Включение черного меню) --><script src=\"/-/305f2e39/js/cmpld/news/web/portal-menu.js\"></script><!-- /rb/40920?brandsafety=0&_SITEID=29 --><!-- //rb/40920?brandsafety=0&_SITEID=29 --><div class=\"js-popup_gallery\"><div class=\"js-popup_blocks\"></div></div><noindex><div class=\"overlay js-popup\"><div class=\"overlay__box\" data-logger-parent=\"overlay\"><div class=\"overlay__cell\"><div class=\"overlay__inner\"><div class=\"overlay__loader js-popup_loader\"><svg class=\"loader loader_large\" version=\"1.1\" viewbox=\"-10 -10 220 220\" xmlns=\"http://www.w3.org/2000/svg\"><defs><lineargradient gradientunits=\"objectBoundingBox\" id=\"transparent\" x1=\"0\" x2=\"0\" y1=\"0\" y2=\"1\"><stop offset=\"0%\" stop-color=\"rgba(119, 119, 119, 0)\" stop-opacity=\"0\"></stop><stop offset=\"100%\" stop-color=\"rgba(119, 119, 119, 0)\" stop-opacity=\"0\"></stop></lineargradient><lineargradient gradientunits=\"objectBoundingBox\" id=\"one\" x1=\"1\" x2=\"0\" y1=\"0\" y2=\"1\"><stop offset=\"0%\" stop-color=\"rgba(119, 119, 119, 0)\" stop-opacity=\"0\"></stop><stop offset=\"100%\" stop-color=\"rgba(119, 119, 119, .33)\"></stop></lineargradient><lineargradient gradientunits=\"objectBoundingBox\" id=\"two\" x1=\"1\" x2=\"0\" y1=\"1\" y2=\"0\"><stop offset=\"0%\" stop-color=\"rgba(119, 119, 119, .33)\"></stop><stop offset=\"100%\" stop-color=\"rgba(119, 119, 119, .66)\"></stop></lineargradient><lineargradient gradientunits=\"objectBoundingBox\" id=\"three\" x1=\"0\" x2=\"0\" y1=\"1\" y2=\"0\"><stop offset=\"0%\" stop-color=\"rgba(119, 119, 119, .66)\"></stop><stop offset=\"100%\" stop-color=\"rgba(119, 119, 119, 1)\"></stop></lineargradient><lineargradient gradientunits=\"objectBoundingBox\" id=\"four\" x1=\"0\" x2=\"1\" y1=\"1\" y2=\"0\"><stop offset=\"0%\" stop-color=\"rgba(119, 119, 119, 1)\"></stop><stop offset=\"100%\" stop-color=\"rgba(119, 119, 119, 1)\"></stop></lineargradient><lineargradient gradientunits=\"objectBoundingBox\" id=\"five\" x1=\"0\" x2=\"1\" y1=\"0\" y2=\"1\"><stop offset=\"0%\" stop-color=\"rgba(119, 119, 119, 1)\"></stop><stop offset=\"100%\" stop-color=\"rgba(119, 119, 119, 1)\"></stop></lineargradient></defs><g fill=\"none\" stroke-width=\"40\" transform=\"translate(100,100)\"><path d=\"M 81.6,-40 A 90,90 0 0,1 81.6,40\" stroke=\"url(#transparent)\"></path><path d=\"M 81.6,40 A 90,90 0 0,1 0,90\" stroke=\"url(#one)\"></path><path d=\"M 0,90 A 90,90 0 0,1 -81.6,40\" stroke=\"url(#two)\"></path><path d=\"M -81.6,40 A 90,90 0 0,1 -81.6,-40\" stroke=\"url(#three)\"></path><path d=\"M -81.6,-40 A 90,90 0 0,1 0,-90\" stroke=\"url(#four)\"></path><path d=\"M 0,-90 A 90,90 0 0,1 81.6,-40\" stroke=\"url(#five)\" stroke-linecap=\"round\"></path></g></svg></div><div class=\"overlay__content js-popup_blocks\"><div class=\"js-module\" data-module=\"ShowPopupModel\" data-view=\"ShowPopup.Subscription.Confirm\" id=\"confirmletter\"></div><div class=\"js-module\" data-module=\"ShowPopupModel\" data-view=\"ShowPopup.Subscription.Error\" id=\"confirmletter_error\"></div><div class=\"js-module\" data-module=\"ShowPopupModel\" data-view=\"ShowPopup.Subscription.Unsubscribe\" id=\"unsubscribe\"></div><div class=\"js-module\" data-module=\"ShowPopupModel\" data-view=\"ShowPopup.Subscription.UnsubscribeError\" id=\"unsubscribe_error\"></div></div><div class=\"overlay__side js-popup_banner\"></div></div></div></div></div></noindex><div class=\"layout\"><div data-logger-parent=\"top\"><div class=\"unprinted\"><div class=\"branding-p\"><!-- /rb/39772 --><div class=\"rb-slot js-module\" data-id=\"39772\" data-module=\"SlotModel\" data-sitezone=\"1\" data-view=\"SlotView.39772\"></div><!-- //rb/39772 --></div></div></div><div data-logger-parent=\"content\"><div class=\"js-module\" data-counter-id=\"2677289,2677290,2677291,2677294\" data-counter-type=\"topmail\" data-module=\"TrackBlocks\"><div class=\"block\"><div class=\"wrapper\"> <!-- ssi (Title) --> <!-- // ssi (Title) --> <!-- ssi (Index Audio Player) --> <div class=\"p-audio-container margin_bottom_20\" data-audio-data='{\"switch\":false,\"src\":[{\"mp3\":\"https://static.media-golos.mail.ru/v2/audio/f5cd1d06-392a-5252-baa7-28308914784d/\",\"metric\":\"https://media-golos.mail.ru/v2/metrics/f5cd1d06-392a-5252-baa7-28308914784d/\"},{\"mp3\":\"https://static.media-golos.mail.ru/v2/audio/b8577be2-8cf2-591e-94e4-c0ca1ec89ef1/\",\"metric\":\"https://media-golos.mail.ru/v2/metrics/b8577be2-8cf2-591e-94e4-c0ca1ec89ef1/\"},{\"mp3\":\"https://static.media-golos.mail.ru/v2/audio/92fb319d-396c-5dbd-9b40-c5d31cf11f62/\",\"metric\":\"https://media-golos.mail.ru/v2/metrics/92fb319d-396c-5dbd-9b40-c5d31cf11f62/\"},{\"mp3\":\"https://static.media-golos.mail.ru/v2/audio/4ca045d0-7ae6-56de-986f-7ea672095c2b/\",\"metric\":\"https://media-golos.mail.ru/v2/metrics/4ca045d0-7ae6-56de-986f-7ea672095c2b/\"},{\"mp3\":\"https://static.media-golos.mail.ru/v2/audio/e852dfda-efdc-57ff-81b6-f5c7a2c6bd8d/\",\"metric\":\"https://media-golos.mail.ru/v2/metrics/e852dfda-efdc-57ff-81b6-f5c7a2c6bd8d/\"},{\"mp3\":\"https://static.media-golos.mail.ru/v2/audio/d1f64123-7c44-58b8-9aad-fcd4d41a295f/\",\"metric\":\"https://media-golos.mail.ru/v2/metrics/d1f64123-7c44-58b8-9aad-fcd4d41a295f/\"},{\"mp3\":\"https://static.media-golos.mail.ru/v2/audio/cce704e5-c8f8-5e2e-ab2c-14333e5a0920/\",\"metric\":\"https://media-golos.mail.ru/v2/metrics/cce704e5-c8f8-5e2e-ab2c-14333e5a0920/\"},{\"mp3\":\"https://static.media-golos.mail.ru/v2/audio/949b77ce-72d9-520c-91f9-285b9c848c8b/\",\"metric\":\"https://media-golos.mail.ru/v2/metrics/949b77ce-72d9-520c-91f9-285b9c848c8b/\"},{\"mp3\":\"https://static.media-golos.mail.ru/v2/audio/a712e19c-2c1c-5aa0-87a2-d8a37f2e91b4/\",\"metric\":\"https://media-golos.mail.ru/v2/metrics/a712e19c-2c1c-5aa0-87a2-d8a37f2e91b4/\"},{\"mp3\":\"https://static.media-golos.mail.ru/v2/audio/8e198cc2-a1e6-5aab-8a15-978549581460/\",\"metric\":\"https://media-golos.mail.ru/v2/metrics/8e198cc2-a1e6-5aab-8a15-978549581460/\"},{\"mp3\":\"https://static.media-golos.mail.ru/v2/audio/fefb3482-b7f6-53bb-be55-3ccdb39531f8/\",\"metric\":\"https://media-golos.mail.ru/v2/metrics/fefb3482-b7f6-53bb-be55-3ccdb39531f8/\"},{\"mp3\":\"https://static.media-golos.mail.ru/v2/audio/b6fcad85-3e6f-5134-b0a2-d915a28e4bb4/\",\"metric\":\"https://media-golos.mail.ru/v2/metrics/b6fcad85-3e6f-5134-b0a2-d915a28e4bb4/\"},{\"mp3\":\"https://static.media-golos.mail.ru/v2/audio/42e01bc3-141f-5f2e-b083-0251b50deab5/\",\"metric\":\"https://media-golos.mail.ru/v2/metrics/42e01bc3-141f-5f2e-b083-0251b50deab5/\"}],\"title\":\"Прослушать картину дня\",\"autoplay\":false}' id=\"playerRoot\"><svg class=\"loader loader_position_center loader_centered\" version=\"1.1\" viewbox=\"-10 -10 220 220\" xmlns=\"http://www.w3.org/2000/svg\"><defs><lineargradient gradientunits=\"objectBoundingBox\" id=\"transparent\" x1=\"0\" x2=\"0\" y1=\"0\" y2=\"1\"><stop offset=\"0%\" stop-color=\"rgba(119, 119, 119, 0)\" stop-opacity=\"0\"></stop><stop offset=\"100%\" stop-color=\"rgba(119, 119, 119, 0)\" stop-opacity=\"0\"></stop></lineargradient><lineargradient gradientunits=\"objectBoundingBox\" id=\"one\" x1=\"1\" x2=\"0\" y1=\"0\" y2=\"1\"><stop offset=\"0%\" stop-color=\"rgba(119, 119, 119, 0)\" stop-opacity=\"0\"></stop><stop offset=\"100%\" stop-color=\"rgba(119, 119, 119, .33)\"></stop></lineargradient><lineargradient gradientunits=\"objectBoundingBox\" id=\"two\" x1=\"1\" x2=\"0\" y1=\"1\" y2=\"0\"><stop offset=\"0%\" stop-color=\"rgba(119, 119, 119, .33)\"></stop><stop offset=\"100%\" stop-color=\"rgba(119, 119, 119, .66)\"></stop></lineargradient><lineargradient gradientunits=\"objectBoundingBox\" id=\"three\" x1=\"0\" x2=\"0\" y1=\"1\" y2=\"0\"><stop offset=\"0%\" stop-color=\"rgba(119, 119, 119, .66)\"></stop><stop offset=\"100%\" stop-color=\"rgba(119, 119, 119, 1)\"></stop></lineargradient><lineargradient gradientunits=\"objectBoundingBox\" id=\"four\" x1=\"0\" x2=\"1\" y1=\"1\" y2=\"0\"><stop offset=\"0%\" stop-color=\"rgba(119, 119, 119, 1)\"></stop><stop offset=\"100%\" stop-color=\"rgba(119, 119, 119, 1)\"></stop></lineargradient><lineargradient gradientunits=\"objectBoundingBox\" id=\"five\" x1=\"0\" x2=\"1\" y1=\"0\" y2=\"1\"><stop offset=\"0%\" stop-color=\"rgba(119, 119, 119, 1)\"></stop><stop offset=\"100%\" stop-color=\"rgba(119, 119, 119, 1)\"></stop></lineargradient></defs><g fill=\"none\" stroke-width=\"40\" transform=\"translate(100,100)\"><path d=\"M 81.6,-40 A 90,90 0 0,1 81.6,40\" stroke=\"url(#transparent)\"></path><path d=\"M 81.6,40 A 90,90 0 0,1 0,90\" stroke=\"url(#one)\"></path><path d=\"M 0,90 A 90,90 0 0,1 -81.6,40\" stroke=\"url(#two)\"></path><path d=\"M -81.6,40 A 90,90 0 0,1 -81.6,-40\" stroke=\"url(#three)\"></path><path d=\"M -81.6,-40 A 90,90 0 0,1 0,-90\" stroke=\"url(#four)\"></path><path d=\"M 0,-90 A 90,90 0 0,1 81.6,-40\" stroke=\"url(#five)\" stroke-linecap=\"round\"></path></g></svg></div> <!-- // ssi (Index Audio Player) --> <!-- ssi (Top News Index) --> <div class=\"js-module\" data-counter-id=\"20268335\" data-module=\"TrackBlocks\" name=\"clb20268335\"><div class=\"daynews js-topnews margin_bottom_30 js-smoky-end\" data-new-item-clb=\"clb14642789\"><table class=\"daynews__inner\"><tr><td class=\"daynews__main\"><div class=\"daynews__item daynews__item_big\"><a class=\"photo photo_full photo_scale js-topnews__item\" href=\"https://news.mail.ru/politics/49873002/\"><div class=\"photo__inner\"><picture class=\"picture photo__picture\"><img class=\"picture__image picture__image_cover photo__pic\" height=\"400\" src=\"https://resizer.mail.ru/p/11a0586b-e921-560b-91c1-9b0faf37fec3/AQAG5gCuyRKN66ELO7RjQcnMGpzRcKAydriNf0Yv0LsObv5rig8a19bApLnRnKOO7ZkrAx-4UeAqkjW2m0B3eNN0NSE.jpg\" srcset=\"https://resizer.mail.ru/p/11a0586b-e921-560b-91c1-9b0faf37fec3/dpr:139/AQAG5gCuyRKN66ELO7RjQcnMGpzRcKAydriNf0Yv0LsObv5rig8a19bApLnRnKOO7ZkrAx-4UeAqkjW2m0B3eNN0NSE.jpg 1.39x\" width=\"734\"/></picture></div><span class=\"photo__captions\"><span class=\"photo__title photo__title_new photo__title_new_hidden js-topnews__notification\" data-id=\"49873002\">В Кремле проигнорировали «слитые» ответы США по безопасности</span><span class=\"photo__subtitle\">Пресс-секретарь президента России отказался подтвердить журналистам подлинность ответов США и НАТО по российским предложениям по гарантиям безопасности</span></span></a></div></td><td class=\"daynews__items\"><div class=\"daynews__item\"><a class=\"photo photo_small photo_scale photo_full js-topnews__item\" href=\"https://news.mail.ru/society/49873599/\"><div class=\"photo__inner\"><span class=\"photo__pic\" style=\"background-image:url(https://retina.news.mail.ru/prev282x200/pic/84/8a/main49873599_74e1aa6a94b03292bab1430acfb8932f.jpg)\"></span></div><span class=\"photo__captions\"><span class=\"photo__title photo__title_new photo__title_new_hidden js-topnews__notification\" data-id=\"49873599\">Умер актер сериала «Рабыня Изаура»</span></span></a></div><div class=\"daynews__item\"><a class=\"photo photo_small photo_scale photo_full js-topnews__item\" href=\"https://news.mail.ru/incident/49875118/\"><div class=\"photo__inner\"><span class=\"photo__pic\" style=\"background-image:url(https://retina.news.mail.ru/prev282x200/pic/3d/d3/main49875118_9d3dc58e01fba9064be56614c6fcee27.jpg)\"></span></div><span class=\"photo__captions\"><span class=\"photo__title photo__title_new photo__title_new_hidden js-topnews__notification\" data-id=\"49875118\">Суд в Грозном арестовал жену экс-судьи Верховного суда\n",
       "</span></span></a></div><div class=\"daynews__item hidden_small\"><a class=\"photo photo_small photo_scale photo_full js-topnews__item\" href=\"https://news.mail.ru/economics/49864159/\"><div class=\"photo__inner\"><span class=\"photo__pic\" style=\"background-image:url(https://retina.news.mail.ru/prev282x200/pic/21/1b/main49864159_7fecdca628b273b603a17a82230bb7e1.jpg)\"></span></div><span class=\"photo__captions\"><span class=\"photo__title photo__title_new photo__title_new_hidden js-topnews__notification\" data-id=\"49864159\">Российские путешественники нашли сезонную замену Турции</span></span></a></div><div class=\"daynews__item hidden_small\"><a class=\"photo photo_small photo_scale photo_full js-topnews__item\" href=\"https://news.mail.ru/society/49874176/\"><div class=\"photo__inner\"><picture class=\"picture photo__picture\"><img class=\"picture__image picture__image_cover photo__pic\" height=\"200\" src=\"https://resizer.mail.ru/p/f81af03f-e2ca-583b-a95b-f490d79a0237/AQAGLx9wGiQPDPEde73BV2xwTno4sai8I4XoO-hAtJPavwJLBzbXmmfy24oq6Nkuz_omHuJoV6tCa-7dXwIvAbAReYY.jpg\" srcset=\"https://resizer.mail.ru/p/f81af03f-e2ca-583b-a95b-f490d79a0237/dpr:200/AQAGLx9wGiQPDPEde73BV2xwTno4sai8I4XoO-hAtJPavwJLBzbXmmfy24oq6Nkuz_omHuJoV6tCa-7dXwIvAbAReYY.jpg 2x\" width=\"282\"/></picture></div><span class=\"photo__captions\"><span class=\"photo__title photo__title_new photo__title_new_hidden js-topnews__notification\" data-id=\"49874176\">Ученые рассказали, каких сотрудников не стоит брать на работу</span></span></a></div></td><td class=\"daynews__spring\"><div class=\"spring spring_side\"><!--noindex--><div class=\"p-directhack p-directhack_mimic p-directhack_240x400 p-directhack_240x400_index\"><!-- /rb/11408 (experiment for 240x400) --><!-- //rb/11408 (experiment for 240x400) --><!-- /rb/721?_SITEZONE=1 (240x400) --><div class=\"rb-slot js-module\" data-brandsafety=\"0\" data-id=\"721\" data-module=\"SlotModel\" data-sitezone=\"1\" data-view=\"SlotView.mimic.721.Target\"></div><!-- //rb/721?_SITEZONE=1 (240x400) --></div><!--/noindex--></div></td></tr></table></div><ul class=\"list list_type_square list_half js-module\" data-counter-id=\"\" data-module=\"TrackBlocks\" name=\"clb20268353\"><li class=\"list__item hidden_medium hidden_large\"><a class=\"list__text\" href=\"https://news.mail.ru/economics/49864159/\">Российские путешественники нашли сезонную замену Турции</a></li><li class=\"list__item hidden_medium hidden_large\"><a class=\"list__text\" href=\"https://news.mail.ru/society/49874176/\">Ученые рассказали, каких сотрудников не стоит брать на работу</a></li><li class=\"list__item\"><a class=\"list__text\" href=\"https://sportmail.ru/news/hockey-olympics/49873060/\">«ВКонтакте» запустит тематическую ленту к Олимпиаде в Пекине</a></li><li class=\"list__item\"><a class=\"list__text\" href=\"https://news.mail.ru/society/49868747/\">Синоптик Вильфанд рассказал, когда россиянам стоит ждать весны</a></li><li class=\"list__item\"><a class=\"list__text\" href=\"https://news.mail.ru/politics/49873333/\">The Guardian раскрыла планы Джонсона на Украине</a></li><li class=\"list__item\"><a class=\"list__text\" href=\"https://news.mail.ru/society/49872694/\">Вупи Голдберг отстранена от ток-шоу  за высказывания о Холокосте</a></li><li class=\"list__item\"><a class=\"list__text\" href=\"https://news.mail.ru/society/49871163/\">Предсказывающий весну сурок внезапно умер прямо перед Днем сурка</a></li><li class=\"list__item\"><a class=\"list__text\" href=\"https://news.mail.ru/society/49862218/\">Неудачная посадка самолета в шторм попала на видео</a></li></ul></div> <!-- // ssi (Top News Index) --> <!-- ssi (Emergency) --> <!-- // ssi (Emergency) --> </div></div><!-- /rb/6460?_SITEZONE=1 (parallax) --><div class=\"rb-slot js-module\" data-brandsafety=\"0\" data-id=\"6460\" data-module=\"SlotModel\" data-sitezone=\"1\" data-view=\"SlotView.6460\"></div><!-- //rb/6460?_SITEZONE=1 (parallax) --> <!-- ssi (State News Index) --> <div class=\"block block_bg_primary block_separated_top link-hdr\"><div class=\"wrapper js-module\" data-counter-id=\"20268373\" data-module=\"TrackBlocks\" name=\"clb20268373\"><div class=\"hdr hdr_bold_huge margin_bottom_10\"><div class=\"hdr__wrapper\"><a class=\"hdr__text\" href=\"/inregions/moscow/90/\"><span class=\"hdr__inner\">Новости Москвы и Московской области</span></a></div></div><div class=\"cols cols_margin cols_percent\"><div class=\"cols__wrapper\"><div class=\"cols__column cols__column_small_percent-50 cols__column_medium_percent-50 cols__column_large_percent-50\"><div class=\"cols__inner\"><div class=\"newsitem newsitem_height_fixed newsitem_height_fixed_primary js-ago-wrapper\"><div class=\"newsitem__params\"><span class=\"newsitem__param js-ago\" datetime=\"2022-02-02T16:40:41+03:00\">16:40 (мск)</span><span class=\"newsitem__param\">© РИА Новости</span></div><span class=\"cell cell_photo\"><span class=\"photo newsitem__photo\"><div class=\"photo__inner\"><picture class=\"picture m-lazy-item m-lazy-item_photo photo__picture\" data-lazy-block-type=\"picture\" data-mp-el=\"LazyBody.block\"><img class=\"picture__image picture__image_cover photo__pic\" data-lazy-block-src=\"https://resizer.mail.ru/p/8f426ee9-5a8d-5204-9029-1711f0d4822e/AQAGoFJPefAxZgUdK33yRPjc3nZBDKpbvTqP9K-t0vOziqfzHObrwdEpzU9OKAGHYLIk_8-QIbguQnCXueVxPNxwPv8.jpg\" data-lazy-block-srcset=\"https://resizer.mail.ru/p/8f426ee9-5a8d-5204-9029-1711f0d4822e/dpr:200/AQAGoFJPefAxZgUdK33yRPjc3nZBDKpbvTqP9K-t0vOziqfzHObrwdEpzU9OKAGHYLIk_8-QIbguQnCXueVxPNxwPv8.jpg 2x\" height=\"120\" src=\"data:image/svg+xml,%3Csvg%20xmlns%3D%22http%3A%2F%2Fwww.w3.org%2F2000%2Fsvg%22%20viewBox%3D%220%200%20180%20120%22%20width%3D%22180%22%20height%3D%22120%22%3E%3Crect%20x%3D%220%22%20y%3D%220%22%20width%3D%22180%22%20height%3D%22120%22%20fill%3D%22none%22%2F%3E%3C%2Fsvg%3E\" srcset=\"data:image/svg+xml,%3Csvg%20xmlns%3D%22http%3A%2F%2Fwww.w3.org%2F2000%2Fsvg%22%20viewBox%3D%220%200%20360%20240%22%20width%3D%22360%22%20height%3D%22240%22%3E%3Crect%20x%3D%220%22%20y%3D%220%22%20width%3D%22360%22%20height%3D%22240%22%20fill%3D%22none%22%2F%3E%3C%2Fsvg%3E 2x\" width=\"180\"/></picture></div></span></span><span class=\"cell\"><a class=\"newsitem__title link-holder\" href=\"https://news.mail.ru/society/49874646/\"><span class=\"newsitem__title-inner\">Главврач 52-й больницы призвала вакцинироваться раз в полгода</span></a><span class=\"newsitem__text\">В будущем этот интервал может увеличиться до года</span></span></div><ul class=\"list list_type_square list_overflow list_height_fixed_primary\"><li class=\"list__item list__item_height_fixed_primary\"><span class=\"list__text\"><a class=\"link link_flex\" href=\"https://news.mail.ru/society/49865721/\"><span class=\"link__text\">Сурки в Московском зоопарке проспали День сурка</span></a></span></li><li class=\"list__item list__item_height_fixed_primary\"><span class=\"list__text\"><a class=\"link link_flex\" href=\"https://news.mail.ru/incident/49872278/\"><span class=\"link__text\">Массовая драка из-за вырубки леса в Троицке попала на видео</span></a></span></li></ul></div></div><div class=\"cols__column cols__column_small_percent-50 cols__column_medium_percent-50 cols__column_large_percent-50\"><div class=\"cols__inner\"><div class=\"newsitem newsitem_height_fixed newsitem_height_fixed_primary js-ago-wrapper\"><div class=\"newsitem__params\"><span class=\"newsitem__param js-ago\" datetime=\"2022-02-02T11:59:15+03:00\">11:59 (мск)</span><span class=\"newsitem__param\">m24.ru</span></div><span class=\"cell cell_photo\"><span class=\"photo newsitem__photo\"><div class=\"photo__inner\"><img class=\"photo__pic m-lazy-item m-lazy-item_photo\" data-lazy-block-src=\"https://retina.news.mail.ru/prev180x120/pic/12/02/main49868800_63b25a33e7a0fd29ed35ab68cf7ef74f.jpg\" data-lazy-block-type=\"img\" data-mp-el=\"LazyBody.block\" src=\"data:image/svg+xml,%3Csvg%20xmlns%3D%22http%3A%2F%2Fwww.w3.org%2F2000%2Fsvg%22%20viewBox%3D%220%200%20180%20120%22%20width%3D%22180%22%20height%3D%22120%22%3E%3Crect%20x%3D%220%22%20y%3D%220%22%20width%3D%22180%22%20height%3D%22120%22%20fill%3D%22none%22%2F%3E%3C%2Fsvg%3E\"/></div></span></span><span class=\"cell\"><a class=\"newsitem__title link-holder\" href=\"https://news.mail.ru/society/49868800/\"><span class=\"newsitem__title-inner\">Собянин представил основные объекты реставрации 2022 года</span></a><span class=\"newsitem__text\">Начиная с 2011 года в Москве завершили реставрацию 1 754 памятников архитектуры</span></span></div><ul class=\"list list_type_square list_overflow list_height_fixed_primary\"><li class=\"list__item list__item_height_fixed_primary\"><span class=\"list__text\"><a class=\"link link_flex\" href=\"https://pogoda.mail.ru/news/49870945/\"><span class=\"link__text\">Москвичам пообещали передышку в снегопадах в выходные</span></a></span></li><li class=\"list__item list__item_height_fixed_primary\"><span class=\"list__text\"><a class=\"link link_flex\" href=\"https://news.mail.ru/society/49866504/\"><span class=\"link__text\">Как оформить больничный по COVID контактным лицам\n",
       "</span></a></span></li></ul></div></div></div></div></div></div> <!-- // ssi (State News Index) --> <!-- ssi (Rubric News Index) --> <div class=\"block block_separated_top rb_nat\"><div class=\"wrapper js-module\" data-counter-id=\"20268392\" data-module=\"TrackBlocks\" name=\"clb20268392\"><div class=\"cols cols_margin cols_percent\"><div class=\"cols__wrapper\"><div class=\"cols__column cols__column_small_percent-50 cols__column_medium_percent-50 cols__column_large_percent-50 link-hdr\"><div class=\"cols__inner\"><div class=\"hdr hdr_bold_huge margin_bottom_10\"><div class=\"hdr__wrapper\"><a class=\"hdr__text\" href=\"/politics/\"><span class=\"hdr__inner\">Политика</span></a></div></div><div class=\"newsitem newsitem_height_fixed js-ago-wrapper\"><div class=\"newsitem__params\"><span class=\"newsitem__param js-ago\" datetime=\"2022-02-02T12:06:26+03:00\">12:06 (мск)</span><span class=\"newsitem__param\">© РИА Новости</span></div><span class=\"cell cell_photo\"><span class=\"photo newsitem__photo\"><div class=\"photo__inner\"><img class=\"photo__pic m-lazy-item m-lazy-item_photo\" data-lazy-block-src=\"https://retina.news.mail.ru/prev180x120/pic/f2/97/main49870236_d7aaad1557b9615c5b97d2e6b733620d.jpg\" data-lazy-block-type=\"img\" data-mp-el=\"LazyBody.block\" src=\"data:image/svg+xml,%3Csvg%20xmlns%3D%22http%3A%2F%2Fwww.w3.org%2F2000%2Fsvg%22%20viewBox%3D%220%200%20180%20120%22%20width%3D%22180%22%20height%3D%22120%22%3E%3Crect%20x%3D%220%22%20y%3D%220%22%20width%3D%22180%22%20height%3D%22120%22%20fill%3D%22none%22%2F%3E%3C%2Fsvg%3E\"/></div></span></span><span class=\"cell\"><a class=\"newsitem__title link-holder\" href=\"https://news.mail.ru/politics/49870236/\"><span class=\"newsitem__title-inner\">Секретарь СПЧ прокомментировал слова депутата Делимханова</span></a><span class=\"newsitem__text\">МОСКВА, 2 фев — РИА Новости. Нужен точный перевод заявления депутата Госдумы Адама Делимханова о семье экс-судьи Сайди Янгулбаева, если он правильный, то это вопиющий случай, который не может остаться безнаказанным, заявил РИА Новости секретарь Совета при президенте России по развитию гражданского общества и правам человека (СПЧ) Александр Точенов.</span></span></div><ul class=\"list list_type_square list_overflow\"><li class=\"list__item\"><span class=\"list__text\"><a class=\"link link_flex\" href=\"https://news.mail.ru/politics/49869337/\"><span class=\"link__text\">Зеленский заявил о недовольстве всеми пунктами минских соглашений</span></a></span></li><li class=\"list__item\"><span class=\"list__text\"><a class=\"link link_flex\" href=\"https://news.mail.ru/politics/49868638/\"><span class=\"link__text\">Штрафы для бывших владельцев достигнут 30 тысяч рублей: Какие законы против атак бродячих собак готовит Госдума</span></a></span></li><li class=\"list__item\"><span class=\"list__text\"><a class=\"link link_flex\" href=\"https://news.mail.ru/politics/49868273/\"><span class=\"link__text\">El Pais опубликовала ответы США и НАТО по гарантиям безопасности</span></a></span></li></ul></div></div><div class=\"cols__column cols__column_small_percent-50 cols__column_medium_percent-50 cols__column_large_percent-50 link-hdr\"><div class=\"cols__inner\"><div class=\"hdr hdr_bold_huge margin_bottom_10\"><div class=\"hdr__wrapper\"><a class=\"hdr__text\" href=\"/economics/\"><span class=\"hdr__inner\">Экономика</span></a></div></div><div class=\"newsitem newsitem_height_fixed js-ago-wrapper\"><div class=\"newsitem__params\"><span class=\"newsitem__param js-ago\" datetime=\"2022-02-02T17:25:36+03:00\">17:25 (мск)</span><span class=\"newsitem__param\">Секрет Фирмы</span></div><span class=\"cell cell_photo\"><span class=\"photo newsitem__photo\"><div class=\"photo__inner\"><picture class=\"picture m-lazy-item m-lazy-item_photo photo__picture\" data-lazy-block-type=\"picture\" data-mp-el=\"LazyBody.block\"><img class=\"picture__image picture__image_cover photo__pic\" data-lazy-block-src=\"https://resizer.mail.ru/p/da8e0704-7615-5d2a-984a-229424a09a97/AQAGby09WGTnxivpXAXL3jpVHrJk_OqlHmgdPAta-MvxnuGIrTCxfg2veMHbbOEwos6HEYgxZG2lfgs3x-fGhXVbxp4.jpg\" data-lazy-block-srcset=\"https://resizer.mail.ru/p/da8e0704-7615-5d2a-984a-229424a09a97/dpr:200/AQAGby09WGTnxivpXAXL3jpVHrJk_OqlHmgdPAta-MvxnuGIrTCxfg2veMHbbOEwos6HEYgxZG2lfgs3x-fGhXVbxp4.jpg 2x\" height=\"120\" src=\"data:image/svg+xml,%3Csvg%20xmlns%3D%22http%3A%2F%2Fwww.w3.org%2F2000%2Fsvg%22%20viewBox%3D%220%200%20180%20120%22%20width%3D%22180%22%20height%3D%22120%22%3E%3Crect%20x%3D%220%22%20y%3D%220%22%20width%3D%22180%22%20height%3D%22120%22%20fill%3D%22none%22%2F%3E%3C%2Fsvg%3E\" srcset=\"data:image/svg+xml,%3Csvg%20xmlns%3D%22http%3A%2F%2Fwww.w3.org%2F2000%2Fsvg%22%20viewBox%3D%220%200%20360%20240%22%20width%3D%22360%22%20height%3D%22240%22%3E%3Crect%20x%3D%220%22%20y%3D%220%22%20width%3D%22360%22%20height%3D%22240%22%20fill%3D%22none%22%2F%3E%3C%2Fsvg%3E 2x\" width=\"180\"/></picture></div></span></span><span class=\"cell\"><a class=\"newsitem__title link-holder\" href=\"https://news.mail.ru/economics/49876209/\"><span class=\"newsitem__title-inner\">Рубль вырос до максимума за 2 недели</span></a><span class=\"newsitem__text\">Рубль 2 февраля подорожал относительно доллара и евро, свидетельствуют данные Московской биржи. Американская и европейская валюты упали на торгах до минимума за 2 недели: доллар в ходе торгов стоил менее 76 рублей, евро — менее 86 рублей. По прогнозам экспертов, опрошенных Forbes, доллар закрепится на отметке 75 рублей. Российскую валюту поддерживают снижение геополитических рисков и высокие цены на нефть.</span></span></div><ul class=\"list list_type_square list_overflow\"><li class=\"list__item\"><span class=\"list__text\"><a class=\"link link_flex\" href=\"https://news.mail.ru/economics/49867645/\"><span class=\"link__text\">В России упал спрос на технику для майнинга</span></a></span></li><li class=\"list__item\"><span class=\"list__text\"><a class=\"link link_flex\" href=\"https://news.mail.ru/economics/49863099/\"><span class=\"link__text\">Белорусский калий не находит себе места</span></a></span></li><li class=\"list__item\"><span class=\"list__text\"><a class=\"link link_flex\" href=\"https://news.mail.ru/economics/49864558/\"><span class=\"link__text\">Россия в 2021 году экспортировала вакцины более чем на миллиард долларов</span></a></span></li></ul></div></div><div class=\"cols__column cols__column_small_percent-50 cols__column_medium_percent-50 cols__column_large_percent-50 link-hdr margin_top_30\"><div class=\"cols__inner\"><div class=\"hdr hdr_bold_huge margin_bottom_10\"><div class=\"hdr__wrapper\"><a class=\"hdr__text\" href=\"/society/\"><span class=\"hdr__inner\">Общество</span></a></div></div><div class=\"newsitem newsitem_height_fixed js-ago-wrapper\"><div class=\"newsitem__params\"><span class=\"newsitem__param js-ago\" datetime=\"2022-02-02T17:26:46+03:00\">17:26 (мск)</span><span class=\"newsitem__param\">Новости Mail.ru</span></div><span class=\"cell cell_photo\"><span class=\"photo newsitem__photo\"><div class=\"photo__inner\"><img class=\"photo__pic m-lazy-item m-lazy-item_photo\" data-lazy-block-src=\"https://retina.news.mail.ru/prev180x120/pic/b5/bd/main49876385_a7bdbd2955d6f06dcd2f6bf8acd574ad.jpg\" data-lazy-block-type=\"img\" data-mp-el=\"LazyBody.block\" src=\"data:image/svg+xml,%3Csvg%20xmlns%3D%22http%3A%2F%2Fwww.w3.org%2F2000%2Fsvg%22%20viewBox%3D%220%200%20180%20120%22%20width%3D%22180%22%20height%3D%22120%22%3E%3Crect%20x%3D%220%22%20y%3D%220%22%20width%3D%22180%22%20height%3D%22120%22%20fill%3D%22none%22%2F%3E%3C%2Fsvg%3E\"/></div></span></span><span class=\"cell\"><a class=\"newsitem__title link-holder\" href=\"https://news.mail.ru/society/49876385/\"><span class=\"newsitem__title-inner\">Космонавт показал, как выглядит Суэцкий канал с МКС</span></a><span class=\"newsitem__text\">Новое фото с орбиты.</span></span></div><ul class=\"list list_type_square list_overflow\"><li class=\"list__item\"><span class=\"list__text\"><a class=\"link link_flex\" href=\"https://news.mail.ru/society/49876397/\"><span class=\"link__text\">В США грабитель залез в чужой дом и оставил хозяевам 200 долларов</span></a></span></li><li class=\"list__item\"><span class=\"list__text\"><a class=\"link link_flex\" href=\"https://news.mail.ru/society/49876282/\"><span class=\"link__text\">​Тайский гид нашел на пляже редкую амбру стоимостью один миллион евро</span></a></span></li><li class=\"list__item\"><span class=\"list__text\"><a class=\"link link_flex\" href=\"https://news.mail.ru/society/49874646/\"><span class=\"link__text\">Главврач 52-й больницы в Москве призвала вакцинироваться раз в полгода</span></a></span></li></ul></div></div><div class=\"cols__column cols__column_small_percent-50 cols__column_medium_percent-50 cols__column_large_percent-50 link-hdr margin_top_30\"><div class=\"cols__inner\"><div class=\"hdr hdr_bold_huge margin_bottom_10\"><div class=\"hdr__wrapper\"><a class=\"hdr__text\" href=\"/incident/\"><span class=\"hdr__inner\">События</span></a></div></div><div class=\"newsitem newsitem_height_fixed js-ago-wrapper\"><div class=\"newsitem__params\"><span class=\"newsitem__param js-ago\" datetime=\"2022-02-02T16:07:09+03:00\">16:07 (мск)</span><span class=\"newsitem__param\">© РИА Новости</span></div><span class=\"cell cell_photo\"><span class=\"photo newsitem__photo\"><div class=\"photo__inner\"><img class=\"photo__pic m-lazy-item m-lazy-item_photo\" data-lazy-block-src=\"https://retina.news.mail.ru/prev180x120/pic/90/e5/main49874918_5bb1d7f55f6980b1be94b456f62672e4.jpg\" data-lazy-block-type=\"img\" data-mp-el=\"LazyBody.block\" src=\"data:image/svg+xml,%3Csvg%20xmlns%3D%22http%3A%2F%2Fwww.w3.org%2F2000%2Fsvg%22%20viewBox%3D%220%200%20180%20120%22%20width%3D%22180%22%20height%3D%22120%22%3E%3Crect%20x%3D%220%22%20y%3D%220%22%20width%3D%22180%22%20height%3D%22120%22%20fill%3D%22none%22%2F%3E%3C%2Fsvg%3E\"/></div></span></span><span class=\"cell\"><a class=\"newsitem__title link-holder\" href=\"https://news.mail.ru/incident/49874918/\"><span class=\"newsitem__title-inner\">Верховный суд признал движение «Колумбайн»* террористическим</span></a><span class=\"newsitem__text\">МОСКВА, 2 фев — РИА Новости. Верховный суд России в среду по иску Генпрокуратуры признал движение «Колумбайн»* террористическим и запретил его в стране, передает корреспондент РИА Новости из суда.</span></span></div><ul class=\"list list_type_square list_overflow\"><li class=\"list__item\"><span class=\"list__text\"><a class=\"link link_flex\" href=\"https://news.mail.ru/incident/49871362/\"><span class=\"link__text\">Бастрыкин взял на контроль дело сломавшего руку оперативнице инспектора ГИБДД</span></a></span></li><li class=\"list__item\"><span class=\"list__text\"><a class=\"link link_flex\" href=\"https://news.mail.ru/incident/49870039/\"><span class=\"link__text\">В России 13 дней подряд обновляются суточные рекорды заражений COVID-19 — более 141 тыс</span></a></span></li><li class=\"list__item\"><span class=\"list__text\"><a class=\"link link_flex\" href=\"https://news.mail.ru/incident/49868485/\"><span class=\"link__text\">Все трое участников «шоу» в дежурной части 37 отдела полиции Василеостровского района уволены</span></a></span></li></ul></div></div></div></div></div></div> <!-- // ssi (Rubric News Index) --> <!-- ssi (Cards Index) --> <div class=\"block block_bg_primary block_separated_top link-hdr\"><div class=\"wrapper js-module\" data-counter-id=\"20268418\" data-module=\"TrackBlocks\" name=\"clb20268418\"><div class=\"hdr hdr_bold_huge\"><div class=\"hdr__wrapper\"><span class=\"hdr__text\"><span class=\"hdr__inner\">Справки</span></span></div></div><div class=\"slider margin_top_20 js-module\" data-module=\"Slider.Index\"><div class=\"control control_prev control_flex control_opacity control_absolute js-slider__prev\"><span class=\"icon icon_svg\"><svg class=\"icon icon_fill_current\" height=\"100%\" width=\"100%\"><use class=\"icon__use\" xlink:href=\"/-/4f28656b/bem/news/web/web.bundles/common/common.svg#icon_navigation_drop-previous\"></use></svg></span></div><div class=\"control control_next control_flex control_opacity control_absolute js-slider__next\"><span class=\"icon icon_svg\"><svg class=\"icon icon_fill_current\" height=\"100%\" width=\"100%\"><use class=\"icon__use\" xlink:href=\"/-/4f28656b/bem/news/web/web.bundles/common/common.svg#icon_navigation_drop-next\"></use></svg></span></div><div class=\"slider__wrapper js-slider__container\"><div class=\"slider__content js-slider__viewport\"><div class=\"slider__items valign_top js-slider__content\"><div class=\"collections collections_nowrap js-slider__items\"><div class=\"collections__item collections__item_align_left js-slider__item\" data-logger=\"CollectionItem\"><div class=\"stack stack_bottom collections__stack\"><div class=\"collections__card\"><a class=\"collections__wrapper link-holder\" href=\"https://news.mail.ru/card/322/\"><span class=\"photo photo_full photo_scale collections__picture\"><div class=\"photo__inner\"><span class=\"photo__pic m-lazy-item m-lazy-item_photo m-lazy-item_size_large collections__image\" data-lazy-block-src=\"https://retina.news.mail.ru/prev300x215/pic/13/6f/r322_main_7a36c5fc0f47bc33f6a98f5eb995d49d.jpg\" data-lazy-block-type=\"background\" data-mp-el=\"LazyBody.block\"></span></div></span><span class=\"collections__title\">10 вопросов об омикрон-штамме — отвечает биолог Константин Северинов</span><span class=\"collections__params\"><span class=\"collections__param\">10 карточек</span></span></a></div></div></div><div class=\"collections__item collections__item_align_left js-slider__item\" data-logger=\"CollectionItem\"><div class=\"stack stack_bottom collections__stack\"><div class=\"collections__card\"><a class=\"collections__wrapper link-holder\" href=\"https://news.mail.ru/card/321/\"><span class=\"photo photo_full photo_scale collections__picture\"><div class=\"photo__inner\"><span class=\"photo__pic m-lazy-item m-lazy-item_photo m-lazy-item_size_large collections__image\" data-lazy-block-src=\"https://retina.news.mail.ru/prev300x215/pic/fe/8b/r321_main_f84a73a77dddc4b387ae98e36e55c868.jpg\" data-lazy-block-type=\"background\" data-mp-el=\"LazyBody.block\"></span></div></span><span class=\"collections__title\">Как ослабление рубля отразится на стоимости повседневных товаров</span><span class=\"collections__params\"><span class=\"collections__param\">4 карточки</span></span></a></div></div></div><div class=\"collections__item collections__item_align_left js-slider__item\" data-logger=\"CollectionItem\"><div class=\"stack stack_bottom collections__stack\"><div class=\"collections__card\"><a class=\"collections__wrapper link-holder\" href=\"https://news.mail.ru/card/320/\"><span class=\"photo photo_full photo_scale collections__picture\"><div class=\"photo__inner\"><span class=\"photo__pic m-lazy-item m-lazy-item_photo m-lazy-item_size_large collections__image\" data-lazy-block-src=\"https://retina.news.mail.ru/prev300x215/pic/75/90/r320_main_8239a7ab0e0072bc70c88b7da0037e38.jpg\" data-lazy-block-type=\"background\" data-mp-el=\"LazyBody.block\"></span></div></span><span class=\"collections__title\">Как лечить COVID-19 дома. Инструкция Минздрава для тех, у кого болезнь протекает в легкой форме</span><span class=\"collections__params\"><span class=\"collections__param\">6 карточек</span></span></a></div></div></div><div class=\"collections__item collections__item_align_left js-slider__item\" data-logger=\"CollectionItem\"><div class=\"stack stack_bottom collections__stack\"><div class=\"collections__card\"><a class=\"collections__wrapper link-holder\" href=\"https://news.mail.ru/card/317/\"><span class=\"photo photo_full photo_scale collections__picture\"><div class=\"photo__inner\"><span class=\"photo__pic m-lazy-item m-lazy-item_photo m-lazy-item_size_large collections__image\" data-lazy-block-src=\"https://retina.news.mail.ru/prev300x215/pic/b2/45/r317_main_7d7e575333a35cbfe6147b887df8510d.jpg\" data-lazy-block-type=\"background\" data-mp-el=\"LazyBody.block\"></span></div></span><span class=\"collections__title\">«Омикрон»: что известно о новом варианте коронавируса и как от него защититься?</span><span class=\"collections__params\"><span class=\"collections__param\">10 карточек</span></span></a></div></div></div><div class=\"collections__item collections__item_align_left js-slider__item\" data-logger=\"CollectionItem\"><div class=\"stack stack_bottom collections__stack\"><div class=\"collections__card\"><a class=\"collections__wrapper link-holder\" href=\"https://news.mail.ru/card/315/\"><span class=\"photo photo_full photo_scale collections__picture\"><div class=\"photo__inner\"><span class=\"photo__pic m-lazy-item m-lazy-item_photo m-lazy-item_size_large collections__image\" data-lazy-block-src=\"https://retina.news.mail.ru/prev300x215/pic/00/88/r315_main_94de83bc8d00ba56473ef6b450bd8ce6.jpg\" data-lazy-block-type=\"background\" data-mp-el=\"LazyBody.block\"></span></div></span><span class=\"collections__title\">Заразнее «дельты» и опаснее для молодых: что известно о новом штамме коронавируса «омикрон»</span><span class=\"collections__params\"><span class=\"collections__param\">9 карточек</span></span></a></div></div></div><div class=\"collections__item collections__item_align_left js-slider__item\" data-logger=\"CollectionItem\"><div class=\"stack stack_bottom collections__stack\"><div class=\"collections__card\"><a class=\"collections__wrapper link-holder\" href=\"https://news.mail.ru/card/314/\"><span class=\"photo photo_full photo_scale collections__picture\"><div class=\"photo__inner\"><span class=\"photo__pic m-lazy-item m-lazy-item_photo m-lazy-item_size_large collections__image\" data-lazy-block-src=\"https://retina.news.mail.ru/prev300x215/pic/38/ab/r314_main_94ce6d5bca3794fafaa792a1e2ab5b57.jpg\" data-lazy-block-type=\"background\" data-mp-el=\"LazyBody.block\"></span></div></span><span class=\"collections__title\">В России введут QR-коды в магазинах и на транспорте. Что важно знать</span><span class=\"collections__params\"><span class=\"collections__param\">10 карточек</span></span></a></div></div></div><div class=\"collections__item collections__item_align_left js-slider__item\" data-logger=\"CollectionItem\"><div class=\"stack stack_bottom collections__stack\"><div class=\"collections__card\"><a class=\"collections__wrapper link-holder\" href=\"https://news.mail.ru/card/309/\"><span class=\"photo photo_full photo_scale collections__picture\"><div class=\"photo__inner\"><span class=\"photo__pic m-lazy-item m-lazy-item_photo m-lazy-item_size_large collections__image\" data-lazy-block-src=\"https://retina.news.mail.ru/prev300x215/pic/9f/11/r309_main_f39f922188badbf270c112935d5ea72a.jpg\" data-lazy-block-type=\"background\" data-mp-el=\"LazyBody.block\"></span></div></span><span class=\"collections__title\">В каких регионах ввели QR-коды для привитых и переболевших COVID-19</span><span class=\"collections__params\"><span class=\"collections__param\">9 карточек</span></span></a></div></div></div><div class=\"collections__item collections__item_align_left js-slider__item\" data-logger=\"CollectionItem\"><div class=\"stack stack_bottom collections__stack\"><div class=\"collections__card\"><a class=\"collections__wrapper link-holder\" href=\"https://news.mail.ru/card/311/\"><span class=\"photo photo_full photo_scale collections__picture\"><div class=\"photo__inner\"><span class=\"photo__pic m-lazy-item m-lazy-item_photo m-lazy-item_size_large collections__image\" data-lazy-block-src=\"https://retina.news.mail.ru/prev300x215/pic/32/e2/r311_main_0716716179bff58cf09ada69adee16d7.jpg\" data-lazy-block-type=\"background\" data-mp-el=\"LazyBody.block\"></span></div></span><span class=\"collections__title\">В Москве прошли переговоры с талибами</span><span class=\"collections__params\"><span class=\"collections__param\">4 карточки</span></span></a></div></div></div><div class=\"collections__item collections__item_align_left js-slider__item\" data-logger=\"CollectionItem\"><div class=\"stack stack_bottom collections__stack\"><div class=\"collections__card\"><a class=\"collections__wrapper link-holder\" href=\"https://news.mail.ru/card/310/\"><span class=\"photo photo_full photo_scale collections__picture\"><div class=\"photo__inner\"><span class=\"photo__pic m-lazy-item m-lazy-item_photo m-lazy-item_size_large collections__image\" data-lazy-block-src=\"https://retina.news.mail.ru/prev300x215/pic/d7/60/r310_main_34b9458ff96e94868a91cd8010525241.jpg\" data-lazy-block-type=\"background\" data-mp-el=\"LazyBody.block\"></span></div></span><span class=\"collections__title\">Чем режим нерабочих дней отличается от выходных и как он оплачивается?</span><span class=\"collections__params\"><span class=\"collections__param\">6 карточек</span></span></a></div></div></div><div class=\"collections__item collections__item_align_left js-slider__item\" data-logger=\"CollectionItem\"><div class=\"stack stack_bottom collections__stack\"><div class=\"collections__card\"><a class=\"collections__wrapper link-holder\" href=\"https://news.mail.ru/card/308/\"><span class=\"photo photo_full photo_scale collections__picture\"><div class=\"photo__inner\"><span class=\"photo__pic m-lazy-item m-lazy-item_photo m-lazy-item_size_large collections__image\" data-lazy-block-src=\"https://retina.news.mail.ru/prev300x215/pic/c2/f7/r308_main_4ce1b1d8c54ac2098cff0cdd49bd2a36.jpg\" data-lazy-block-type=\"background\" data-mp-el=\"LazyBody.block\"></span></div></span><span class=\"collections__title\">Цены на газ продолжают рекордно расти: кому это угрожает и почему</span><span class=\"collections__params\"><span class=\"collections__param\">5 карточек</span></span></a></div></div></div><div class=\"collections__item collections__item_align_left js-slider__item\" data-logger=\"CollectionItem\"><div class=\"stack stack_bottom collections__stack\"><div class=\"collections__card\"><a class=\"collections__wrapper link-holder\" href=\"https://news.mail.ru/card/307/\"><span class=\"photo photo_full photo_scale collections__picture\"><div class=\"photo__inner\"><span class=\"photo__pic m-lazy-item m-lazy-item_photo m-lazy-item_size_large collections__image\" data-lazy-block-src=\"https://retina.news.mail.ru/prev300x215/pic/2f/b4/r307_main_ce21086a80895b9c0e2e825c389e7dca.jpg\" data-lazy-block-type=\"background\" data-mp-el=\"LazyBody.block\"></span></div></span><span class=\"collections__title\">Частная вакцина: что известно о новом препарате от COVID «Бетувакс»</span><span class=\"collections__params\"><span class=\"collections__param\">4 карточки</span></span></a></div></div></div><div class=\"collections__item collections__item_align_left js-slider__item\" data-logger=\"CollectionItem\"><div class=\"stack stack_bottom collections__stack\"><div class=\"collections__card\"><a class=\"collections__wrapper link-holder\" href=\"https://news.mail.ru/card/305/\"><span class=\"photo photo_full photo_scale collections__picture\"><div class=\"photo__inner\"><span class=\"photo__pic m-lazy-item m-lazy-item_photo m-lazy-item_size_large collections__image\" data-lazy-block-src=\"https://retina.news.mail.ru/prev300x215/pic/08/5e/r305_main_a21f4bfdfbc1d81f5a60c73c4506d49e.jpg\" data-lazy-block-type=\"background\" data-mp-el=\"LazyBody.block\"></span></div></span><span class=\"collections__title\">Все, что нужно знать о выборах в Госдуму РФ</span><span class=\"collections__params\"><span class=\"collections__param\">20 карточек</span></span></a></div></div></div></div></div></div></div></div></div></div> <!-- // ssi (Cards Index) --> <!-- ssi (Guides Index) --> <div class=\"block block_bg_primary block_separated_top link-hdr\"><div class=\"wrapper\"><div class=\"hdr hdr_bold_huge\"><div class=\"hdr__wrapper\"><a class=\"hdr__text\" href=\"/guide/\"><span class=\"hdr__inner\">Навигатор</span></a></div></div><div class=\"slider margin_top_20 js-module\" data-module=\"Slider.Index\"><div class=\"control control_prev control_flex control_opacity control_absolute js-slider__prev\"><span class=\"icon icon_svg\"><svg class=\"icon icon_fill_current\" height=\"100%\" width=\"100%\"><use class=\"icon__use\" xlink:href=\"/-/4f28656b/bem/news/web/web.bundles/common/common.svg#icon_navigation_drop-previous\"></use></svg></span></div><div class=\"control control_next control_flex control_opacity control_absolute js-slider__next\"><span class=\"icon icon_svg\"><svg class=\"icon icon_fill_current\" height=\"100%\" width=\"100%\"><use class=\"icon__use\" xlink:href=\"/-/4f28656b/bem/news/web/web.bundles/common/common.svg#icon_navigation_drop-next\"></use></svg></span></div><div class=\"slider__wrapper js-slider__container\"><div class=\"slider__content js-slider__viewport\"><div class=\"slider__items valign_top js-slider__content\"><div class=\"collections collections_nowrap js-slider__items\"><div class=\"collections__item collections__item_align_left js-slider__item\" data-logger=\"CollectionItem\"><div class=\"stack stack_bottom collections__stack\"><div class=\"collections__card\"><a class=\"collections__wrapper link-holder\" href=\"/guide/chto-takoe-legitimnost-prostymi-slovami/\"><span class=\"photo photo_full photo_scale collections__picture\"><div class=\"photo__inner\"><span class=\"photo__pic m-lazy-item m-lazy-item_photo m-lazy-item_size_large collections__image\" data-lazy-block-src=\"https://retina.news.mail.ru/prev300x215/pic/3d/73/guide_75_334b43475dd38464f2d5be89d9b371be.jpg\" data-lazy-block-type=\"background\" data-mp-el=\"LazyBody.block\"></span></div></span><span class=\"collections__title\">Что такое легитимность простыми словами</span></a></div></div></div><div class=\"collections__item collections__item_align_left js-slider__item\" data-logger=\"CollectionItem\"><div class=\"stack stack_bottom collections__stack\"><div class=\"collections__card\"><a class=\"collections__wrapper link-holder\" href=\"/guide/chto-takoe-diversifikaciya-prostymi-slovami/\"><span class=\"photo photo_full photo_scale collections__picture\"><div class=\"photo__inner\"><span class=\"photo__pic m-lazy-item m-lazy-item_photo m-lazy-item_size_large collections__image\" data-lazy-block-src=\"https://retina.news.mail.ru/prev300x215/pic/bf/09/guide_74_84e3495713e3ce1dc9b78acba8d5c357.jpg\" data-lazy-block-type=\"background\" data-mp-el=\"LazyBody.block\"></span></div></span><span class=\"collections__title\">Что такое диверсификация простыми словами</span></a></div></div></div><div class=\"collections__item collections__item_align_left js-slider__item\" data-logger=\"CollectionItem\"><div class=\"stack stack_bottom collections__stack\"><div class=\"collections__card\"><a class=\"collections__wrapper link-holder\" href=\"/guide/chto-takoe-dogovor-cessiya-prostymi-slovami/\"><span class=\"photo photo_full photo_scale collections__picture\"><div class=\"photo__inner\"><span class=\"photo__pic m-lazy-item m-lazy-item_photo m-lazy-item_size_large collections__image\" data-lazy-block-src=\"https://retina.news.mail.ru/prev300x215/pic/5c/1f/guide_73_6e5dec4a37e657ca87cb540e70c3d321.jpg\" data-lazy-block-type=\"background\" data-mp-el=\"LazyBody.block\"></span></div></span><span class=\"collections__title\">Что такое договор цессии простыми словами</span></a></div></div></div><div class=\"collections__item collections__item_align_left js-slider__item\" data-logger=\"CollectionItem\"><div class=\"stack stack_bottom collections__stack\"><div class=\"collections__card\"><a class=\"collections__wrapper link-holder\" href=\"/guide/-chto-takoe-kollaboraciya-/\"><span class=\"photo photo_full photo_scale collections__picture\"><div class=\"photo__inner\"><span class=\"photo__pic m-lazy-item m-lazy-item_photo m-lazy-item_size_large collections__image\" data-lazy-block-src=\"https://retina.news.mail.ru/prev300x215/pic/53/05/guide_72_90c829691d308913a4bb148156d9c6df.jpg\" data-lazy-block-type=\"background\" data-mp-el=\"LazyBody.block\"></span></div></span><span class=\"collections__title\"> Что такое коллаборация </span></a></div></div></div><div class=\"collections__item collections__item_align_left js-slider__item\" data-logger=\"CollectionItem\"><div class=\"stack stack_bottom collections__stack\"><div class=\"collections__card\"><a class=\"collections__wrapper link-holder\" href=\"/guide/kogda_otmechayut_den_buhgaltera_v_rossii/\"><span class=\"photo photo_full photo_scale collections__picture\"><div class=\"photo__inner\"><span class=\"photo__pic m-lazy-item m-lazy-item_photo m-lazy-item_size_large collections__image\" data-lazy-block-src=\"https://retina.news.mail.ru/prev300x215/pic/91/d2/guide_38_c80217c8685a20b6447931dc82f1d4ed.jpg\" data-lazy-block-type=\"background\" data-mp-el=\"LazyBody.block\"></span></div></span><span class=\"collections__title\">Когда отмечают День бухгалтера в России</span></a></div></div></div><div class=\"collections__item collections__item_align_left js-slider__item\" data-logger=\"CollectionItem\"><div class=\"stack stack_bottom collections__stack\"><div class=\"collections__card\"><a class=\"collections__wrapper link-holder\" href=\"/guide/chto-takoe-ekvayring-prostymi-slovami/\"><span class=\"photo photo_full photo_scale collections__picture\"><div class=\"photo__inner\"><span class=\"photo__pic m-lazy-item m-lazy-item_photo m-lazy-item_size_large collections__image\" data-lazy-block-src=\"https://retina.news.mail.ru/prev300x215/pic/e6/3a/guide_71_5d3916eecc7bb7749ea5d7cea8240723.jpg\" data-lazy-block-type=\"background\" data-mp-el=\"LazyBody.block\"></span></div></span><span class=\"collections__title\">Что такое эквайринг простыми словами</span></a></div></div></div><div class=\"collections__item collections__item_align_left js-slider__item\" data-logger=\"CollectionItem\"><div class=\"stack stack_bottom collections__stack\"><div class=\"collections__card\"><a class=\"collections__wrapper link-holder\" href=\"/guide/chto-takoe-denominaciya-prostymi-slovami/\"><span class=\"photo photo_full photo_scale collections__picture\"><div class=\"photo__inner\"><span class=\"photo__pic m-lazy-item m-lazy-item_photo m-lazy-item_size_large collections__image\" data-lazy-block-src=\"https://retina.news.mail.ru/prev300x215/pic/76/22/guide_70_d2f5b73eb031a2b0f63ba55e1fe66014.jpg\" data-lazy-block-type=\"background\" data-mp-el=\"LazyBody.block\"></span></div></span><span class=\"collections__title\">Что такое деноминация простыми словами</span></a></div></div></div><div class=\"collections__item collections__item_align_left js-slider__item\" data-logger=\"CollectionItem\"><div class=\"stack stack_bottom collections__stack\"><div class=\"collections__card\"><a class=\"collections__wrapper link-holder\" href=\"/guide/chto-takoe-crm-sistema/\"><span class=\"photo photo_full photo_scale collections__picture\"><div class=\"photo__inner\"><span class=\"photo__pic m-lazy-item m-lazy-item_photo m-lazy-item_size_large collections__image\" data-lazy-block-src=\"https://retina.news.mail.ru/prev300x215/pic/f3/56/guide_69_bfd250d0a7c58bfc37d14e38f71ad843.jpg\" data-lazy-block-type=\"background\" data-mp-el=\"LazyBody.block\"></span></div></span><span class=\"collections__title\">Что такое CRM система</span></a></div></div></div><div class=\"collections__item collections__item_align_left js-slider__item\" data-logger=\"CollectionItem\"><div class=\"stack stack_bottom collections__stack\"><div class=\"collections__card\"><a class=\"collections__wrapper link-holder\" href=\"/guide/chto-takoe-frustraciya/\"><span class=\"photo photo_full photo_scale collections__picture\"><div class=\"photo__inner\"><span class=\"photo__pic m-lazy-item m-lazy-item_photo m-lazy-item_size_large collections__image\" data-lazy-block-src=\"https://retina.news.mail.ru/prev300x215/pic/3a/97/guide_68_ad5be340689f73711a7d3d11850fad15.jpg\" data-lazy-block-type=\"background\" data-mp-el=\"LazyBody.block\"></span></div></span><span class=\"collections__title\">Что такое фрустрация</span></a></div></div></div><div class=\"collections__item collections__item_align_left js-slider__item\" data-logger=\"CollectionItem\"><div class=\"stack stack_bottom collections__stack\"><div class=\"collections__card\"><a class=\"collections__wrapper link-holder\" href=\"/guide/kak-zaregistrirovatsya-samozanyatym-poshagovaya-instrukciya/\"><span class=\"photo photo_full photo_scale collections__picture\"><div class=\"photo__inner\"><span class=\"photo__pic m-lazy-item m-lazy-item_photo m-lazy-item_size_large collections__image\" data-lazy-block-src=\"https://retina.news.mail.ru/prev300x215/pic/3d/c9/guide_67_674173cc2be52a363148109154fb85d1.jpg\" data-lazy-block-type=\"background\" data-mp-el=\"LazyBody.block\"></span></div></span><span class=\"collections__title\">Как зарегистрироваться самозанятым: пошаговая инструкция</span></a></div></div></div><div class=\"collections__item collections__item_align_left js-slider__item\" data-logger=\"CollectionItem\"><div class=\"stack stack_bottom collections__stack\"><div class=\"collections__card\"><a class=\"collections__wrapper link-holder\" href=\"/guide/chto-takoe-stagnaciya/\"><span class=\"photo photo_full photo_scale collections__picture\"><div class=\"photo__inner\"><span class=\"photo__pic m-lazy-item m-lazy-item_photo m-lazy-item_size_large collections__image\" data-lazy-block-src=\"https://retina.news.mail.ru/prev300x215/pic/89/cd/guide_66_4fafda874a25fee8aecb8f3534e928ae.jpeg\" data-lazy-block-type=\"background\" data-mp-el=\"LazyBody.block\"></span></div></span><span class=\"collections__title\">Что такое стагнация</span></a></div></div></div><div class=\"collections__item collections__item_align_left js-slider__item\" data-logger=\"CollectionItem\"><div class=\"stack stack_bottom collections__stack\"><div class=\"collections__card\"><a class=\"collections__wrapper link-holder\" href=\"/guide/chto-takoe-vvp/\"><span class=\"photo photo_full photo_scale collections__picture\"><div class=\"photo__inner\"><span class=\"photo__pic m-lazy-item m-lazy-item_photo m-lazy-item_size_large collections__image\" data-lazy-block-src=\"https://retina.news.mail.ru/prev300x215/pic/5c/b1/guide_65_5ffba494d4e1431028294777cd0c3f3a.jpeg\" data-lazy-block-type=\"background\" data-mp-el=\"LazyBody.block\"></span></div></span><span class=\"collections__title\">Что такое ВВП</span></a></div></div></div></div></div></div></div></div></div></div> <!-- // ssi (Guides Index) --> <!-- ssi (Galleries Index) --> <div class=\"block block_separated_top link-hdr\"><div class=\"wrapper js-module\" data-counter-id=\"20268379\" data-module=\"TrackBlocks\" name=\"clb20268379\"><!-- /rb/31630?_SITEZONE=1 (NAT index) --><!-- //rb/31630?_SITEZONE=1 (NAT index) -->\n",
       "<div class=\"hdr hdr_bold_huge\"><div class=\"hdr__wrapper\"><span class=\"hdr__text\"><span class=\"hdr__inner\">Фоторепортажи</span></span></div></div><div class=\"p-grid-abs p-grid-abs_index js-view\" data-view=\"PopupGalleryView,ShowGalleryPopup.Ajax\"><div class=\"p-grid-abs__inner\"><div class=\"p-grid-abs__item p-grid-abs__item_x-0 p-grid-abs__item_y-0 p-grid-abs__item_size-vert\"><a class=\"photo photo_small photo_full photo_scale js-show_photo\" data-gallery-id=\"821102\" data-gallery-url=\"/ajax/json__gallery/?gall_id=821102\" href=\"/foto/821102/\"><div class=\"photo__inner\"><span class=\"photo__pic m-lazy-item m-lazy-item_photo\" data-lazy-block-src=\"https://retina.news.mail.ru/prev200x295/pic/7d/f1/g821102_image2_915e06a0def667c4e5a1f557715811a2.jpg\" data-lazy-block-type=\"background\" data-mp-el=\"LazyBody.block\"></span></div><span class=\"photo__captions photo__captions_icon\"><span class=\"photo__count\">20</span><span class=\"photo__title\">International Landscape Photographer of the Year объявил победителей</span></span></a></div><div class=\"p-grid-abs__item p-grid-abs__item_x-1 p-grid-abs__item_y-0 p-grid-abs__item_size-large\"><a class=\"photo photo_small photo_full photo_scale js-show_photo\" data-gallery-id=\"821040\" data-gallery-url=\"/ajax/json__gallery/?gall_id=821040\" href=\"/foto/821040/\"><div class=\"photo__inner\"><span class=\"photo__pic m-lazy-item m-lazy-item_photo\" data-lazy-block-src=\"https://retina.news.mail.ru/prev401x295/pic/08/26/g821040_image_d2711e4d15a02df277833250872b7a72.jpg\" data-lazy-block-type=\"background\" data-mp-el=\"LazyBody.block\"></span></div><span class=\"photo__captions photo__captions_icon\"><span class=\"photo__count\">12</span><span class=\"photo__title\">Прощание с народным артистом РСФСР Леонидом Куравлевым</span></span></a></div><div class=\"p-grid-abs__item p-grid-abs__item_x-3 p-grid-abs__item_y-0 p-grid-abs__item_size-vert\"><a class=\"photo photo_small photo_full photo_scale js-show_photo\" data-gallery-id=\"821019\" data-gallery-url=\"/ajax/json__gallery/?gall_id=821019\" href=\"/foto/821019/\"><div class=\"photo__inner\"><span class=\"photo__pic m-lazy-item m-lazy-item_photo\" data-lazy-block-src=\"https://retina.news.mail.ru/prev200x295/pic/80/97/g821019_image2_e5b83a7aea905c456b2770eb35d2d3ac.jpg\" data-lazy-block-type=\"background\" data-mp-el=\"LazyBody.block\"></span></div><span class=\"photo__captions photo__captions_icon\"><span class=\"photo__count\">11</span><span class=\"photo__title\">Мир встретил китайский Новый год</span></span></a></div><div class=\"p-grid-abs__item p-grid-abs__item_x-4 p-grid-abs__item_y-0 p-grid-abs__item_size-small\"><a class=\"photo photo_small photo_full photo_scale js-show_photo\" data-gallery-id=\"820277\" data-gallery-url=\"/ajax/json__gallery/?gall_id=820277\" href=\"/foto/820277/\"><div class=\"photo__inner\"><span class=\"photo__pic m-lazy-item m-lazy-item_photo\" data-lazy-block-src=\"https://retina.news.mail.ru/prev200x147/pic/ee/f0/g820277_image_92667365c12134e7a75a630b5286d6fd.jpg\" data-lazy-block-type=\"background\" data-mp-el=\"LazyBody.block\"></span></div><span class=\"photo__captions photo__captions_icon\"><span class=\"photo__count\">10</span><span class=\"photo__title\">Празднование Крещения в регионах России</span></span></a></div><div class=\"p-grid-abs__item p-grid-abs__item_x-5 p-grid-abs__item_y-0 p-grid-abs__item_size-small\"><a class=\"photo photo_small photo_full photo_scale js-show_photo\" data-gallery-id=\"820207\" data-gallery-url=\"/ajax/json__gallery/?gall_id=820207\" href=\"/foto/820207/\"><div class=\"photo__inner\"><span class=\"photo__pic m-lazy-item m-lazy-item_photo\" data-lazy-block-src=\"https://retina.news.mail.ru/prev200x147/pic/61/62/g820207_image_023e2130b30bf536d93357033a0b6fe6.jpg\" data-lazy-block-type=\"background\" data-mp-el=\"LazyBody.block\"></span></div><span class=\"photo__captions photo__captions_icon\"><span class=\"photo__count\">17</span><span class=\"photo__title\">Названы шорт-листы студенческого и юношеского конкурсов Sony World Photography Awards</span></span></a></div><div class=\"p-grid-abs__item p-grid-abs__item_x-0 p-grid-abs__item_y-2 p-grid-abs__item_size-large\"><a class=\"photo photo_small photo_full photo_scale js-show_photo\" data-gallery-id=\"819782\" data-gallery-url=\"/ajax/json__gallery/?gall_id=819782\" href=\"/foto/819782/\"><div class=\"photo__inner\"><span class=\"photo__pic m-lazy-item m-lazy-item_photo\" data-lazy-block-src=\"https://retina.news.mail.ru/prev401x295/pic/47/03/g819782_image_6031a6c1b1d76fd9d268d165b5544ab5.jpg\" data-lazy-block-type=\"background\" data-mp-el=\"LazyBody.block\"></span></div><span class=\"photo__captions photo__captions_icon\"><span class=\"photo__count\">10</span><span class=\"photo__title\">Миротворцы ОДКБ в Казахстане</span></span></a></div><div class=\"p-grid-abs__item p-grid-abs__item_x-2 p-grid-abs__item_y-2 p-grid-abs__item_size-large\"><a class=\"photo photo_small photo_full photo_scale js-show_photo\" data-gallery-id=\"819732\" data-gallery-url=\"/ajax/json__gallery/?gall_id=819732\" href=\"/foto/819732/\"><div class=\"photo__inner\"><span class=\"photo__pic m-lazy-item m-lazy-item_photo\" data-lazy-block-src=\"https://retina.news.mail.ru/prev401x295/pic/53/84/g819732_image_984beaa31be459e5eb01298ec47bd948.jpg\" data-lazy-block-type=\"background\" data-mp-el=\"LazyBody.block\"></span></div><span class=\"photo__captions photo__captions_icon\"><span class=\"photo__count\">18</span><span class=\"photo__title\">Казахстан после погромов</span></span></a></div><div class=\"p-grid-abs__item p-grid-abs__item_x-4 p-grid-abs__item_y-1 p-grid-abs__item_size-large\"><a class=\"photo photo_small photo_full photo_scale js-show_photo\" data-gallery-id=\"819513\" data-gallery-url=\"/ajax/json__gallery/?gall_id=819513\" href=\"/foto/819513/\"><div class=\"photo__inner\"><span class=\"photo__pic m-lazy-item m-lazy-item_photo\" data-lazy-block-src=\"https://retina.news.mail.ru/prev401x295/pic/87/89/g819513_image_51dc68578f5a52de835ac2c41bb246a8.jpg\" data-lazy-block-type=\"background\" data-mp-el=\"LazyBody.block\"></span></div><span class=\"photo__captions photo__captions_icon\"><span class=\"photo__count\">24</span><span class=\"photo__title\">Массовые протесты в Казахстане</span></span></a></div><div class=\"p-grid-abs__item p-grid-abs__item_x-4 p-grid-abs__item_y-3 p-grid-abs__item_size-small\"><a class=\"photo photo_small photo_full photo_scale js-show_photo\" data-gallery-id=\"819294\" data-gallery-url=\"/ajax/json__gallery/?gall_id=819294\" href=\"/foto/819294/\"><div class=\"photo__inner\"><span class=\"photo__pic m-lazy-item m-lazy-item_photo\" data-lazy-block-src=\"https://retina.news.mail.ru/prev200x147/pic/ed/4c/g819294_image_bdf1472d6d6d9c28a53e30f27f65a590.jpg\" data-lazy-block-type=\"background\" data-mp-el=\"LazyBody.block\"></span></div><span class=\"photo__captions photo__captions_icon\"><span class=\"photo__count\">13</span><span class=\"photo__title\">Названы победители Nature photographer of the year 2021</span></span></a></div><div class=\"p-grid-abs__item p-grid-abs__item_x-5 p-grid-abs__item_y-3 p-grid-abs__item_size-small\"><a class=\"photo photo_small photo_full photo_scale js-show_photo\" data-gallery-id=\"819003\" data-gallery-url=\"/ajax/json__gallery/?gall_id=819003\" href=\"/foto/819003/\"><div class=\"photo__inner\"><span class=\"photo__pic m-lazy-item m-lazy-item_photo\" data-lazy-block-src=\"https://retina.news.mail.ru/prev200x147/pic/cd/91/g819003_image_571807a3767954702b360f4e95c56d5b.jpg\" data-lazy-block-type=\"background\" data-mp-el=\"LazyBody.block\"></span></div><span class=\"photo__captions photo__captions_icon\"><span class=\"photo__count\">5</span><span class=\"photo__title\">День МЧС: самые невероятные истории спасения</span></span></a></div></div></div></div></div> <!-- // ssi (Galleries Index) --> <!-- ssi (Quiz Index) --> <div class=\"block block_bg_primary block_separated_top link-hdr\"><div class=\"wrapper\"><div class=\"hdr hdr_bold_huge\"><div class=\"hdr__wrapper\"><span class=\"hdr__text\"><span class=\"hdr__inner\">Тесты</span></span></div></div><div class=\"slider margin_top_20 js-module\" data-module=\"Slider.Index\"><div class=\"control control_prev control_flex control_opacity control_absolute js-slider__prev\"><span class=\"icon icon_svg\"><svg class=\"icon icon_fill_current\" height=\"100%\" width=\"100%\"><use class=\"icon__use\" xlink:href=\"/-/4f28656b/bem/news/web/web.bundles/common/common.svg#icon_navigation_drop-previous\"></use></svg></span></div><div class=\"control control_next control_flex control_opacity control_absolute js-slider__next\"><span class=\"icon icon_svg\"><svg class=\"icon icon_fill_current\" height=\"100%\" width=\"100%\"><use class=\"icon__use\" xlink:href=\"/-/4f28656b/bem/news/web/web.bundles/common/common.svg#icon_navigation_drop-next\"></use></svg></span></div><div class=\"slider__wrapper js-slider__container\"><div class=\"slider__content js-slider__viewport\"><div class=\"slider__items valign_top js-slider__content\"><div class=\"collections collections_nowrap js-slider__items\"><div class=\"collections__item collections__item_align_left js-slider__item\" data-logger=\"CollectionItem\"><div class=\"stack stack_bottom collections__stack\"><div class=\"collections__card\"><a class=\"collections__wrapper link-holder\" href=\"/society/49856941/\"><span class=\"photo photo_full photo_scale collections__picture\"><div class=\"photo__inner\"><span class=\"photo__pic m-lazy-item m-lazy-item_photo m-lazy-item_size_large collections__image\" data-lazy-block-src=\"https://retina.news.mail.ru/prev300x215/pic/ef/30/main49856941_e0d0d4839cec200d243e47913e43fb33.jpg\" data-lazy-block-type=\"background\" data-mp-el=\"LazyBody.block\"></span></div></span><span class=\"collections__title\">Тест: Угадайте, откуда родом эти знаменитые десерты</span></a></div></div></div><div class=\"collections__item collections__item_align_left js-slider__item\" data-logger=\"CollectionItem\"><div class=\"stack stack_bottom collections__stack\"><div class=\"collections__card\"><a class=\"collections__wrapper link-holder\" href=\"/society/44957689/\"><span class=\"photo photo_full photo_scale collections__picture\"><div class=\"photo__inner\"><span class=\"photo__pic m-lazy-item m-lazy-item_photo m-lazy-item_size_large collections__image\" data-lazy-block-src=\"https://retina.news.mail.ru/prev300x215/pic/2c/f3/main44957689_076bacbd2c72c565237d46fa3907296f.jpg\" data-lazy-block-type=\"background\" data-mp-el=\"LazyBody.block\"></span></div></span><span class=\"collections__title\">Тест: Что вы знаете об объятиях</span></a></div></div></div><div class=\"collections__item collections__item_align_left js-slider__item\" data-logger=\"CollectionItem\"><div class=\"stack stack_bottom collections__stack\"><div class=\"collections__card\"><a class=\"collections__wrapper link-holder\" href=\"/society/49687618/\"><span class=\"photo photo_full photo_scale collections__picture\"><div class=\"photo__inner\"><span class=\"photo__pic m-lazy-item m-lazy-item_photo m-lazy-item_size_large collections__image\" data-lazy-block-src=\"https://retina.news.mail.ru/prev300x215/pic/6e/52/main49687618_33d202f0b464f64581355ad868ad9352.jpg\" data-lazy-block-type=\"background\" data-mp-el=\"LazyBody.block\"></span></div></span><span class=\"collections__title\">Тест: Разбираетесь ли вы в сыре</span></a></div></div></div><div class=\"collections__item collections__item_align_left js-slider__item\" data-logger=\"CollectionItem\"><div class=\"stack stack_bottom collections__stack\"><div class=\"collections__card\"><a class=\"collections__wrapper link-holder\" href=\"/society/49584993/\"><span class=\"photo photo_full photo_scale collections__picture\"><div class=\"photo__inner\"><span class=\"photo__pic m-lazy-item m-lazy-item_photo m-lazy-item_size_large collections__image\" data-lazy-block-src=\"https://retina.news.mail.ru/prev300x215/pic/cd/6d/main49584993_011359f5bc29f20dfd4a28b8e2e2b945.jpg\" data-lazy-block-type=\"background\" data-mp-el=\"LazyBody.block\"></span></div></span><span class=\"collections__title\">Тест: Понимаете ли вы журналистский сленг</span></a></div></div></div><div class=\"collections__item collections__item_align_left js-slider__item\" data-logger=\"CollectionItem\"><div class=\"stack stack_bottom collections__stack\"><div class=\"collections__card\"><a class=\"collections__wrapper link-holder\" href=\"/society/49553119/\"><span class=\"photo photo_full photo_scale collections__picture\"><div class=\"photo__inner\"><span class=\"photo__pic m-lazy-item m-lazy-item_photo m-lazy-item_size_large collections__image\" data-lazy-block-src=\"https://retina.news.mail.ru/prev300x215/pic/8d/42/main49553119_8202f9d37122634b0cdb06a5a5793421.jpg\" data-lazy-block-type=\"background\" data-mp-el=\"LazyBody.block\"></span></div></span><span class=\"collections__title\">Тест: Угадайте, на каком языке мира так благодарят</span></a></div></div></div><div class=\"collections__item collections__item_align_left js-slider__item\" data-logger=\"CollectionItem\"><div class=\"stack stack_bottom collections__stack\"><div class=\"collections__card\"><a class=\"collections__wrapper link-holder\" href=\"/society/49370164/\"><span class=\"photo photo_full photo_scale collections__picture\"><div class=\"photo__inner\"><span class=\"photo__pic m-lazy-item m-lazy-item_photo m-lazy-item_size_large collections__image\" data-lazy-block-src=\"https://retina.news.mail.ru/prev300x215/pic/23/73/main49370164_008bb9272d8506decd1bc8c534c3aa73.jpg\" data-lazy-block-type=\"background\" data-mp-el=\"LazyBody.block\"></span></div></span><span class=\"collections__title\">Тест: Что происходит на этой фотографии?</span></a></div></div></div><div class=\"collections__item collections__item_align_left js-slider__item\" data-logger=\"CollectionItem\"><div class=\"stack stack_bottom collections__stack\"><div class=\"collections__card\"><a class=\"collections__wrapper link-holder\" href=\"/society/49351999/\"><span class=\"photo photo_full photo_scale collections__picture\"><div class=\"photo__inner\"><span class=\"photo__pic m-lazy-item m-lazy-item_photo m-lazy-item_size_large collections__image\" data-lazy-block-src=\"https://retina.news.mail.ru/prev300x215/pic/dc/1e/main49351999_3809fb31b57372bde7e50cce87996509.jpg\" data-lazy-block-type=\"background\" data-mp-el=\"LazyBody.block\"></span></div></span><span class=\"collections__title\">Тест: Помните ли вы, сколько?</span></a></div></div></div><div class=\"collections__item collections__item_align_left js-slider__item\" data-logger=\"CollectionItem\"><div class=\"stack stack_bottom collections__stack\"><div class=\"collections__card\"><a class=\"collections__wrapper link-holder\" href=\"/society/49233365/\"><span class=\"photo photo_full photo_scale collections__picture\"><div class=\"photo__inner\"><span class=\"photo__pic m-lazy-item m-lazy-item_photo m-lazy-item_size_large collections__image\" data-lazy-block-src=\"https://retina.news.mail.ru/prev300x215/pic/0d/23/main49233365_83f7e786e02839b81712802a6dd3e038.jpg\" data-lazy-block-type=\"background\" data-mp-el=\"LazyBody.block\"></span></div></span><span class=\"collections__title\">Тест: угадайте чай по описанию</span></a></div></div></div><div class=\"collections__item collections__item_align_left js-slider__item\" data-logger=\"CollectionItem\"><div class=\"stack stack_bottom collections__stack\"><div class=\"collections__card\"><a class=\"collections__wrapper link-holder\" href=\"/society/49167077/\"><span class=\"photo photo_full photo_scale collections__picture\"><div class=\"photo__inner\"><span class=\"photo__pic m-lazy-item m-lazy-item_photo m-lazy-item_size_large collections__image\" data-lazy-block-src=\"https://retina.news.mail.ru/prev300x215/pic/bc/05/main49167077_7666953533cec2fda11777174ca9af61.jpg\" data-lazy-block-type=\"background\" data-mp-el=\"LazyBody.block\"></span></div></span><span class=\"collections__title\">Тест: Насколько хорошо вы знаете творчество Николая Некрасова?</span></a></div></div></div><div class=\"collections__item collections__item_align_left js-slider__item\" data-logger=\"CollectionItem\"><div class=\"stack stack_bottom collections__stack\"><div class=\"collections__card\"><a class=\"collections__wrapper link-holder\" href=\"/society/49026641/\"><span class=\"photo photo_full photo_scale collections__picture\"><div class=\"photo__inner\"><span class=\"photo__pic m-lazy-item m-lazy-item_photo m-lazy-item_size_large collections__image\" data-lazy-block-src=\"https://retina.news.mail.ru/prev300x215/pic/fa/ad/main49026641_998a3b8c989fe1f69f9290f013fd068c.jpg\" data-lazy-block-type=\"background\" data-mp-el=\"LazyBody.block\"></span></div></span><span class=\"collections__title\">Тест: Помните ли вы столицы, которые все путают?</span></a></div></div></div><div class=\"collections__item collections__item_align_left js-slider__item\" data-logger=\"CollectionItem\"><div class=\"stack stack_bottom collections__stack\"><div class=\"collections__card\"><a class=\"collections__wrapper link-holder\" href=\"/society/48992386/\"><span class=\"photo photo_full photo_scale collections__picture\"><div class=\"photo__inner\"><span class=\"photo__pic m-lazy-item m-lazy-item_photo m-lazy-item_size_large collections__image\" data-lazy-block-src=\"https://retina.news.mail.ru/prev300x215/pic/03/93/main48992386_04455167d115697425ffd6b3e07ceac5.jpg\" data-lazy-block-type=\"background\" data-mp-el=\"LazyBody.block\"></span></div></span><span class=\"collections__title\">Тест: Сможете ли вы отличить правду о букве «ё» от выдумки</span></a></div></div></div><div class=\"collections__item collections__item_align_left js-slider__item\" data-logger=\"CollectionItem\"><div class=\"stack stack_bottom collections__stack\"><div class=\"collections__card\"><a class=\"collections__wrapper link-holder\" href=\"/society/48904992/\"><span class=\"photo photo_full photo_scale collections__picture\"><div class=\"photo__inner\"><span class=\"photo__pic m-lazy-item m-lazy-item_photo m-lazy-item_size_large collections__image\" data-lazy-block-src=\"https://retina.news.mail.ru/prev300x215/pic/49/16/main48904992_a446300861bd56deebb417d2ae167088.jpg\" data-lazy-block-type=\"background\" data-mp-el=\"LazyBody.block\"></span></div></span><span class=\"collections__title\">Угадайте художника: отличите авторов 10 знаменитых шедевров живописи (тест)</span></a></div></div></div></div></div></div></div></div></div></div> <!-- // ssi (Quiz Index) --> <script>(function () {\n",
       "\t\t\t\t\t(new Image()).src = '//rs.mail.ru/d2774813.gif?&r=' + Math.random();\n",
       "\t\t\t\t})();</script></div></div><div data-logger-parent=\"bottom\"><div class=\"js-module js-scroll-to-site__hidden\" data-counter-id=\"2677295\" data-counter-type=\"topmail\" data-module=\"TrackBlocks\"></div><div class=\"js-scroll-to-site__hidden\"><div class=\"js-lazy-init\" data-module=\"PromoPopup\"></div></div><div class=\"unprinted js-scroll-to-site__hidden\"><div class=\"js-module\" data-id=\"235296\" data-module=\"SlotModel\" data-sitezone=\"1\" data-view=\"SlotView.235296\"></div><!-- /rb/39773?_SITEZONE=1 (branding-footer) --><!-- //rb/39773?_SITEZONE=1 (branding-footer) --></div><textarea class=\"js-scroll-to-site__hidden\" data-lazy-block-type=\"cpfModules\" data-mp-el=\"LazyBody.block\" style=\"visibility: hidden\">&lt;div class=\" js-module\" data-module=\"SlotModel\" data-view=\"SlotView.345798\" data-id=\"345798\" data-brandsafety=\"0\"&gt;&lt;/div&gt;</textarea></div><div data-logger-parent=\"footer\"><div class=\"block block_separated_top block_separated_bottom js-scroll-to-site__hidden padding_bottom_10 padding_top_10\"><div class=\"wrapper\"><div class=\"tbl tbl_width_100p margin_top_5\" data-logger=\"socialWidgets\"><span class=\"cell cell_half valign_middle padding_bottom_10\"><span class=\"text\">Подпишитесь на нас</span><a class=\"icon icon_circle_border icon_circle_size_36 margin_left_10 color_black\" href=\"https://vk.com/novostinamaile\" target=\"_blank\"><span class=\"icon icon_svg\"><svg class=\"icon\" height=\"20\" width=\"20\"><use class=\"icon__use\" xlink:href=\"/-/4f28656b/bem/news/web/web.bundles/common/common.svg#icon_social_vk\"></use></svg></span></a><a class=\"icon icon_circle_border icon_circle_size_36 margin_left_10 color_black\" href=\"https://www.facebook.com/novostinamaile/\" target=\"_blank\"><span class=\"icon icon_svg\"><svg class=\"icon\" height=\"20\" width=\"20\"><use class=\"icon__use\" xlink:href=\"/-/4f28656b/bem/news/web/web.bundles/common/common.svg#icon_social_fb\"></use></svg></span></a><a class=\"icon icon_circle_border icon_circle_size_36 margin_left_10 color_black\" href=\"https://ok.ru/novostinamaile\" target=\"_blank\"><span class=\"icon icon_svg\"><svg class=\"icon\" height=\"20\" width=\"20\"><use class=\"icon__use\" xlink:href=\"/-/4f28656b/bem/news/web/web.bundles/common/common.svg#icon_social_ok\"></use></svg></span></a></span><span class=\"cell cell_half\"><div class=\"\" data-logger=\"subscribeWidgets\" data-no-auth-params='{\"title\":\"Подпишись на Новости Mail.ru\",\"header\":\"\"}' data-params='{\"title\":\"Подпишись на Новости Mail.ru\",\"header\":\"\"}' data-url=\"https://news.mail.ru/subscription/ajax-subscribe/?maillist_id=1&amp;project=news\" id=\"subscriptionFormDefaultId\"></div></span></div></div></div><div class=\"sticky sticky_full sticky_footer js-module js-scroll-to-site__hidden\" data-module=\"StickyPanel.Footer\"><div class=\"sticky__inner js-stickypanel__container\"><div class=\"footer js-module\" data-logger=\"Footer\" data-module=\"AsyncFormsCont\"><div class=\"footer__portal\"><a class=\"footer__link\" href=\"https://mail.ru/\">Mail.Ru</a><noindex><a class=\"footer__link\" href=\"//corp.mail.ru/\">О компании</a><a class=\"footer__link\" href=\"//nonstandard.sales.mail.ru/\" rel=\"noopener noreferrer\" target=\"_blank\">Реклама</a></noindex></div><noindex><div class=\"footer__project\"><div class=\"tooltip tooltip_arrow_bottom-center tooltip_width_large js-push-notifications__switch-tooltip\"><div class=\"tooltip__wrapper\"><a class=\"footer__link js-push-notifications__status js-push-notifications__button\" data-action=\"toggle\" data-push-off=\"Включить уведомления\" data-push-on=\"Выключить уведомления\" href=\"#\"> </a></div><div class=\"tooltip__box\"><div class=\"tooltip__inner\"><div class=\"tooltip__content\"><span class=\"icon icon_svg color_green\"><svg class=\"icon icon_fill_current\" height=\"18\" width=\"18\"><use class=\"icon__use\" xlink:href=\"/-/4f28656b/bem/news/web/web.bundles/common/common.svg#icon_status_done-big\"></use></svg></span><span class=\"text text_light_11 color_gray padding_horizontal_5 js-push-notifications__status\" data-push-off=\"Уведомления выключены\" data-push-on=\"Уведомления включены\"></span><a class=\"link link_dashed link_font_small js-push-notifications__button\" data-action=\"subscribe\" href=\"#\" name=\"clb22520317\"><span class=\"link__text\">Отменить</span></a></div></div></div></div><div class=\"tooltip tooltip_arrow_bottom-right tooltip_width_medium js-module\" data-module=\"AsyncRender.RSS,Dropdown.RSS\"><div class=\"tooltip__wrapper\"><a class=\"footer__link js-dropdown__button js-async-render__button\" href=\"#\">RSS</a></div><div class=\"tooltip__box\"><div class=\"tooltip__inner\"><div class=\"tooltip__content js-async-render__tooltip-content\"><div class=\"align_center\"><svg class=\"loader\" version=\"1.1\" viewbox=\"-10 -10 220 220\" xmlns=\"http://www.w3.org/2000/svg\"><defs><lineargradient gradientunits=\"objectBoundingBox\" id=\"transparent\" x1=\"0\" x2=\"0\" y1=\"0\" y2=\"1\"><stop offset=\"0%\" stop-color=\"rgba(119, 119, 119, 0)\" stop-opacity=\"0\"></stop><stop offset=\"100%\" stop-color=\"rgba(119, 119, 119, 0)\" stop-opacity=\"0\"></stop></lineargradient><lineargradient gradientunits=\"objectBoundingBox\" id=\"one\" x1=\"1\" x2=\"0\" y1=\"0\" y2=\"1\"><stop offset=\"0%\" stop-color=\"rgba(119, 119, 119, 0)\" stop-opacity=\"0\"></stop><stop offset=\"100%\" stop-color=\"rgba(119, 119, 119, .33)\"></stop></lineargradient><lineargradient gradientunits=\"objectBoundingBox\" id=\"two\" x1=\"1\" x2=\"0\" y1=\"1\" y2=\"0\"><stop offset=\"0%\" stop-color=\"rgba(119, 119, 119, .33)\"></stop><stop offset=\"100%\" stop-color=\"rgba(119, 119, 119, .66)\"></stop></lineargradient><lineargradient gradientunits=\"objectBoundingBox\" id=\"three\" x1=\"0\" x2=\"0\" y1=\"1\" y2=\"0\"><stop offset=\"0%\" stop-color=\"rgba(119, 119, 119, .66)\"></stop><stop offset=\"100%\" stop-color=\"rgba(119, 119, 119, 1)\"></stop></lineargradient><lineargradient gradientunits=\"objectBoundingBox\" id=\"four\" x1=\"0\" x2=\"1\" y1=\"1\" y2=\"0\"><stop offset=\"0%\" stop-color=\"rgba(119, 119, 119, 1)\"></stop><stop offset=\"100%\" stop-color=\"rgba(119, 119, 119, 1)\"></stop></lineargradient><lineargradient gradientunits=\"objectBoundingBox\" id=\"five\" x1=\"0\" x2=\"1\" y1=\"0\" y2=\"1\"><stop offset=\"0%\" stop-color=\"rgba(119, 119, 119, 1)\"></stop><stop offset=\"100%\" stop-color=\"rgba(119, 119, 119, 1)\"></stop></lineargradient></defs><g fill=\"none\" stroke-width=\"40\" transform=\"translate(100,100)\"><path d=\"M 81.6,-40 A 90,90 0 0,1 81.6,40\" stroke=\"url(#transparent)\"></path><path d=\"M 81.6,40 A 90,90 0 0,1 0,90\" stroke=\"url(#one)\"></path><path d=\"M 0,90 A 90,90 0 0,1 -81.6,40\" stroke=\"url(#two)\"></path><path d=\"M -81.6,40 A 90,90 0 0,1 -81.6,-40\" stroke=\"url(#three)\"></path><path d=\"M -81.6,-40 A 90,90 0 0,1 0,-90\" stroke=\"url(#four)\"></path><path d=\"M 0,-90 A 90,90 0 0,1 81.6,-40\" stroke=\"url(#five)\" stroke-linecap=\"round\"></path></g></svg></div></div></div></div></div><a class=\"footer__link\" href=\"/go-mobile/\">Мобильная</a><a class=\"footer__link\" href=\"/editors/\">О проекте</a><a class=\"footer__link\" href=\"https://help.mail.ru/legal/terms/news/policy\" target=\"_blank\">Использование материалов</a><a class=\"footer__link\" href=\"https://help.mail.ru/news_support\" target=\"_blank\">Обратная связь</a></div></noindex></div><div class=\"line\"></div></div><div data-logger=\"pulse\"><!-- /rb/674812?_SITEID=29&brandsafety=0 (Пульс) --><img alt=\"\" src=\"https://rs.mail.ru/d88932855.gif?rnd=589967707&amp;ts=1643812246\" style=\"width:0;height:0;position:absolute;visibility:hidden;\"/>\n",
       "<script async=\"\" src=\"https://static.pulse.mail.ru/cached/pulse-lenta.6f072617d3a3153121a7.js\"></script>\n",
       "<div class=\"js-module\" data-mp=\"LazyItem.PulseViewport25 as LazyPulse\">\n",
       "<textarea class=\"m-lazy-item m-lazy-item_embed\" data-lazy-block-type=\"embed\" data-mp-el=\"LazyPulse.block\">\n",
       "\t\t<img alt=\"\" src=\"https://rs.mail.ru/d88932855.gif?rnd=589967707&amp;ts=1643812246&amp;sz=1\" style=\"width:0;height:0;position:absolute;visibility:hidden;\"/>\n",
       "\t\t<div class=\"pulse\">\n",
       "\t\t\t<h2 class=\"pulse__title\">Пульс</h2>\n",
       "\t\t\t<div class=\"p-pulse__in\">\n",
       "\t\t\t<div class=\"pulse-lenta-root\"></div>\n",
       "\t\t\t</div>\n",
       "\t\t</div>\n",
       "\t\t<script>\n",
       "\t\t\t(function(window) {\n",
       "\t\t\t\tfunction callback () {\n",
       "\t\t\t\t\tvar currentPageUTM = (window.UTMApi || {}).currentPageUTM;\n",
       "\t\t\t\t\t(new Pulse.Lenta('mediaproject_lenta_news', null, { \n",
       "\t\t\t\t\t  lazy: 0, \n",
       "\t\t\t\t\t  maxColumns: 4, \n",
       "\t\t\t\t\t  partnerId: currentPageUTM,\n",
       "\t\t\t\t\t  \n",
       "\t\t\t\t\t  hasHeader: false, \n",
       "\t\t\t\t\t  showCardSkeletons: true\n",
       "\t\t\t\t\t})).render('.pulse-lenta-root');\n",
       "\t\t\t\t}\n",
       " \n",
       "\t\t\t\twindow.Pulse && callback() || (window.pulseAsyncInit = callback);\n",
       "\t\t\t})(this);\n",
       "\t\t</script>\n",
       "\t\t<style>\n",
       "\t\t.pulse {\n",
       "\t\tbackground-color: #1c1c1c;\n",
       "\t\toverflow: hidden;\n",
       "\t\t}\n",
       "\t\t.pulse__title {\n",
       "\t\tcolor: #fff;\n",
       "\t\tmargin: 20px 0;\n",
       "\t\ttext-align: center;\n",
       "\t\t}\n",
       "\t\t</style>\n",
       "\t</textarea>\n",
       "</div><!-- //rb/674812?_SITEID=29&brandsafety=0 (Пульс) --></div></div></div></div><div class=\"page__counters js-counters\"><!--noindex--><!-- /rb/1979 --><img alt=\"\" src=\"https://rs.mail.ru/d225331.gif?sz=1&amp;rnd=591374007&amp;ts=1643812246&amp;sz=1\" style=\"width:0;height:0;position:absolute;visibility:hidden;\"/><img alt=\"\" src=\"https://ad.mail.ru/i1583.gif\" style=\"width:0;height:0;position:absolute;visibility:hidden;\"/>\n",
       "<!-- mr_counter type=\"topmail\" domain=\"top-fwz1.mail.ru\" id=\"74867\" --><!-- /mr_counter -->\n",
       "<!-- mr_counter type=\"topmail\" domain=\"top-fwz1.mail.ru\" id=\"2642541\" --><!-- /mr_counter -->\n",
       "<!-- mr_counter type=\"topmail\" domain=\"top-fwz1.mail.ru\" id=\"2665000\" --><!-- /mr_counter -->\n",
       "<!-- mr_counter type=\"topmail\" domain=\"top-fwz1.mail.ru\" id=\"2670930\" --><!-- /mr_counter -->\n",
       "<!-- Rating@Mail.ru counter -->\n",
       "<script type=\"text/javascript\">\n",
       "var _tmr = _tmr || [];\n",
       "_tmr.push({id: \"74867\", type: \"pageView\", start: (new Date()).getTime()});\n",
       "_tmr.push({id: \"2642541\", type: \"pageView\", start: (new Date()).getTime()});\n",
       "_tmr.push({id: \"2665000\", type: \"pageView\", start: (new Date()).getTime()});\n",
       "_tmr.push({id: \"2670930\", type: \"pageView\", start: (new Date()).getTime()});\n",
       "(function (d, w) {\n",
       "var ts = d.createElement(\"script\"); ts.type = \"text/javascript\"; ts.async = true;\n",
       "ts.src = (d.location.protocol == \"https:\" ? \"https:\" : \"http:\") + \"//top-fwz1.mail.ru/js/code.js\";\n",
       "var f = function () {var s = d.getElementsByTagName(\"script\")[0]; s.parentNode.insertBefore(ts, s);};\n",
       "if (w.opera == \"[object Opera]\") { d.addEventListener(\"DOMContentLoaded\", f, false); } else { f(); }\n",
       "})(document, window);\n",
       "</script><noscript><div style=\"position:absolute;left:-10000px;\">\n",
       "<img alt=\"Рейтинг@Mail.ru\" height=\"1\" src=\"//top-fwz1.mail.ru/counter?id=74867;js=na;r=\" style=\"border:0;\" width=\"1\"/>\n",
       "<img alt=\"Рейтинг@Mail.ru\" height=\"1\" src=\"//top-fwz1.mail.ru/counter?id=2642541;js=na;r=\" style=\"border:0;\" width=\"1\"/>\n",
       "<img alt=\"Рейтинг@Mail.ru\" height=\"1\" src=\"//top-fwz1.mail.ru/counter?id=2665000;js=na;r=\" style=\"border:0;\" width=\"1\"/>\n",
       "<img alt=\"Рейтинг@Mail.ru\" height=\"1\" src=\"//top-fwz1.mail.ru/counter?id=2670930;js=na;r=\" style=\"border:0;\" width=\"1\"/>\n",
       "</div></noscript>\n",
       "<!-- //Rating@Mail.ru counter -->\n",
       "<!-- mr_counter type=\"liru\" domain=\"counter.yadro.ru\" personal=\"personal-news/desktop/news\" -->\n",
       "<!--LiveInternet counter--><script type=\"text/javascript\"><!--\n",
       "new Image().src = \"//counter.yadro.ru/hit;personal-news/desktop/news?r\"+\n",
       "escape(document.referrer)+((typeof(screen)==\"undefined\")?\"\":\n",
       "\";s\"+screen.width+\"*\"+screen.height+\"*\"+(screen.colorDepth?\n",
       "screen.colorDepth:screen.pixelDepth))+\";u\"+escape(document.URL)+\n",
       "\";\"+Math.random();//--></script><!--/LiveInternet-->\n",
       "<!-- /mr_counter -->\n",
       "<!-- mr_counter type=\"comscore\" id=\"9999305\" -->\n",
       "<script>\n",
       "try {\n",
       "(function(w,d,s) {\n",
       "    s = w.encodeURIComponent || escape;\n",
       "    new Image().src = \"http\" + ((d.URL.charAt(4) == \"s\") ? \"s://sb\" : \"://b\") + \".scorecardresearch.com/b?c1=2&c2=9999305&ns__t=\" + +(new Date) + \"&ns_c=\" + (d.characterSet || d.defaultCharset || \"\") + \"&c7=\" + s(d.URL) + \"&c9=\" + s(d.referrer);\n",
       "})(window,document);\n",
       "} catch(e) {}\n",
       "</script>\n",
       "<!-- /mr_counter -->\n",
       "<!-- Relap -->\n",
       "<iframe class=\"relap-runtime-iframe\" srcdoc=\"&lt;script src='https://relap.io/v7/relap.js' data-relap-token='tc21MrYyaO8SLPP2'&gt;&lt;/script&gt;\" style=\"position:absolute;top:-9999px;left:-9999px;visibility:hidden;\"></iframe>\n",
       "<!-- //Relap -->\n",
       "<style>\n",
       ".screen_small .pm-toolbar__button[name=\"clbundefined\"]{\n",
       "  display: none;\n",
       "}</style>\n",
       "<script>\n",
       "window.tmrVideoCounter = '3145548';\n",
       "!function(e,t){\"use strict\";var r=e.setTimeout,n=e.clearTimeout,o=e.location.hostname,a=e.location.href,i=/devmail\\.ru$/.test(o),u=[];if(t){var c,s,d={started:\"play\",on10sec:\"10sec\",on15sec:\"15sec\",on30sec:\"30sec\",ended:\"ended\",error:\"error\",error_code:\"error_apply\",error_view:\"error_view\"},l=[{handler:function(t){var r={inited:\"inited\",started:\"started\",resumed:\"started\",paused:\"paused\",ended:\"ended\",error:\"error\"},n=\"iframe_\",o=[];function a(e,a){var i,u=(i=a.origin,Object.keys(t).reduce((e,r)=>{if(!e){var n=t[r];n.regex.test(i)&&(e=n)}return e},null)),c=u&&u.getEventType?u.getEventType(a):(a.data||{}).event,s=r[c];if(s&&u)try{var l=function(e){var t=o.indexOf(e);-1===t&&(o.push(e),t=o.length-1);return n+t}(a.source);l&&e.eventHandler(s,l,u.type,a.source)}catch(e){var f=[d.error_code,c].join(\":\");p.reachGoal(f,u.type)}}i=new y,u=a.bind(null,i),e.addEventListener(\"message\",u);var i,u},embeds:[{type:\"ok\",lazyType:\"ok_video\",regex:/(https:)?\\/\\/(([\\da-z.-]+)\\.)?ok\\.ru/},{type:\"newstube\",lazyType:\"newstube\",regex:/(https:)?\\/\\/(([\\da-z.-]+)\\.)?newstube\\.ru/},{type:\"smotri\",lazyType:\"smotri\",regex:/(https:)?\\/\\/player-smotri.mail.ru/,getEventType:(c={initialized:\"inited\",start:\"started\",pause:\"pause\",ended:\"ended\"},function(e){if(\"sendVideoPlayStateToSite\"===e.data.type)return c[e.data.options.playState]})}]},{handler:function(t){var r={\"Player:started\":\"started\",\"Player:played\":\"started\",\"Player:replayed\":\"started\",\"Player:paused\":\"paused\",\"Player:ended\":\"ended\"};n=function(){if(!e.VIQEO||\"function\"!=typeof e.VIQEO.subscribeTracking)return;var n=new y,o=Object.keys(r);n.handlers.inited(null,\"viqeo\"),o.forEach(function(o){var a=function(e,n){var o=n.eventName,a=r[o],i=t[0];if(!a)return;try{var u=n.player.iframe.container,c=[n.slotId,n.videoId].join(\"_\");e.eventHandler(a,c,i.type,u)}catch(e){p.reachGoal(d.error_code,i.type)}}.bind(null,n);e.VIQEO.subscribeTracking(a,o)})},\"function\"==typeof n&&(e.VIQEO?n():(e.onViqeoLoad=e.onViqeoLoad||[],e.onViqeoLoad.push(n)));var n},embeds:[{type:\"viqeo\",lazyType:\"viqeo\"}]}],f=function(e,t){var r,n={};for(r in e)Object.prototype.hasOwnProperty.call(e,r)&&(n[r]=e[r]);for(r in t)Object.prototype.hasOwnProperty.call(t,r)&&(n[r]=t[r]);return n},p=function(){var r,n=\"videoCounter\",u=(r=o.indexOf(\".mail.ru\")?3:2,o.split(\".\").slice(-r).join(\".\"));function c(t){i?e.console.debug(n,t):e._tmr.push(t)}return e._tmr=e._tmr||[],{pageView:function(e){var r=a;e.length&&(r+=(-1===a.indexOf(\"?\")?\"?\":\"&\")+e.join(\"&\")),c({id:t,type:\"pageView\",url:r})},reachGoal:function(e,r){c({id:t,type:\"reachGoal\",goal:[e,u,r].join(\":\")})}}}();l.forEach(function(e){e.handler(e.embeds)}),s=document.querySelectorAll(\"iframe\"),l.forEach(function(e){e.embeds.forEach(function(e){var t=document.querySelectorAll('textarea[data-lazy-block-type=\"embed\"]');e.regex&&t.length?t.forEach(function(t){t.value&&e.regex.test(t.value)&&u.push(e.type)}):e.regex&&s.length?s.forEach(function(t){t.src&&e.regex.test(t.src)&&u.push(e.type)}):document.querySelectorAll(\".article__item_source_\"+e.lazyType).length&&u.push(e.type)})}),u.length&&p.pageView(u)}function y(){var e={items:{},itemDefault:{content:null,type:null,timeout10sec:null,timeout15sec:null,timeout30sec:null,started:!1,ended:!1,on10sec:!1,on15sec:!1,on30sec:!1,error:!1},set:o,get:a,add:function(t,r,n){o(t,f(e.itemDefault,{content:n,type:r}))}},t=[];function o(t,r){var n=a(t)||{};t&&(e.items[t]=f(n,r))}function a(t){return t&&e.items[t]}function i(t,r,n){var o=e.get(t),a=r&&d[r],i={};n||(s(t,\"timeout10sec\"),s(t,\"timeout15sec\"),s(t,\"timeout30sec\")),a&&!o[r]&&(i[r]=!0,e.set(t,i),p.reachGoal(a,o.type))}function c(t,n,o,a){var u=e.get(t);if(!u[o]&&!u[n]){var c=i.bind(null,t,o,!0),s={};s[n]=r(c,a),e.set(t,s)}}function s(t,r){if(e.get(t)[r]){n(e.items[t][r]);var o={};o[r]=null,e.set(t,o)}}return{eventHandler:function(e,t,r,n){if(e&&t&&r&&n){var o=this._state,a=function(e){var t=this.handlers[e];return\"function\"!=typeof t?null:t}.call(this,e);o.get(t)||o.add(t,r,n),a&&a(t)}},handlers:{inited:function(r,n){var o=e.get(r);!n&&o&&(n=o.type),n&&-1===u.indexOf(n)&&-1===t.indexOf(n)&&(t.push(n),p.reachGoal(d.error_view,n))},started:function(e){i(e,\"started\",!0),c(e,\"timeout10sec\",\"on10sec\",1e4),c(e,\"timeout15sec\",\"on15sec\",15e3),c(e,\"timeout30sec\",\"on30sec\",3e4)},ended:function(e){i(e,\"ended\")},paused:function(e){i(e)},error:function(e){i(e,\"error\")}},_state:e}}}(window,window.tmrVideoCounter);\n",
       "</script><!-- //rb/1979 --><!-- /rb/166532 --><!-- //rb/166532 --><noscript><img alt=\"\" src=\"//rs.mail.ru/d3671263.gif\" style=\"width:0;height:0;position:absolute;\"/></noscript><!--/noindex--></div><!-- /rb/833869?_SITEID=29 --><script>\n",
       "(function(w, d) {\n",
       "/* Session storage utils */\n",
       "var USER_IDS_KEY = 'rb_sync_id';\n",
       "\n",
       "function getSObject(key) {\n",
       "\tvar obj = {};\n",
       "\n",
       "\ttry {\n",
       "\t\tvar value = window.sessionStorage.getItem(key);\n",
       "\t\tif (value) {\n",
       "\t\t\tobj = JSON.parse(value);\n",
       "\t\t}\n",
       "\t} catch(e) {}\n",
       "\n",
       "\treturn obj;\n",
       "}\n",
       "\n",
       "function setSObject(key, value) {\n",
       "\ttry {\n",
       "\t\twindow.sessionStorage.setItem(key, JSON.stringify(value));\n",
       "\t} catch(e) {}\n",
       "}\n",
       "\n",
       "function saveUserId(key, value) {\n",
       "\tvar ids = getSObject(USER_IDS_KEY) || {};\n",
       "\tids[key] = value;\n",
       "\tsetSObject(USER_IDS_KEY, ids);\n",
       "}\n",
       "\n",
       "function removeUserId(key) {\n",
       "\tvar ids = getSObject(USER_IDS_KEY) || {};\n",
       "\tdelete ids[key];\n",
       "\tsetSObject(USER_IDS_KEY, ids);\n",
       "}\n",
       "\n",
       "/* PAL SDK */\n",
       "var nonceLoader;\n",
       "var managerPromise;\n",
       "\n",
       "function init() {\n",
       "  if (window.goog) {\n",
       "\t\tnonceLoader = new goog.pal.NonceLoader();\n",
       "\t\tgenerateNonce();\n",
       "  }\n",
       "}\n",
       "\n",
       "function generateNonce() {\n",
       "  var request = new goog.pal.NonceRequest();\n",
       "  request.adWillAutoPlay = true;\n",
       "  request.adWillPlayMuted = true;\n",
       "  request.continuousPlayback = false;\n",
       "  request.descriptionUrl = '';\n",
       "  request.iconsSupported = true;\n",
       "  //request.playerType = 'admanHTML';\n",
       "  //request.playerVersion = '2.1.56';\n",
       "  request.ppid = '';\n",
       "  //request.videoHeight = 480;\n",
       "  //request.videoWidth = 640;\n",
       "\n",
       "  managerPromise = nonceLoader.loadNonceManager(request);\n",
       "  managerPromise\n",
       "      .then(function(manager) {\n",
       "        saveUserId('paln', manager.getNonce());\n",
       "      })\n",
       "      .catch(function(error) {\n",
       "        console.log('Error generating nonce: ' + error);\n",
       "        removeUserId('paln');\n",
       "      });\n",
       "}\n",
       "\n",
       "var t = d.getElementsByTagName(\"script\")[0];\n",
       "var s = d.createElement(\"script\");\n",
       "\n",
       "s.type = \"text/javascript\";\n",
       "s.src = \"//imasdk.googleapis.com/pal/sdkloader/pal.js\";\n",
       "s.async = true;\n",
       "s.onload = function() {\n",
       "  s.onload = function() {};\n",
       "  init();\n",
       "}\n",
       "t.parentNode.insertBefore(s, t);\n",
       "})(window, document);\n",
       "</script>\n",
       "<!-- //rb/833869?_SITEID=29 --><div class=\"js-module\" data-brandsafety=\"0\" data-id=\"759077\" data-module=\"SlotModel\" data-view=\"SlotView.759077\"></div><!-- /rb/21522?_SITEID=29 -->\n",
       "<!-- //rb/21522?_SITEID=29 --><!-- /rb/21523?_SITEID=29 (активация) --><script>!function(e){\"use strict\";if(e.addEventListener){var r=e.document,t=e.location;e.componentSlotParams=e.componentSlotParams||[],e.__slotParams=e.__slotParams||[];var n,o=[\"page\",\"count\"],a=String.fromCharCode,i=[101,4,2,4,0,-12],s=[101,4,2,4,0,-44,41,-11,19,-2,-3,1],p=function(){var r={};return function(t,n,o,a){var p=e.__PH&&e.__PH[l(i)]||e[l(s)],c={path:\"/\"},m=function(e,r){var t=\"\";return r&&r.page_id&&(t=[e,r.page_id].join(\"-\"),r.stat_id&&(t=[t,r.stat_id].join(\"-\"))),t}(n,o);if(!m)throw new Error(\"No params presented\");!0===a?(c.expires=-1,t=r[m]):(c.expires=1/1440*5,r[m]=t),p(t,m,c)}}(),c=function(){var e={};return function r(t,n){var o=n.length,i=n.split(\"\").map(function(e){return e.charCodeAt(0)}).concat(Date.now().toString().split(\"\").map(function(e){return e=(e=parseInt(e))*parseInt(9*Math.random())+45,[[0,42],[45,47],[58,64],[91,94],[96]].forEach(function(r){var t=r[0],n=r[1]||r[0];e>=t&&e<=n&&(e+=n-t+1)}),Math.min(e,122)})).sort(function(){return.3-Math.random()}).slice(0,o||-1).map(function(e){return a(e)}).join(\"\");return function(r,t,n){var o,a=e[r];return a||(e[r]=a=[n]),!0==(o=-1===a.indexOf(t))&&a.push(t),o}(t,i,n)||(i=r(t,n)),i}}(),m=[{name:\"SlotModel\",params:{options:{hpConfig:{baits:\".p-mimic|.daynews table tr td|.js-fixed-panel .box_collapse|.daynews__inner tbody tr td.daynews__spring|.advblock|#ad-sputnik|#internet-offer|.b-ad_text|.b-context|.b-direct-item|.b-head__banner|.ban|.banner|.branding-footer|.daynews__banner|.daynews__spring|.direct|.goods|.js-pbanner_cntr|.layout__promotoolbar|.left_banner|.p-mimic|.pc-branding|.adv|.advblock|.advertblock|.ammblock|.b-banner|.b-media-banner|.banner_box|.directadvert-block|.branding-p|.abcdefghijklmnopqrstuvwxyz- .r-source i i|.rb|.rb_banner|.rb-floating|.rb_loaded|.rbtopblock|.box.rb_pwnd|.p-box.rb_pwnd|.directhack|div@data-adq-id=\\\"pwnd\\\"|div@data-view=\\\"SlotView.mimic\\\"|div.trg-b-pwnd|.abcdefghijklmnopqrstuvwxyz- div@id=\\\"trg-b-123-456\\\" i i|.abcdefghijklmnopqrstuvwxyz- div@id=\\\"yandex_ad_R-123-456\\\" i i|a@href=\\\"https://r.mail.ru/\\\"\",selectors:'img[src*=\"ad.mail.ru\"]'}}}},{name:\"SlotView\",params:{options:{xray:{verbose:!0,xrayRadarUrl:\"\",defaultParams:{p:\"news\",email:\"\"}},dwhLogger:{product:\"news\",platform:\"3\"},sitename:{product:\"news\",platform:\"3\"}}}},{name:\"SlotView.mimic\",params:{options:{mimic:{setup:{force:!0,broker:{timeout:3e4,getUrl:function(e,a,i){n||(n=Array.from(r.scripts).map(function(e){return e.src}).filter(function(e){return 0===e.indexOf(t.origin)&&(e.indexOf(\"/_/\")===t.origin.length||e.indexOf(\"/-/\")===t.origin.length)}),DEBUG&&(n=[\"/-/047c38ff/js/cmpld/web/_report.js\"])),\"meta\"===i&&delete a.stat_id;var s=n[Math.floor(Math.random()*n.length)].replace(t.origin,\"\"),m=s.split(/\\/|\\.js/gi),l=m.splice(-1);return m[2]=c(s,m[2]),m=m.join(\"/\")+\".js\",p(m,e,a),m+=l,e===o[1]&&(m+=(m.indexOf(\"?\")>-1?\"&\":\"?\")+\"key=\"+a.key),m},handleResponse:function(e){e&&\"object\"==typeof e&&p(null,e.method,e.params,!0)},type:\"jsonp\"}},smoky:{propertiesToSmoke:JSON.parse(\"{\\\"width\\\": \\\"240px\\\",\\\"height\\\": \\\"400px\\\",\\\"minHeight\\\": \\\"400px\\\"}\"),replaceElements:JSON.parse(\"[\\\"daynews__spring\\\",\\\"spring_side\\\",\\\"cols__column_news240x400-side\\\",\\\"cols__column_news240x400\\\",\\\"p-directhack_240x400\\\",\\\"viewbox__side\\\"]\"),randomNoise:{depth:\"3\",excludeClasses:JSON.parse(\"[\\\"viewbox__cell\\\",\\\"p-spring\\\",\\\"p-spring__head-inner\\\"]\"),excludeTags:JSON.parse(\"[]\")}}}}}}];e.componentSlotParams=e.componentSlotParams.concat(m),e.__slotParams=e.__slotParams.concat(m)}function l(e){return e.map(function(r,t){var n=0;return t>0&&(n=e.slice(0,t).reduce(function(e,r){return e+r},0)),a(r+n)}).reverse().join(\"\")}}(window);</script><script>!function(n){\"use strict\";var t=n.document,e=n.setTimeout,o=n.componentSlotParams||[],r=\"rb-slot_adb\",a=\"102\",i=300,s=String.fromCharCode,c=[101,4,2,4,0,-12],u=[101,4,2,4,0,-44,41,-11,19,-2,-3,1];function l(n){return n.map(function(t,e){var o=0;return e>0&&(o=n.slice(0,e).reduce(function(n,t){return n+t},0)),s(t+o)}).reverse().join(\"\")}function p(t,e,o){var r=n.__PH&&n.__PH[l(c)]||n[l(u)];if(\"function\"==typeof r){var a={path:\"/\",domain:\".mail.ru\"};a.expires=!0===o?-1:1,r(t,e,a)}}var f=JSON.parse(\"[\\\"SlotView.mimic.721\\\",\\\"SlotView.39772\\\",\\\"SlotView.mimic.815\\\",\\\"SlotView.815\\\",\\\"SlotView.mimic.97045\\\",\\\"SlotView.mimic.3848\\\",\\\"SlotView.345798\\\"]\"),m=JSON.parse(\"[\\\"[data-view='SlotView'][data-id='3848']\\\"]\");function d(t){var e,o=function(){return!!(e=function(t){var e=t.getBoundingClientRect();return t.offsetHeight>2&&e.top>=0&&e.left>=0&&e.top<=n.innerHeight&&e.left<=n.innerWidth}(t))&&(t.classList.add(r),!0)};t&&(o(),e||_(o,i))}function _(n,t){if(\"function\"==typeof n&&!n())return e(_.bind(this,n),t)}function h(n){var t=this._elems.parent.get(0);n&&d(t)}function v(n){return n&&{name:n,params:{options:{_Handlers:{render:h}}}}}function S(){if(n.abp&&n.__knownBlocker){if(p(\"rewlon\",1),n.componentSlotParams.forEach(n=>{n.params&&n.params.options&&(n.params.options.mimic=null)}),f.length){var e={name:\"SlotView\",params:{options:{slot:{exp_id:a,d:1,reprieve_on:1}}}},r=f.map(v);o.push(e),n.componentSlotParams=o.concat(r),n.__slotParams=[].concat(n.componentSlotParams)}m.length&&t.addEventListener(\"DOMContentLoaded\",function(){var n,e;n=m.join(\",\"),(e=t.querySelectorAll(n)).length&&e.forEach(d)})}else p(\"rewlon\",0,!0)}function g(){return!(!n.hasOwnProperty(\"abp\")||!n.hasOwnProperty(\"__knownBlocker\")||\"loading\"!==t.readyState)&&(S(),!0)}g()||_(g,50)}(window);</script><style>.rb-slot_adb[data-id=\"345798\"] .wrapper,.rb-slot_adb {position: relative;}.rb-slot_adb[data-id=\"345798\"] .wrapper::before,.rb-slot_adb::before {content: 'Реклама';z-index: 1399;position: absolute;background: #000;padding: 0px 6px;opacity: 0.5;color: #fff;font-size: 9px;line-height: 14px;right: 1px;top: 1px;}.rb-slot_adb[data-id=\"345798\"]::before {display: none;}.rb-slot_adb[data-id=\"345798\"] .wrapper::before {right: 20px;}</style><script>(function (window) {'use strict';window.componentSlotParams = window.componentSlotParams || [];window.__slotParams = window.__slotParams || [];var searchPartnerId = window.location.search.match(/utm_partner_id=(\\d+)/);var searchExpId = window.location.search.match(/exp_id=(\\d+)/);var resultExpId = null;if (searchPartnerId !== null && !isNaN(searchPartnerId[1])) {resultExpId = searchPartnerId[1];window.pulseLoadExperimentId = null;} else if (searchExpId !== null && !isNaN(searchExpId[1])) {resultExpId = searchExpId[1];/* TODO: DELL MI !!! */window.pulseLoadExperimentId = null;} else if (!isNaN(window.pulseLoadExperimentId)) {resultExpId = window.pulseLoadExperimentId;}if (resultExpId !== null) {var expParams = {name: 'SlotView',params: {options: {slot: {exp_id: resultExpId}}}};window.componentSlotParams.push(expParams);window.__slotParams.push(expParams);}})(window);</script><script>(function (window) {'use strict';/* TODO: DELL MI !!! */window.componentSlotParams = window.componentSlotParams || [];var searchExpId = window.location.search.match(/exp_id=(\\d+)/);var searchCRId = window.location.search.match(/cr=(\\d+)/);var resultCRId = null;if (!(searchExpId !== null && !isNaN(searchExpId[1])) &&(searchCRId !== null && !isNaN(searchCRId[1]))) {resultCRId = searchCRId[1];window.pulseLoadExperimentId = null;}if (resultCRId !== null) {window.componentSlotParams.push({name: 'SlotView',params: {options: {slot: {exp_id: resultCRId}}}});}})(window);</script><script>(function (window) {'use strict';window.componentSlotParams.push({name: 'SlotView.Contentroll',params: {options: {contentPromise: function () {return Promise.reject();}}}});})(window);</script><script>(function (window) {'use strict';window.componentSlotParams = window.componentSlotParams || [];if (!isNaN(window.PH_VkEcosystemPromo)) {window.componentSlotParams.push({name: 'SlotView',params: {options: {slot: {PH_VkEcosystemPromo: window.PH_VkEcosystemPromo}}}});}})(window);</script><!-- //rb/21523?_SITEID=29 (активация) --><!-- /rb/946848?_SITEID=29 -->\n",
       "<script>\n",
       "(function (window) {\n",
       "\t'use strict';\n",
       "\n",
       "\tvar UTM_PARAM = 'utm_partner_id';\n",
       "\tvar REGEX_UTM_PARTNER_CHECK = /utm_partner_id=([^\\s&]+)/;\n",
       "\tvar REGEX_EXP_ID_CHECK = /exp_id=([^\\s&]+)/;\n",
       "\tvar REGEX_CR_CHECK = /cr=([^\\s&]+)/;\n",
       "\n",
       "\t/*\n",
       "\t*  *.devmail.ru + *.mail.ru + sportmail.ru (кроме r.mail.ru t.mail.ru e.mail.ru) \n",
       "\t*/\n",
       "\tvar REGEX_REPLACIBLE_DOMAINS = /(^\\/)|(https?):\\/\\/(?!([rte]\\.mail\\.ru))([\\w-.]+)?(\\.devmail\\.ru|\\.mail\\.ru|sportmail\\.ru)/;\n",
       "\n",
       "\tvar state = {\n",
       "\t\tcurrentPageUTM: null,\n",
       "\t\tcurrentPageExpId: null,\n",
       "\t\tcheckedLinks: []\n",
       "\t};\n",
       "\n",
       "\t/**\n",
       "\t * Получаем текущее значение эксперимента\n",
       "\t * @param utmParam {string} \n",
       "\t * @returns {string|null} \n",
       "\t */\n",
       "\tvar getLinkUTM = function (utmParam) {\n",
       "\t\tvar url = window.location.search;\n",
       "\t\tvar matches = url.match(utmParam);\n",
       "\t\treturn matches && matches[1] || null;\n",
       "\t};\n",
       "\n",
       "\t/**\n",
       "\t * проверяем нужно ли заменять ссылки для урла\n",
       "\t * @param url {string} \n",
       "\t * @returns {boolean} \n",
       "\t */\n",
       "\tvar checkDomain = function (url) {\n",
       "\t\treturn REGEX_REPLACIBLE_DOMAINS.test(url);\n",
       "\t};\n",
       "\n",
       "\t/**\n",
       "\t * возвращает полный урл ссылки\n",
       "\t * @param url {string} \n",
       "\t * @returns {string} \n",
       "\t */\n",
       "\tvar getLinkValue = function (url) {\n",
       "\t\tif (url.indexOf('http') !== 0) {\n",
       "\t\t\tvar anchor = document.createElement('a');\n",
       "\t\t\tanchor.href = url;\n",
       "\n",
       "\t\t\treturn anchor.href;\n",
       "\t\t}\n",
       "\t\treturn url;\n",
       "\t};\n",
       "\n",
       "\t/**\n",
       "\t * Добавляем в ссылки параметр эксперимента\n",
       "\t * глобальный эксперимент в приоритете над собственным\n",
       "\t * @param url {string} \n",
       "\t * @returns {string} \n",
       "\t */\n",
       "\tvar linkStringReplacer = function (url) {\n",
       "\t\tvar linkUrl = new URL(getLinkValue(url));\n",
       "\t\tlinkUrl.searchParams.set(UTM_PARAM, state.currentPageUTM);\n",
       "\n",
       "\t\treturn linkUrl.href;\n",
       "\t};\n",
       "\n",
       "\t/**\n",
       "\t* внешний метод замены урлов с проверкой\n",
       "\t * @param url {string} \n",
       "\t * @returns {string} \n",
       "\t */\n",
       "\tvar urlReplacer = function (url) {\n",
       "\t\treturn (\n",
       "\t\t\tstate.currentPageUTM &&\n",
       "\t\t\turl && \n",
       "\t\t\tcheckDomain(url)\n",
       "\t\t) ? linkStringReplacer(url) : url;\n",
       "\t};\n",
       "\n",
       "\t/**\n",
       "\t* обновляем href ссылок\n",
       "\t * @param link {HTMLAnchorElement} \n",
       "\t * @returns {string} \n",
       "\t */\n",
       "\tvar updateLinkElement = function (link) {\n",
       "\t\tvar linkHref = link && link.href;\n",
       "\n",
       "\t\tif(linkHref && checkDomain(linkHref)) {\n",
       "\t\t\tlink.href = linkStringReplacer(linkHref);\n",
       "\t\t}\n",
       "\t};\n",
       "\n",
       "\t/**\n",
       "\t * заменяем единожды ссылки \n",
       "\t * сохраняя уже замененные\n",
       "\t * @param link {HTMLAnchorElement}  \n",
       "\t */\n",
       "\tvar linkElementReplacer = function (link) {\n",
       "\t\tif (state.checkedLinks.indexOf(link) === -1) {\n",
       "\t\t\tupdateLinkElement(link);\n",
       "\t\t\tstate.checkedLinks.push(link);\n",
       "\t\t}\n",
       "\t};\n",
       "\n",
       "\t/**\n",
       "\t * замена ссылок материал-галерей \n",
       "\t * @param parent {HTMLElement}  \n",
       "\t * @param key {string}  \n",
       "\t */\n",
       "\tvar replaceDataLinks = function (parent, key) {\n",
       "\t\tvar parentObject = (typeof parent === 'object') ? parent : window.document;\n",
       "\t\tvar hrefKey = key || 'data-href';\n",
       "\t\tvar pageDataLinks = parentObject.querySelectorAll('[' + hrefKey + ']');\n",
       "\n",
       "\t\tArray.from(pageDataLinks).forEach(function (item) {\n",
       "\t\t\tvar hrefValue = item.getAttribute(hrefKey);\n",
       "\t\t\tif (checkDomain(hrefValue)) {\n",
       "\t\t\t\titem.setAttribute(hrefKey, linkStringReplacer(hrefValue));\n",
       "\t\t\t}\n",
       "\t\t});\n",
       "\t};\n",
       "\n",
       "\t/**\n",
       "\t * замена всех ссылок в блоке\n",
       "\t * @param parent {HTMLElement}\n",
       "\t */\n",
       "\tvar replaceAllLinks = function (parent) {\n",
       "\t\tvar parentObject = (typeof parent === 'object') ? parent : window.document;\n",
       "\t\tvar pageLinks = parentObject.getElementsByTagName('a');\n",
       "\n",
       "\t\tArray.from(pageLinks).forEach(function (item) {\n",
       "\t\t\tlinkElementReplacer(item);\n",
       "\t\t});\n",
       "\t};\n",
       "\n",
       "\t/**\n",
       "\t\t* Проверяем при клике все ли норм с подменой параметров\n",
       "\t\t* если нет - чиним и шлем error в консоль (и sentry)\n",
       "\t * @param event {MouseEvent}\n",
       "\t */\n",
       "\tvar clickHandler = function (event) {\n",
       "\t\tvar element = event.target;\n",
       "\t\tif (\n",
       "\t\t\telement.tagName === 'A' &&\n",
       "\t\t\tcheckDomain(element.href)\n",
       "\t\t) {\n",
       "\t\t\tvar modefiedLink = linkStringReplacer(element.href);\n",
       "\n",
       "\t\t\tif (modefiedLink !== element.href) {\n",
       "\t\t\t\telement.href = modefiedLink;\n",
       "\t\t\t\tthrow new Error('UTM_PARTNER: Link is out of sync');\n",
       "\t\t\t}\n",
       "\t\t}\n",
       "\t};\n",
       "\n",
       "\t/*\n",
       "\t* * * * * * * * * * * * * * * * * * * * * * * * * * * * *\n",
       "\t* Проверяем наличе эксперимента по utm_partner_id\n",
       "\t* Внешний эксп приориттнее внутреннего\n",
       "\t* * * * * * * * * * * * * * * * * * * * * * * * * * * * *\n",
       "\t*/\n",
       "\tstate.currentPageUTM = getLinkUTM(REGEX_UTM_PARTNER_CHECK) || state.currentPageUTM;\n",
       "\tstate.currentPageExpId = getLinkUTM(REGEX_EXP_ID_CHECK) || getLinkUTM(REGEX_CR_CHECK) || state.currentPageExpId;\n",
       "\n",
       "\tif (state.currentPageUTM) {\n",
       "\t\t/*\n",
       "\t\t* вешаем обработчик кликов\n",
       "\t\t* вешаем обработчик кликов на прав конпку\n",
       "\t\t* вешаем обработчик кликов на колесико\n",
       "\t\t*/\n",
       "\t\twindow.addEventListener('click', clickHandler);\n",
       "\t\twindow.addEventListener('contextmenu', clickHandler);\n",
       "\t\twindow.addEventListener('mousedown', function (event) {\n",
       "\t\t\tif (event.which === 2) {\n",
       "\t\t\t\tclickHandler(event);\n",
       "\t\t\t}\n",
       "\t});\n",
       "\n",
       "\t\t/*\n",
       "\t\t* по dom ready\n",
       "\t\t* + замена ссылок на странице \n",
       "\t\t* + замена ссылок материал-галерей (data-href)\n",
       "\t\t*/\n",
       "\t\twindow.promisifiedDomEvents.ready\n",
       "\t\t.then(replaceAllLinks)\n",
       "\t\t.then(replaceDataLinks);\n",
       "\n",
       "\t\t/*\n",
       "\t\t* доп обработчики по dom load\n",
       "\t\t* тут считаем что cpf-модули уже загружены\n",
       "\t\t*/\n",
       "\t\twindow.promisifiedDomEvents.loaded.then(function () {\n",
       "\t\t\ttry {\n",
       "\t\t\t\t/*\n",
       "\t\t\t\t* слоты: после загрузки adp-слотов обновляем ссылки\n",
       "\t\t\t\t*/\n",
       "\t\t\t\tvar pubsub = window.ru.mail.cpf.Tools.PubSub;\n",
       "\t\t\t\tpubsub.subscribe('adqSlotAdded', function () {\n",
       "\t\t\t\t\treplaceAllLinks();\n",
       "\t\t\t\t}, {memory: true});\n",
       "\n",
       "\t\t\t} catch (error) {\n",
       "\t\t\t\tthrow new Error('UTM_PARTNER: load');\n",
       "\t\t\t}\n",
       "\t\t});\n",
       "\t}\n",
       "\n",
       "\t/*\n",
       "\t* * * * * * * * * * * * * * * * * * * * * * * * * * * * *\n",
       "\t* Экспорт глобальных переменных\n",
       "\t* * * * * * * * * * * * * * * * * * * * * * * * * * * * *\n",
       "\t*/\n",
       "\twindow.UTMApi = {\n",
       "\t\treplaceAllLinks: replaceAllLinks,\n",
       "\t\tlinkReplacer: linkElementReplacer,\n",
       "\t\treplaceDataLinks: replaceDataLinks,\n",
       "\t\turlReplacer: urlReplacer,\n",
       "\t\tcheckDomain: checkDomain,\n",
       "\t\tcurrentPageUTM: state.currentPageUTM,\n",
       "\t\tcurrentPageExpId: state.currentPageExpId\n",
       "\t};\n",
       "\n",
       "})(window);\n",
       "</script>\n",
       "<script>\n",
       "/*\n",
       "* * * * * * * * * * * * * * * * * * * * * * * * * * \n",
       "*\tПлагиен по заданию сайтнейма\n",
       "* * * * * * * * * * * * * * * * * * * * * * * * * * \n",
       "*/\n",
       "(function (window, UTMApi) {\n",
       "\t'use strict';\n",
       "\n",
       "\tvar PROJECT =                 'news'; \n",
       "\tvar PLATFORM =                '3' || '3'; /* дефолт - десктоп */\n",
       "\tvar ENTITY_TYPE =             '' || 'other';\n",
       "\tvar ENTITY_CONTENT_SUBTYPE =  '' || 'other';\n",
       "\n",
       "\tvar isAbpWhiteList = window.abp && window.__knownBlocker;\n",
       "\n",
       "\t/* формирование в слоте 978831 https://confluence.vk.team/pages/viewpage.action?pageId=746384408 */\n",
       "\tvar SITENAME_KEYS = JSON.parse('{\"other\": \"00\", \"240x400\": \"01\", \"240x400_2\": \"02\", \"240x400_overlay\": \"03\", \"100x200\": \"04\", \"100x250\": \"05\", \"contextVertical\": \"06\", \"contextBottom\": \"07\", \"fullscreen\": \"08\", \"tgb1\": \"09\", \"tgb2\": \"10\", \"scroll2site\": \"11\", \"videoTape\": \"12\", \"mediaBanner\": \"13\", \"articleContentRoll1\": \"14\", \"articleContentRoll2\": \"15\", \"contextInListing\": \"16\", \"ViqeoEmbedSlot\": \"17\", \"kino__TgbCustom\": \"99\"}');\n",
       "\t/* формирование в слоте 978830 https://confluence.vk.team/pages/viewpage.action?pageId=746380066 */\n",
       "\tvar PAGE_SITENAME = JSON.parse('{\"other\": \"00\", \"index\": \"01\", \"search\": \"02\", \"article__social_commerce\": \"11\", \"article__commercial_promo\": \"12\", \"article__test\": \"13\", \"article__outer_news\": \"14\", \"article__inner_news\": \"15\", \"article__inner_article\": \"16\", \"article__outer_article\": \"17\", \"article__specific\": \"18\", \"article__other\": \"19\", \"article_gallery__social_commerce\": \"21\", \"article_gallery__commercial_promo\": \"22\", \"article_gallery__test\": \"23\", \"article_gallery__outer_news\": \"24\", \"article_gallery__inner_news\": \"25\", \"article_gallery__inner_article\": \"26\", \"article_gallery__outer_article\": \"27\", \"article_gallery__specific\": \"28\", \"article_gallery__other\": \"29\", \"diafilm__commercial_promo\": \"31\", \"diafilm__outer_article\": \"32\", \"diafilm__other\": \"33\", \"card__commercial_promo\": \"35\", \"card__other\": \"36\", \"collection__commercial_promo\": \"38\", \"collection__other\": \"39\", \"selection__other\": \"41\", \"selection__commercial_promo\": \"42\", \"drug__commercial_promo\": \"44\", \"drug__other\": \"45\", \"timeline__commercial_promo\": \"47\", \"timeline__other\": \"48\", \"catalog\": \"50\", \"forum\": \"51\", \"fuel\": \"52\", \"info\": \"53\", \"media\": \"54\", \"reviews\": \"55\", \"disease\": \"57\", \"drug\": \"58\", \"consultation\": \"59\", \"doctor\": \"60\", \"telemedicine\": \"61\", \"contacts\": \"62\", \"emias\": \"63\", \"symptoms\": \"64\", \"review\": \"66\", \"category\": \"67\", \"crypto\": \"68\", \"gadget\": \"69\", \"awards\": \"71\", \"cinema\": \"72\", \"person\": \"73\", \"series\": \"74\", \"stars\": \"75\", \"tv_mail_ru\": \"76\", \"hi_chef_ru\": \"78\", \"horo_mail_ru\": \"79\", \"recipe\": \"80\", \"currency\": \"82\", \"story\": \"83\", \"match\": \"86\", \"child\": \"90\"}');\n",
       "\n",
       "\tvar state = {\n",
       "\t\tsitenameBase: '000000000',\n",
       "\t\tparams: {\n",
       "\t\t\texp_id: null,\n",
       "\t\t\tplatform: null,\n",
       "\t\t\tproject: null,\n",
       "\t\t\tpage: null, \n",
       "\t\t\tblock: null\n",
       "\t\t}\n",
       "\t};\n",
       "\n",
       "\tvar PROJECT_KEYS = {\n",
       "\t\twowsale: null,\n",
       "\t\thichef: null,\n",
       "\t\tsportmail: 0,\n",
       "\t\tauto: 1,\n",
       "\t\tkino: 2,\n",
       "\t\thealth: 3,\n",
       "\t\tdeti: 4,\n",
       "\t\tlady: 4,\n",
       "\t\trealty: 4,\n",
       "\t\thitech: 5,\n",
       "\t\tnews: 6,\n",
       "\t\tpets: 7,\n",
       "\t\t/* пока нет horo отдельно от леди*/\n",
       "\t\thoro: 8,\n",
       "\t\tpogoda: 9,\n",
       "\t};\n",
       "\n",
       "\tvar PLATFORM_KEYS = {\n",
       "\t\tdesktopWeb: 3,\n",
       "\t\tmobileWeb: 4,\n",
       "\t\tdesktopWebWL: 7,\n",
       "\t\tmobileWebWL: 8,\n",
       "\t};\n",
       "\n",
       "\tvar stringEncode = (number, dimentions) => {\n",
       "\t\tvar unite = '000000000' + (number || 0).toString();\n",
       "\t\treturn unite.slice(unite.length - dimentions, unite.length);\n",
       "\t};\n",
       "\n",
       "\tvar sitenamePlatform = isAbpWhiteList ? (\n",
       "\t\tPLATFORM === '4' ? PLATFORM_KEYS.mobileWebWL : PLATFORM_KEYS.desktopWebWL\n",
       "\t) : PLATFORM;\n",
       "\n",
       "\t/**\n",
       "\t * секция для передачи в логгер/сайтнейм\n",
       "\t */\n",
       "\tvar getEntitySection = function () {\n",
       "\t\tvar location = window.location;\n",
       "\t\tvar domainKey =location.hostname.replace(/-|\\./g, '_');\n",
       "\t\tvar supportedSubdomainKey = PAGE_SITENAME.hasOwnProperty(domainKey) && domainKey;\n",
       "\n",
       "\t\treturn supportedSubdomainKey || location.pathname.split('/')[1] || 'index';\n",
       "\t};\n",
       "\n",
       "\tvar getPageKey = function (entity_type, entity_section, entity_content_subtype) {\n",
       "\t\tvar pageArray = [];\n",
       "\t\tif (entity_type !== 'other') {\n",
       "\t\t\tpageArray.push(entity_type);\n",
       "\t\t} else {\n",
       "\t\t\tpageArray.push(entity_section);\n",
       "\t\t}\n",
       "\t\tif (entity_content_subtype !== 'other') {\n",
       "\t\t\tpageArray.push(entity_content_subtype);\n",
       "\t\t}\n",
       "\t\treturn PAGE_SITENAME[pageArray.join('__')];\n",
       "\t};\n",
       "\n",
       "\t/**\n",
       "\t* формировавние sitename\n",
       "\t * @param entity_type {string} \n",
       "\t * @param entity_section {string} \n",
       "\t * @param entity_content_subtype {string} \n",
       "\t * @returns {string} сайтнейм (строка цифр всегда из 9 разрядов)\n",
       "\t */\n",
       "\tvar updateSitename = function (entity_type, entity_section, entity_content_subtype) {\n",
       "\t\tif (!PROJECT) return;\n",
       "\n",
       "\t\tvar params = {\n",
       "\t\t\texp_id: UTMApi.currentPageUTM || UTMApi.currentPageExpId,\n",
       "\t\t\tplatform: sitenamePlatform,\n",
       "\t\t\tproject: PROJECT_KEYS[PROJECT],\n",
       "\t\t\tpage: getPageKey(\n",
       "\t\t\t\tentity_type || ENTITY_TYPE,\n",
       "\t\t\t\tentity_section || getEntitySection(),\n",
       "\t\t\t\tentity_content_subtype || ENTITY_CONTENT_SUBTYPE\n",
       "\t\t\t)\n",
       "\t\t};\n",
       "\n",
       "\t\tstate.params = params;\n",
       "\t\tstate.sitenameBase = [\n",
       "\t\t\tstringEncode(params.exp_id, 3),\n",
       "\t\t\tstringEncode(params.platform, 1),\n",
       "\t\t\tstringEncode(params.project, 1),\n",
       "\t\t\tstringEncode(params.page, 2),\n",
       "\t\t\tstringEncode(null, 2)\n",
       "\t\t].join('');\n",
       "\n",
       "\t\treturn state.sitenameBase;\n",
       "\t};\n",
       "\n",
       "\t/**\n",
       "\t* формировавние sitename блока\n",
       "\t * @param block {string} \n",
       "\t * @returns {string} сайтнейм (строка цифр всегда из 9 разрядов)\n",
       "\t */\n",
       "\tvar getBlockSitename = function (blockAlias) {\n",
       "\t\tif (!PROJECT) return;\n",
       "\t\tvar params = state.params;\n",
       "\n",
       "\t\treturn [\n",
       "\t\t\tstringEncode(params.exp_id, 3),\n",
       "\t\t\tstringEncode(params.platform, 1),\n",
       "\t\t\tstringEncode(params.project, 1),\n",
       "\t\t\tstringEncode(params.page, 2),\n",
       "\t\t\tstringEncode(blockAlias && SITENAME_KEYS[blockAlias] || null, 2)\n",
       "\t\t].join('');\n",
       "\t}\n",
       "\n",
       "\tupdateSitename();\n",
       "\n",
       "\tUTMApi.sitename = {\n",
       "\t\tbase: state.sitenameBase,\n",
       "\t\tupdateSitename: updateSitename,\n",
       "\t\tgetEntitySection: getEntitySection,\n",
       "\t\tgetBlockSitename: getBlockSitename\n",
       "\t};\n",
       "})(window, UTMApi);\n",
       "</script>\n",
       "<script>\n",
       "/*\n",
       "* * * * * * * * * * * * * * * * * * * * * * * * * * \n",
       "* добавляем сайтнейм и эксперименты к вызову слотов\n",
       "* * * * * * * * * * * * * * * * * * * * * * * * * * \n",
       "*/\n",
       "(function (window, UTMApi) {\n",
       "\t'use strict';\n",
       "\tvar PROJECT =                 'news'; \n",
       "\tvar XRAY_URL =                '';\n",
       "\tvar EMAIL =                   '';\n",
       "\tvar PLATFORM =                '3' || '3'; /* дефолт - десктоп */\n",
       "\tvar ENTITY_TYPE =             '' || 'other';\n",
       "\tvar ENTITY_CONTENT_SUBTYPE =  '' || 'other';\n",
       "\tvar ENTITY_ID =               '' || '0';\n",
       "\tvar BRANDSAFETY =             '0' || '0';\n",
       "\tvar RB_SEGMENT =              'nocookie';\n",
       "\n",
       "\tvar DEVEL_XRAY_PREFIX = 'dev';\n",
       "\n",
       "\t/* формирование в слоте 979243 https://confluence.vk.team/pages/viewpage.action?pageId=746384408 */\n",
       "\tvar SLOT_KEYS = JSON.parse('{\"default\": \"\", \"240x400_overlay\": \"SlotView.GalleryAdvert\", \"100x250\": \"SlotView.36359\", \"fullscreen\": \"SlotView.Fullscreen\", \"tgb1\": \"SlotView.441924,SlotView.8558\", \"tgb2\": \"SlotView.441935\", \"scroll2site\": \"SlotView.732610\", \"videoTape\": \"SlotView.345798\", \"mediaBanner\": \"SlotView.mimic.5924\", \"articleContentRoll1\": \"SlotView.5562,Slot.5562\", \"articleContentRoll2\": \"SlotView.624506,Slot.624506\", \"partnerNews\": \"SlotView.100\", \"articleGalleryLastBanner\": \"SlotView.586902,SlotView.570032\", \"mediaExchange\": \"SlotView.6551\", \"applications\": \"SlotView.6327\", \"brandingFooter\": \"SlotView.152409\", \"promoblock\": \"SlotView.759077\"}');\n",
       "\n",
       "\twindow.componentSlotParams = window.componentSlotParams || [];\n",
       "\twindow.__slotParams = window.__slotParams || [];\n",
       "\n",
       "\tvar isDevel = /devmail\\.ru$/.test(window.location.hostname);\n",
       "\n",
       "\tvar SESSION_ID_DEFAULT = 'noSessionStorage';\n",
       "\tvar SESSION_ID_KEY = 'project_session_id';\n",
       "\n",
       "  /* сессия */\n",
       "\tvar getSessionId = function () {\n",
       "\t\tvar sessionId;\n",
       "\t\tvar sessionStorage = window.sessionStorage;\n",
       "\t\tif (\n",
       "\t\t\tsessionStorage && \n",
       "\t\t\ttypeof sessionStorage.setItem === 'function' &&\n",
       "\t\t\ttypeof sessionStorage.getItem === 'function'\n",
       "\t\t) {\n",
       "\t\t\tsessionId = sessionStorage.getItem(SESSION_ID_KEY);\n",
       "\t\t\tif (!sessionId) {\n",
       "\t\t\t\tsessionId = getRandomKey();\n",
       "\t\t\t\tsessionStorage.setItem(SESSION_ID_KEY, sessionId);\n",
       "\t\t\t}\n",
       "\t\t} else {\n",
       "\t\t\tsessionId = SESSION_ID_DEFAULT;\n",
       "\t\t}\n",
       "\t\treturn sessionId;\n",
       "\t};\n",
       "\n",
       "\t/* рандомное число */\n",
       "\tvar getRandomKey = function () {\n",
       "\t\treturn Math.floor(Math.random() * Math.pow(10,16)).toString();\n",
       "\t};\n",
       "\n",
       "\tvar dwhLoggerOptions = {\n",
       "\t\tproduct: PROJECT,\n",
       "\t\tplatform: PLATFORM,\n",
       "\t\tsession_id: getSessionId(),\n",
       "\t\tpage_view_id: getRandomKey(),\n",
       "\t\treferrer: window.document.referrer,\n",
       "\t\turl: window.location.href,\n",
       "\t\tsitename: UTMApi.sitename.base,\n",
       "\t\tsearch: window.location.search,\n",
       "\t\tutm_partner_id: UTMApi.currentPageUTM,\n",
       "\t\texp_id: UTMApi.currentPageExpId,\n",
       "\t\tentity_type: ENTITY_TYPE,\n",
       "\t\tentity_content_subtype: ENTITY_CONTENT_SUBTYPE, \n",
       "\t\tentity_section: UTMApi.sitename.getEntitySection(),\n",
       "\t\tentity_id: ENTITY_ID, \n",
       "\t\tbrandsafety: BRANDSAFETY,\n",
       "\t\trb_segment: RB_SEGMENT\n",
       "\t};\n",
       "\tvar updateLoggerOptions = function (params) {\n",
       "\t\tif (typeof params === 'object') {\n",
       "\t\t\tObject.keys(params).forEach(function(key) {\n",
       "\t\t\t\tif (dwhLoggerOptions.hasOwnProperty(key)) {\n",
       "\t\t\t\t\tdwhLoggerOptions[key] = params[key];\n",
       "\t\t\t\t}\n",
       "\t\t\t});\n",
       "\t\t}\n",
       "\t}; \n",
       "\n",
       "\twindow.xrayOptions = {\n",
       "\t\tglobal: {\n",
       "\t\t\tverbose: true,\n",
       "\t\t\txrayRadarUrl: XRAY_URL,\n",
       "\t\t\tradarPrefix: isDevel ? DEVEL_XRAY_PREFIX : null,\n",
       "\t\t\tdefaultParams: {\n",
       "\t\t\t\t\tp: PROJECT,\n",
       "\t\t\t\t\temail: EMAIL\n",
       "\t\t\t}\n",
       "\t\t},\n",
       "\t\tdwhLogger: {\n",
       "\t\t\toptions: dwhLoggerOptions,\n",
       "\t\t\tupdateLoggerOptions: updateLoggerOptions\n",
       "\t\t}\n",
       "\t};\n",
       "\n",
       "\tvar getSlotSitename = function (key) {\n",
       "\t\treturn key && UTMApi.sitename.getBlockSitename(key);\n",
       "\t};\n",
       "\n",
       "\t/* \n",
       "\t* получение параметров блока\n",
       "\t* key\n",
       "\t* viewListString\n",
       "\t*/\n",
       "\tvar getSlotKeys = function (key, viewListString) {\n",
       "\t\tvar result = [];\n",
       "\n",
       "\t\tif (viewListString) {\n",
       "\t\t\tvar slotString = viewListString.replace(/\\s+/g, '');\n",
       "\t\t\tvar slotArray = slotString.split(',');\n",
       "\n",
       "\t\t\tif (slotArray.length) {\n",
       "\t\t\t\tslotArray.map(function(slotView){\n",
       "\t\t\t\t\tif (slotView) {\n",
       "\t\t\t\t\t\tresult.push({\n",
       "\t\t\t\t\t\t\tview: slotView,\n",
       "\t\t\t\t\t\t\tsitename: getSlotSitename(key),\n",
       "\t\t\t\t\t\t\telementType: key\n",
       "\t\t\t\t\t\t})\n",
       "\t\t\t\t\t}\n",
       "\t\t\t\t});\n",
       "\t\t\t}\n",
       "\n",
       "\t\t\treturn result;\n",
       "\t\t}\n",
       "\t};\n",
       "\t\n",
       "\t/* id экспериментов */\n",
       "\tvar getSlotParmas = function () {\n",
       "\t  var experimentID = UTMApi.currentPageUTM || UTMApi.currentPageExpId;\n",
       "\t  var slotParams = {\n",
       "\t\t\tsitename: (UTMApi.sitename || {}).base\n",
       "\t\t};\n",
       "\t\tif (experimentID) {\n",
       "\t\t\tslotParams.exp_id = experimentID;\n",
       "\t\t\tslotParams.test_id = experimentID;\n",
       "\t\t}\n",
       "\t\treturn slotParams;\n",
       "\t};\n",
       "\n",
       "\tvar params = [{\n",
       "\t\tname: 'SlotView',\n",
       "\t\tparams: {\n",
       "\t\t\toptions: {\n",
       "\t\t\t\tslot: getSlotParmas()\n",
       "\t\t\t}\n",
       "\t\t}\n",
       "\t}];\n",
       "\n",
       "\t// формируем параметры слотов (уникальный ключ логгера и сайтнейм)\n",
       "\tObject.keys(SLOT_KEYS).map(function(key){\n",
       "\t\tvar slotKeys = getSlotKeys(key, SLOT_KEYS[key]);\n",
       "\t\tif (slotKeys && slotKeys.length) {\n",
       "\t\t\tslotKeys.forEach(function(item) {\n",
       "\t\t\t\tparams.push({\n",
       "\t\t\t\t\tname: item.view,\n",
       "\t\t\t\t\tparams: {\n",
       "\t\t\t\t\t\toptions: {\n",
       "\t\t\t\t\t\t\tslot: {\n",
       "\t\t\t\t\t\t\t\tsitename: item.sitename\n",
       "\t\t\t\t\t\t\t},\n",
       "\t\t\t\t\t\t\tdwhLogger: {\n",
       "\t\t\t\t\t\t\t\tsitename: item.sitename,\n",
       "\t\t\t\t\t\t\t\telement_type: item.elementType\n",
       "\t\t\t\t\t\t\t}\n",
       "\t\t\t\t\t\t}\n",
       "\t\t\t\t\t}\n",
       "\t\t\t\t});\n",
       "\t\t\t})\n",
       "\t\t}\n",
       "\t});\n",
       "\n",
       "\twindow.componentSlotParams = window.componentSlotParams.concat(params);\n",
       "\twindow.__slotParams = window.__slotParams.concat(params);\n",
       "\n",
       "})(window, window.UTMApi || {});\n",
       "</script>\n",
       "<!-- //rb/946848?_SITEID=29 --><div class=\"js-module js-article-swipe__slot-reload\" data-id=\"987304\" data-module=\"SlotModel\" data-view=\"SlotView.987304\"></div><!-- /rb/3 -->\n",
       "<script type=\"text/javascript\">\n",
       "//<![CDATA[\n",
       "(function(w, d) {\n",
       "        if (w.rb_counter) return;\n",
       "        function h() {\n",
       "                var n, a = arguments;\n",
       "                for(var i=a.length;i--;){\n",
       "                        n = a[i].split(',');\n",
       "                        for(var j=n.length;j--;){\n",
       "                                c(n[j]);\n",
       "                        }\n",
       "                }\n",
       "        }\n",
       "        function c(n) {\n",
       "                var m, r = parseInt(Math.random()*1E9), s;\n",
       "                if (!(m = n.match(/^(?:cl([bn])|([adgin]))(\\d+)(?:sz(\\d+))?/))) return;\n",
       "                if (m[1]) {\n",
       "                        s = \"s\" + m[1];\n",
       "                }\n",
       "                else if(m[2] == \"n\") {\n",
       "                        s = \"nc\";\n",
       "                }\n",
       "                else if(m[2]==\"i\") {\n",
       "                        r = null;\n",
       "                        s = m[2];\n",
       "                }\n",
       "                else {\n",
       "                        s = m[2];\n",
       "                }\n",
       "                s += m[3] + \".gif?\";\n",
       "                if (m[4]) s += \"sz=\" + m[4];\n",
       "                if (r) s += \"&rnd=\" + r;\n",
       "                (new Image).src = \"//rs.mail.ru/\" + s;\n",
       "        }\n",
       "        (function(o, e, fn) {\n",
       "                if (o.addEventListener) o.addEventListener(e, fn, false);\n",
       "                else if (o.attachEvent) o.attachEvent('on' + e, fn);\n",
       "                else o['on' + e] = fn;\n",
       "        })(d, 'mousedown', function(e) {\n",
       "                var n;\n",
       "                e = e || w.event;\n",
       "                e = e.target || e.srcElement;\n",
       "                while (e.parentNode){\n",
       "                        if (e.getAttribute && (n = e.getAttribute('name')) && (n = n.toString())){\n",
       "                                h(n);\n",
       "                        }\n",
       "                        e = e.parentNode;\n",
       "                }\n",
       "        });\n",
       "        w.rb_counter = h;\n",
       "})(window, document);\n",
       "//]]>\n",
       "</script>\n",
       "<img alt=\"\" src=\"//an.mail.ru/count/U_4amautHtK505u0488WCPTsrL400000O9WBSFJqW908a042m042s06AXnte0O01y0ACkfAo1h030g06gWF91hi-4Mkr5qq5gGU6her73VSAJj070l8D0FeD088E0000\" style=\"width:0;height:0;position:absolute;visibility:hidden;\"/>\n",
       "<script type=\"text/javascript\">\n",
       "try {\n",
       "    (function(global, name, url) {\n",
       "        url = url || '//r3.mail.ru/j/';\n",
       "        var yaads = global[name] || [];\n",
       "        global.yaads_rb_logs = global.yaads_rb_logs || {};\n",
       "        function get_charmap() {\n",
       "            var exceptions = [34, 35, 37, 47, 60, 62, 63, 75, 91, 92, 93, 94, 96, 107, 123, 124, 125];\n",
       "            var charmap = {\n",
       "                46: 33, //. => !\n",
       "                45: 36, //- => $\n",
       "                32: 40 //  => (\n",
       "            }\n",
       "            var fbc = [38, 39, 43, 61, 126];\n",
       "            /*[\"&\", \"'\", \"+\", \"=\", \"~\"] - some browsers uses percent-encoding for this symbols, but we stil can use it in charmap for any rare thing. NB! ~ (126) is used as field separator*/\n",
       "\n",
       "            var not_avaliable = exceptions.concat(fbc);\n",
       "            for (var k in charmap) {\n",
       "                not_avaliable.push(charmap[k]);\n",
       "            }\n",
       "\n",
       "            var code = 33;\n",
       "\n",
       "            function get_code() {\n",
       "                while (code < 127 && not_avaliable.indexOf(code) >= 0) {\n",
       "                    code += 1;\n",
       "                }\n",
       "                return code++;\n",
       "            }\n",
       "\n",
       "            var ranges = [\n",
       "                [48, 58], // - digits\n",
       "                [97, 123], // - latin\n",
       "                [1072, 1104], // - russian\n",
       "                [1105, 1106] // russian \"ё\"\n",
       "            ];\n",
       "\n",
       "            for (var i = 0; i < ranges.length; i++) {\n",
       "                var s = ranges[i][0],\n",
       "                    f = ranges[i][1];\n",
       "                while (s < f) {\n",
       "                    charmap[s] = get_code();\n",
       "                    if (!charmap[s]) throw new Error('can\\'t encode character ' + String.fromCharCode(s) + '(' + s + ')');\n",
       "                    s++;\n",
       "                }\n",
       "            }\n",
       "            return charmap;\n",
       "        }\n",
       "        function encodeStr(str, charmap) {\n",
       "            var unknown = 32;\n",
       "            var replacements = [\n",
       "                [/\\s/g, ' ']\n",
       "            ];\n",
       "            str = str.toLowerCase();\n",
       "            for (var i = 0; i < replacements.length; i++) {\n",
       "                str = str.replace.apply(str, replacements[i]);\n",
       "            }\n",
       "            var coded = [];\n",
       "            for (var i = 0, l = str.length; i < l; i++) {\n",
       "                var c = str.charCodeAt(i);\n",
       "                c = charmap[c] ? charmap[c] : charmap[unknown];\n",
       "                coded[i] = String.fromCharCode(c);\n",
       "            }\n",
       "            return coded.join('');\n",
       "        }\n",
       "        function getUrlLogItem(data) {\n",
       "            var charmap = get_charmap();\n",
       "            var title = data.assets.filter(function(ob) {\n",
       "                return ob.title;\n",
       "            }).pop();\n",
       "            title = title && title.title && title.title.value || '';\n",
       "            var text = data.assets.filter(function(ob) {\n",
       "                return ob.data && ob.ext && ob.ext.type === 2;\n",
       "            }).pop();\n",
       "            text = text && text.data && text.data.value || '';\n",
       "            var domain = data.assets.filter(function(ob) {\n",
       "                return ob.data && ob.ext && ob.ext.type === 11;\n",
       "            }).pop();\n",
       "            domain = domain && domain.data.value || '';\n",
       "            if (!title || !text || !domain) {\n",
       "                return '';\n",
       "            }\n",
       "            return [encodeStr(domain, charmap), encodeStr(title, charmap), encodeStr(text, charmap)].join(String.fromCharCode('126'));\n",
       "        }\n",
       "        function setLogs(data, newAdIds) {\n",
       "            var adItems = [];\n",
       "            for (var a = 0; a < data.adIds.length; a++) {\n",
       "                if (newAdIds.indexOf(data.adIds[a]) !== -1) {\n",
       "                    adItems.push(data.bid[a]);\n",
       "                }\n",
       "            }\n",
       "            var bound = (2083 - url.length);\n",
       "            var l = 0;\n",
       "            var ind = 0;\n",
       "            var ads = [];\n",
       "            while (ind < adItems.length && l < bound) {\n",
       "                var adItem = adItems[ind];\n",
       "                var itemData = adItem.adm.native;\n",
       "                /*if (!!itemData.adType || adItems.length === 1) {*/\n",
       "                    // у единственного в массиве нет adType, но уже отсеяли выше по adIds\n",
       "                    var str = getUrlLogItem(itemData);\n",
       "\n",
       "                    l += str.length;\n",
       "                    if (l > bound) break;\n",
       "                    if (!!str) {\n",
       "                        ads.push(str);\n",
       "                    }\n",
       "                /*}*/\n",
       "                ind++;\n",
       "            }\n",
       "            // console.log(url + ads.join('/'));\n",
       "            new Image().src = url + ads.join('/');\n",
       "        }\n",
       "\n",
       "        Object.defineProperty(window, 'yaads', {\n",
       "            get: function() { return yaads; },\n",
       "            set: function(newYaads) {\n",
       "                if (newYaads.callSuccessCb) {\n",
       "                    var oldCS = newYaads.callSuccessCb;\n",
       "                    newYaads.callSuccessCb = function(t) {\n",
       "                        // console.log('Render data', t);\n",
       "                        var seatbidData = t.data.seatbid;\n",
       "                        var idInLogs = global.yaads_rb_logs.hasOwnProperty(t.id);\n",
       "                        var globalItemadIds = idInLogs ? global.yaads_rb_logs[t.id].adIds : [];\n",
       "                        var newAdsIds = [];\n",
       "                        var adIds = seatbidData[0].adIds;\n",
       "                        if (adIds && adIds.length) {\n",
       "                            for (var arrInd = 0; arrInd < adIds.length; arrInd++) {\n",
       "                                if (globalItemadIds.indexOf(adIds[arrInd]) === -1) {\n",
       "                                    newAdsIds.push(adIds[arrInd]);\n",
       "                                }\n",
       "                            }\n",
       "                        }\n",
       "\n",
       "                        if (!!newAdsIds.length) {\n",
       "                            setLogs(seatbidData[0], newAdsIds);\n",
       "                            if (!idInLogs) {\n",
       "                                global.yaads_rb_logs[t.id] = {};\n",
       "                            }\n",
       "                            global.yaads_rb_logs[t.id]['id'] = t.id;\n",
       "                            global.yaads_rb_logs[t.id]['adIds'] = globalItemadIds.concat(newAdsIds);\n",
       "                        }\n",
       "                        oldCS.call(newYaads, t);\n",
       "                    }\n",
       "                }\n",
       "                yaads = newYaads;\n",
       "                // console.log('Try set yaads:', newYaads)\n",
       "            },\n",
       "            enumerable: true,\n",
       "            configurable: true\n",
       "        });\n",
       "    })(this, \"yaads\");\n",
       "\n",
       "} catch (e) {\n",
       "    try {\n",
       "        // console.log('//r3.mail.ru/j/error/' + e.message);\n",
       "        new Image().src = '//r3.mail.ru/j/error/?t=' + new Date().getTime() + '&e=' + encodeURIComponent(e.name) + '&m=' + encodeURIComponent(e.message)\n",
       "    } catch (e) {}\n",
       "}\n",
       "</script><!-- //rb/3 --><div id=\"rlimit-root\"></div><script defer=\"\" src=\"//mcdn.imgsmail.ru/js/jquery/3.4.1/jquery-3.4.1.min.js\"></script><script defer=\"\" src=\"/-/d0d66c40/js/cmpld/news/web/fast-slot.js\"></script><script defer=\"\" src=\"/-/1eb43fc6/js/cmpld/news/web/base.js\"></script><script defer=\"\" src=\"/-/8243c319/js/cmpld/news/web/common.js\"></script><script defer=\"\" src=\"/-/db76a5a7/js/cmpld/react/vendor-react.js\"></script><script defer=\"\" src=\"/-/b4b6058a/js/cmpld/react/media.js\"></script><script defer=\"\" src=\"/-/a6f89480/js/cmpld/react/common-style.js\"></script><script defer=\"\" src=\"/-/474a10a9/js/cmpld/react/common/SubscriptionForm/client.js\"></script><script defer=\"\" src=\"/-/9c86a50c/js/cmpld/react/common/RlimitApp/client.js\"></script><script defer=\"\" src=\"/-/2cf68f98/js/cmpld/react/common/AudioWeb/client.js\"></script></body></html>"
      ]
     },
     "execution_count": 57,
     "metadata": {},
     "output_type": "execute_result"
    }
   ],
   "source": [
    "import requests\n",
    "result = requests.get(\"https://news.mail.ru/\")\n",
    "html = result.text\n",
    "soup = BeautifulSoup(html, 'lxml')\n",
    "soup"
   ]
  },
  {
   "cell_type": "code",
   "execution_count": 61,
   "metadata": {},
   "outputs": [
    {
     "data": {
      "text/plain": [
       "[]"
      ]
     },
     "execution_count": 61,
     "metadata": {},
     "output_type": "execute_result"
    }
   ],
   "source": [
    "[\n",
    "    sections.string for section in soup.find_all('span', \"h\")\n",
    "]"
   ]
  },
  {
   "cell_type": "code",
   "execution_count": null,
   "metadata": {},
   "outputs": [],
   "source": []
  }
 ],
 "metadata": {
  "kernelspec": {
   "display_name": "Python 3",
   "language": "python",
   "name": "python3"
  },
  "language_info": {
   "codemirror_mode": {
    "name": "ipython",
    "version": 3
   },
   "file_extension": ".py",
   "mimetype": "text/x-python",
   "name": "python",
   "nbconvert_exporter": "python",
   "pygments_lexer": "ipython3",
   "version": "3.8.5"
  }
 },
 "nbformat": 4,
 "nbformat_minor": 4
}
